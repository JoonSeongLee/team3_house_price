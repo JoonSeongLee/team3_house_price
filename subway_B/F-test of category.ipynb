{
 "cells": [
  {
   "cell_type": "code",
   "execution_count": 1,
   "metadata": {},
   "outputs": [
    {
     "data": {
      "text/html": [
       "<div>\n",
       "<style scoped>\n",
       "    .dataframe tbody tr th:only-of-type {\n",
       "        vertical-align: middle;\n",
       "    }\n",
       "\n",
       "    .dataframe tbody tr th {\n",
       "        vertical-align: top;\n",
       "    }\n",
       "\n",
       "    .dataframe thead th {\n",
       "        text-align: right;\n",
       "    }\n",
       "</style>\n",
       "<table border=\"1\" class=\"dataframe\">\n",
       "  <thead>\n",
       "    <tr style=\"text-align: right;\">\n",
       "      <th></th>\n",
       "      <th>Id</th>\n",
       "      <th>MSSubClass</th>\n",
       "      <th>LotFrontage</th>\n",
       "      <th>LotArea</th>\n",
       "      <th>OverallQual</th>\n",
       "      <th>OverallCond</th>\n",
       "      <th>YearBuilt</th>\n",
       "      <th>YearRemodAdd</th>\n",
       "      <th>MasVnrArea</th>\n",
       "      <th>BsmtFinSF1</th>\n",
       "      <th>BsmtFinSF2</th>\n",
       "      <th>BsmtUnfSF</th>\n",
       "      <th>TotalBsmtSF</th>\n",
       "      <th>1stFlrSF</th>\n",
       "      <th>2ndFlrSF</th>\n",
       "      <th>LowQualFinSF</th>\n",
       "      <th>GrLivArea</th>\n",
       "      <th>BsmtFullBath</th>\n",
       "      <th>BsmtHalfBath</th>\n",
       "      <th>FullBath</th>\n",
       "      <th>HalfBath</th>\n",
       "      <th>BedroomAbvGr</th>\n",
       "      <th>KitchenAbvGr</th>\n",
       "      <th>TotRmsAbvGrd</th>\n",
       "      <th>Fireplaces</th>\n",
       "      <th>GarageYrBlt</th>\n",
       "      <th>GarageCars</th>\n",
       "      <th>GarageArea</th>\n",
       "      <th>WoodDeckSF</th>\n",
       "      <th>OpenPorchSF</th>\n",
       "      <th>EnclosedPorch</th>\n",
       "      <th>3SsnPorch</th>\n",
       "      <th>ScreenPorch</th>\n",
       "      <th>PoolArea</th>\n",
       "      <th>MiscVal</th>\n",
       "      <th>MoSold</th>\n",
       "      <th>YrSold</th>\n",
       "      <th>SalePrice</th>\n",
       "    </tr>\n",
       "  </thead>\n",
       "  <tbody>\n",
       "    <tr>\n",
       "      <th>count</th>\n",
       "      <td>1460.000000</td>\n",
       "      <td>1460.000000</td>\n",
       "      <td>1201.000000</td>\n",
       "      <td>1460.000000</td>\n",
       "      <td>1460.000000</td>\n",
       "      <td>1460.000000</td>\n",
       "      <td>1460.000000</td>\n",
       "      <td>1460.000000</td>\n",
       "      <td>1452.000000</td>\n",
       "      <td>1460.000000</td>\n",
       "      <td>1460.000000</td>\n",
       "      <td>1460.000000</td>\n",
       "      <td>1460.000000</td>\n",
       "      <td>1460.000000</td>\n",
       "      <td>1460.000000</td>\n",
       "      <td>1460.000000</td>\n",
       "      <td>1460.000000</td>\n",
       "      <td>1460.000000</td>\n",
       "      <td>1460.000000</td>\n",
       "      <td>1460.000000</td>\n",
       "      <td>1460.000000</td>\n",
       "      <td>1460.000000</td>\n",
       "      <td>1460.000000</td>\n",
       "      <td>1460.000000</td>\n",
       "      <td>1460.000000</td>\n",
       "      <td>1379.000000</td>\n",
       "      <td>1460.000000</td>\n",
       "      <td>1460.000000</td>\n",
       "      <td>1460.000000</td>\n",
       "      <td>1460.000000</td>\n",
       "      <td>1460.000000</td>\n",
       "      <td>1460.000000</td>\n",
       "      <td>1460.000000</td>\n",
       "      <td>1460.000000</td>\n",
       "      <td>1460.000000</td>\n",
       "      <td>1460.000000</td>\n",
       "      <td>1460.000000</td>\n",
       "      <td>1460.000000</td>\n",
       "    </tr>\n",
       "    <tr>\n",
       "      <th>mean</th>\n",
       "      <td>730.500000</td>\n",
       "      <td>56.897260</td>\n",
       "      <td>70.049958</td>\n",
       "      <td>10516.828082</td>\n",
       "      <td>6.099315</td>\n",
       "      <td>5.575342</td>\n",
       "      <td>1971.267808</td>\n",
       "      <td>1984.865753</td>\n",
       "      <td>103.685262</td>\n",
       "      <td>443.639726</td>\n",
       "      <td>46.549315</td>\n",
       "      <td>567.240411</td>\n",
       "      <td>1057.429452</td>\n",
       "      <td>1162.626712</td>\n",
       "      <td>346.992466</td>\n",
       "      <td>5.844521</td>\n",
       "      <td>1515.463699</td>\n",
       "      <td>0.425342</td>\n",
       "      <td>0.057534</td>\n",
       "      <td>1.565068</td>\n",
       "      <td>0.382877</td>\n",
       "      <td>2.866438</td>\n",
       "      <td>1.046575</td>\n",
       "      <td>6.517808</td>\n",
       "      <td>0.613014</td>\n",
       "      <td>1978.506164</td>\n",
       "      <td>1.767123</td>\n",
       "      <td>472.980137</td>\n",
       "      <td>94.244521</td>\n",
       "      <td>46.660274</td>\n",
       "      <td>21.954110</td>\n",
       "      <td>3.409589</td>\n",
       "      <td>15.060959</td>\n",
       "      <td>2.758904</td>\n",
       "      <td>43.489041</td>\n",
       "      <td>6.321918</td>\n",
       "      <td>2007.815753</td>\n",
       "      <td>180921.195890</td>\n",
       "    </tr>\n",
       "    <tr>\n",
       "      <th>std</th>\n",
       "      <td>421.610009</td>\n",
       "      <td>42.300571</td>\n",
       "      <td>24.284752</td>\n",
       "      <td>9981.264932</td>\n",
       "      <td>1.382997</td>\n",
       "      <td>1.112799</td>\n",
       "      <td>30.202904</td>\n",
       "      <td>20.645407</td>\n",
       "      <td>181.066207</td>\n",
       "      <td>456.098091</td>\n",
       "      <td>161.319273</td>\n",
       "      <td>441.866955</td>\n",
       "      <td>438.705324</td>\n",
       "      <td>386.587738</td>\n",
       "      <td>436.528436</td>\n",
       "      <td>48.623081</td>\n",
       "      <td>525.480383</td>\n",
       "      <td>0.518911</td>\n",
       "      <td>0.238753</td>\n",
       "      <td>0.550916</td>\n",
       "      <td>0.502885</td>\n",
       "      <td>0.815778</td>\n",
       "      <td>0.220338</td>\n",
       "      <td>1.625393</td>\n",
       "      <td>0.644666</td>\n",
       "      <td>24.689725</td>\n",
       "      <td>0.747315</td>\n",
       "      <td>213.804841</td>\n",
       "      <td>125.338794</td>\n",
       "      <td>66.256028</td>\n",
       "      <td>61.119149</td>\n",
       "      <td>29.317331</td>\n",
       "      <td>55.757415</td>\n",
       "      <td>40.177307</td>\n",
       "      <td>496.123024</td>\n",
       "      <td>2.703626</td>\n",
       "      <td>1.328095</td>\n",
       "      <td>79442.502883</td>\n",
       "    </tr>\n",
       "    <tr>\n",
       "      <th>min</th>\n",
       "      <td>1.000000</td>\n",
       "      <td>20.000000</td>\n",
       "      <td>21.000000</td>\n",
       "      <td>1300.000000</td>\n",
       "      <td>1.000000</td>\n",
       "      <td>1.000000</td>\n",
       "      <td>1872.000000</td>\n",
       "      <td>1950.000000</td>\n",
       "      <td>0.000000</td>\n",
       "      <td>0.000000</td>\n",
       "      <td>0.000000</td>\n",
       "      <td>0.000000</td>\n",
       "      <td>0.000000</td>\n",
       "      <td>334.000000</td>\n",
       "      <td>0.000000</td>\n",
       "      <td>0.000000</td>\n",
       "      <td>334.000000</td>\n",
       "      <td>0.000000</td>\n",
       "      <td>0.000000</td>\n",
       "      <td>0.000000</td>\n",
       "      <td>0.000000</td>\n",
       "      <td>0.000000</td>\n",
       "      <td>0.000000</td>\n",
       "      <td>2.000000</td>\n",
       "      <td>0.000000</td>\n",
       "      <td>1900.000000</td>\n",
       "      <td>0.000000</td>\n",
       "      <td>0.000000</td>\n",
       "      <td>0.000000</td>\n",
       "      <td>0.000000</td>\n",
       "      <td>0.000000</td>\n",
       "      <td>0.000000</td>\n",
       "      <td>0.000000</td>\n",
       "      <td>0.000000</td>\n",
       "      <td>0.000000</td>\n",
       "      <td>1.000000</td>\n",
       "      <td>2006.000000</td>\n",
       "      <td>34900.000000</td>\n",
       "    </tr>\n",
       "    <tr>\n",
       "      <th>25%</th>\n",
       "      <td>365.750000</td>\n",
       "      <td>20.000000</td>\n",
       "      <td>59.000000</td>\n",
       "      <td>7553.500000</td>\n",
       "      <td>5.000000</td>\n",
       "      <td>5.000000</td>\n",
       "      <td>1954.000000</td>\n",
       "      <td>1967.000000</td>\n",
       "      <td>0.000000</td>\n",
       "      <td>0.000000</td>\n",
       "      <td>0.000000</td>\n",
       "      <td>223.000000</td>\n",
       "      <td>795.750000</td>\n",
       "      <td>882.000000</td>\n",
       "      <td>0.000000</td>\n",
       "      <td>0.000000</td>\n",
       "      <td>1129.500000</td>\n",
       "      <td>0.000000</td>\n",
       "      <td>0.000000</td>\n",
       "      <td>1.000000</td>\n",
       "      <td>0.000000</td>\n",
       "      <td>2.000000</td>\n",
       "      <td>1.000000</td>\n",
       "      <td>5.000000</td>\n",
       "      <td>0.000000</td>\n",
       "      <td>1961.000000</td>\n",
       "      <td>1.000000</td>\n",
       "      <td>334.500000</td>\n",
       "      <td>0.000000</td>\n",
       "      <td>0.000000</td>\n",
       "      <td>0.000000</td>\n",
       "      <td>0.000000</td>\n",
       "      <td>0.000000</td>\n",
       "      <td>0.000000</td>\n",
       "      <td>0.000000</td>\n",
       "      <td>5.000000</td>\n",
       "      <td>2007.000000</td>\n",
       "      <td>129975.000000</td>\n",
       "    </tr>\n",
       "    <tr>\n",
       "      <th>50%</th>\n",
       "      <td>730.500000</td>\n",
       "      <td>50.000000</td>\n",
       "      <td>69.000000</td>\n",
       "      <td>9478.500000</td>\n",
       "      <td>6.000000</td>\n",
       "      <td>5.000000</td>\n",
       "      <td>1973.000000</td>\n",
       "      <td>1994.000000</td>\n",
       "      <td>0.000000</td>\n",
       "      <td>383.500000</td>\n",
       "      <td>0.000000</td>\n",
       "      <td>477.500000</td>\n",
       "      <td>991.500000</td>\n",
       "      <td>1087.000000</td>\n",
       "      <td>0.000000</td>\n",
       "      <td>0.000000</td>\n",
       "      <td>1464.000000</td>\n",
       "      <td>0.000000</td>\n",
       "      <td>0.000000</td>\n",
       "      <td>2.000000</td>\n",
       "      <td>0.000000</td>\n",
       "      <td>3.000000</td>\n",
       "      <td>1.000000</td>\n",
       "      <td>6.000000</td>\n",
       "      <td>1.000000</td>\n",
       "      <td>1980.000000</td>\n",
       "      <td>2.000000</td>\n",
       "      <td>480.000000</td>\n",
       "      <td>0.000000</td>\n",
       "      <td>25.000000</td>\n",
       "      <td>0.000000</td>\n",
       "      <td>0.000000</td>\n",
       "      <td>0.000000</td>\n",
       "      <td>0.000000</td>\n",
       "      <td>0.000000</td>\n",
       "      <td>6.000000</td>\n",
       "      <td>2008.000000</td>\n",
       "      <td>163000.000000</td>\n",
       "    </tr>\n",
       "    <tr>\n",
       "      <th>75%</th>\n",
       "      <td>1095.250000</td>\n",
       "      <td>70.000000</td>\n",
       "      <td>80.000000</td>\n",
       "      <td>11601.500000</td>\n",
       "      <td>7.000000</td>\n",
       "      <td>6.000000</td>\n",
       "      <td>2000.000000</td>\n",
       "      <td>2004.000000</td>\n",
       "      <td>166.000000</td>\n",
       "      <td>712.250000</td>\n",
       "      <td>0.000000</td>\n",
       "      <td>808.000000</td>\n",
       "      <td>1298.250000</td>\n",
       "      <td>1391.250000</td>\n",
       "      <td>728.000000</td>\n",
       "      <td>0.000000</td>\n",
       "      <td>1776.750000</td>\n",
       "      <td>1.000000</td>\n",
       "      <td>0.000000</td>\n",
       "      <td>2.000000</td>\n",
       "      <td>1.000000</td>\n",
       "      <td>3.000000</td>\n",
       "      <td>1.000000</td>\n",
       "      <td>7.000000</td>\n",
       "      <td>1.000000</td>\n",
       "      <td>2002.000000</td>\n",
       "      <td>2.000000</td>\n",
       "      <td>576.000000</td>\n",
       "      <td>168.000000</td>\n",
       "      <td>68.000000</td>\n",
       "      <td>0.000000</td>\n",
       "      <td>0.000000</td>\n",
       "      <td>0.000000</td>\n",
       "      <td>0.000000</td>\n",
       "      <td>0.000000</td>\n",
       "      <td>8.000000</td>\n",
       "      <td>2009.000000</td>\n",
       "      <td>214000.000000</td>\n",
       "    </tr>\n",
       "    <tr>\n",
       "      <th>max</th>\n",
       "      <td>1460.000000</td>\n",
       "      <td>190.000000</td>\n",
       "      <td>313.000000</td>\n",
       "      <td>215245.000000</td>\n",
       "      <td>10.000000</td>\n",
       "      <td>9.000000</td>\n",
       "      <td>2010.000000</td>\n",
       "      <td>2010.000000</td>\n",
       "      <td>1600.000000</td>\n",
       "      <td>5644.000000</td>\n",
       "      <td>1474.000000</td>\n",
       "      <td>2336.000000</td>\n",
       "      <td>6110.000000</td>\n",
       "      <td>4692.000000</td>\n",
       "      <td>2065.000000</td>\n",
       "      <td>572.000000</td>\n",
       "      <td>5642.000000</td>\n",
       "      <td>3.000000</td>\n",
       "      <td>2.000000</td>\n",
       "      <td>3.000000</td>\n",
       "      <td>2.000000</td>\n",
       "      <td>8.000000</td>\n",
       "      <td>3.000000</td>\n",
       "      <td>14.000000</td>\n",
       "      <td>3.000000</td>\n",
       "      <td>2010.000000</td>\n",
       "      <td>4.000000</td>\n",
       "      <td>1418.000000</td>\n",
       "      <td>857.000000</td>\n",
       "      <td>547.000000</td>\n",
       "      <td>552.000000</td>\n",
       "      <td>508.000000</td>\n",
       "      <td>480.000000</td>\n",
       "      <td>738.000000</td>\n",
       "      <td>15500.000000</td>\n",
       "      <td>12.000000</td>\n",
       "      <td>2010.000000</td>\n",
       "      <td>755000.000000</td>\n",
       "    </tr>\n",
       "  </tbody>\n",
       "</table>\n",
       "</div>"
      ],
      "text/plain": [
       "                Id   MSSubClass  LotFrontage        LotArea  OverallQual  OverallCond    YearBuilt  YearRemodAdd   MasVnrArea   BsmtFinSF1   BsmtFinSF2    BsmtUnfSF  TotalBsmtSF     1stFlrSF     2ndFlrSF  LowQualFinSF    GrLivArea  BsmtFullBath  BsmtHalfBath     FullBath     HalfBath  BedroomAbvGr  KitchenAbvGr  TotRmsAbvGrd   Fireplaces  GarageYrBlt   GarageCars   GarageArea   WoodDeckSF  OpenPorchSF  EnclosedPorch    3SsnPorch  ScreenPorch     PoolArea       MiscVal       MoSold  \\\n",
       "count  1460.000000  1460.000000  1201.000000    1460.000000  1460.000000  1460.000000  1460.000000   1460.000000  1452.000000  1460.000000  1460.000000  1460.000000  1460.000000  1460.000000  1460.000000   1460.000000  1460.000000   1460.000000   1460.000000  1460.000000  1460.000000   1460.000000   1460.000000   1460.000000  1460.000000  1379.000000  1460.000000  1460.000000  1460.000000  1460.000000    1460.000000  1460.000000  1460.000000  1460.000000   1460.000000  1460.000000   \n",
       "mean    730.500000    56.897260    70.049958   10516.828082     6.099315     5.575342  1971.267808   1984.865753   103.685262   443.639726    46.549315   567.240411  1057.429452  1162.626712   346.992466      5.844521  1515.463699      0.425342      0.057534     1.565068     0.382877      2.866438      1.046575      6.517808     0.613014  1978.506164     1.767123   472.980137    94.244521    46.660274      21.954110     3.409589    15.060959     2.758904     43.489041     6.321918   \n",
       "std     421.610009    42.300571    24.284752    9981.264932     1.382997     1.112799    30.202904     20.645407   181.066207   456.098091   161.319273   441.866955   438.705324   386.587738   436.528436     48.623081   525.480383      0.518911      0.238753     0.550916     0.502885      0.815778      0.220338      1.625393     0.644666    24.689725     0.747315   213.804841   125.338794    66.256028      61.119149    29.317331    55.757415    40.177307    496.123024     2.703626   \n",
       "min       1.000000    20.000000    21.000000    1300.000000     1.000000     1.000000  1872.000000   1950.000000     0.000000     0.000000     0.000000     0.000000     0.000000   334.000000     0.000000      0.000000   334.000000      0.000000      0.000000     0.000000     0.000000      0.000000      0.000000      2.000000     0.000000  1900.000000     0.000000     0.000000     0.000000     0.000000       0.000000     0.000000     0.000000     0.000000      0.000000     1.000000   \n",
       "25%     365.750000    20.000000    59.000000    7553.500000     5.000000     5.000000  1954.000000   1967.000000     0.000000     0.000000     0.000000   223.000000   795.750000   882.000000     0.000000      0.000000  1129.500000      0.000000      0.000000     1.000000     0.000000      2.000000      1.000000      5.000000     0.000000  1961.000000     1.000000   334.500000     0.000000     0.000000       0.000000     0.000000     0.000000     0.000000      0.000000     5.000000   \n",
       "50%     730.500000    50.000000    69.000000    9478.500000     6.000000     5.000000  1973.000000   1994.000000     0.000000   383.500000     0.000000   477.500000   991.500000  1087.000000     0.000000      0.000000  1464.000000      0.000000      0.000000     2.000000     0.000000      3.000000      1.000000      6.000000     1.000000  1980.000000     2.000000   480.000000     0.000000    25.000000       0.000000     0.000000     0.000000     0.000000      0.000000     6.000000   \n",
       "75%    1095.250000    70.000000    80.000000   11601.500000     7.000000     6.000000  2000.000000   2004.000000   166.000000   712.250000     0.000000   808.000000  1298.250000  1391.250000   728.000000      0.000000  1776.750000      1.000000      0.000000     2.000000     1.000000      3.000000      1.000000      7.000000     1.000000  2002.000000     2.000000   576.000000   168.000000    68.000000       0.000000     0.000000     0.000000     0.000000      0.000000     8.000000   \n",
       "max    1460.000000   190.000000   313.000000  215245.000000    10.000000     9.000000  2010.000000   2010.000000  1600.000000  5644.000000  1474.000000  2336.000000  6110.000000  4692.000000  2065.000000    572.000000  5642.000000      3.000000      2.000000     3.000000     2.000000      8.000000      3.000000     14.000000     3.000000  2010.000000     4.000000  1418.000000   857.000000   547.000000     552.000000   508.000000   480.000000   738.000000  15500.000000    12.000000   \n",
       "\n",
       "            YrSold      SalePrice  \n",
       "count  1460.000000    1460.000000  \n",
       "mean   2007.815753  180921.195890  \n",
       "std       1.328095   79442.502883  \n",
       "min    2006.000000   34900.000000  \n",
       "25%    2007.000000  129975.000000  \n",
       "50%    2008.000000  163000.000000  \n",
       "75%    2009.000000  214000.000000  \n",
       "max    2010.000000  755000.000000  "
      ]
     },
     "execution_count": 1,
     "metadata": {},
     "output_type": "execute_result"
    }
   ],
   "source": [
    "import numpy as np\n",
    "import pandas as pd\n",
    "import seaborn as sns\n",
    "import matplotlib.pyplot as plt\n",
    "import scipy as sp\n",
    "pd.set_option('display.max_columns', None)\n",
    "pd.set_option('display.width', 500)\n",
    "df = pd.read_csv('../train.csv')\n",
    "\n",
    "df.describe()"
   ]
  },
  {
   "cell_type": "markdown",
   "metadata": {},
   "source": [
    "### 독립변수 'x' 분포"
   ]
  },
  {
   "cell_type": "code",
   "execution_count": 2,
   "metadata": {
    "scrolled": true
   },
   "outputs": [
    {
     "name": "stdout",
     "output_type": "stream",
     "text": [
      "['Id', 'MSSubClass', 'MSZoning', 'LotFrontage', 'LotArea', 'Street', 'Alley', 'LotShape', 'LandContour', 'Utilities', 'LotConfig', 'LandSlope', 'Neighborhood', 'Condition1', 'Condition2', 'BldgType', 'HouseStyle', 'OverallQual', 'OverallCond', 'YearBuilt', 'YearRemodAdd', 'RoofStyle', 'RoofMatl', 'Exterior1st', 'Exterior2nd', 'MasVnrType', 'MasVnrArea', 'ExterQual', 'ExterCond', 'Foundation', 'BsmtQual', 'BsmtCond', 'BsmtExposure', 'BsmtFinType1', 'BsmtFinSF1', 'BsmtFinType2', 'BsmtFinSF2', 'BsmtUnfSF', 'TotalBsmtSF', 'Heating', 'HeatingQC', 'CentralAir', 'Electrical', '1stFlrSF', '2ndFlrSF', 'LowQualFinSF', 'GrLivArea', 'BsmtFullBath', 'BsmtHalfBath', 'FullBath', 'HalfBath', 'BedroomAbvGr', 'KitchenAbvGr', 'KitchenQual', 'TotRmsAbvGrd', 'Functional', 'Fireplaces', 'FireplaceQu', 'GarageType', 'GarageYrBlt', 'GarageFinish', 'GarageCars', 'GarageArea', 'GarageQual', 'GarageCond', 'PavedDrive', 'WoodDeckSF', 'OpenPorchSF', 'EnclosedPorch', '3SsnPorch', 'ScreenPorch', 'PoolArea', 'PoolQC', 'Fence', 'MiscFeature', 'MiscVal', 'MoSold', 'YrSold', 'SaleType', 'SaleCondition', 'SalePrice']\n"
     ]
    },
    {
     "data": {
      "text/plain": [
       "81"
      ]
     },
     "execution_count": 2,
     "metadata": {},
     "output_type": "execute_result"
    }
   ],
   "source": [
    "cols_df_x = list(df.columns)\n",
    "\n",
    "print(cols_df_x)\n",
    "len(cols_df_x)"
   ]
  },
  {
   "cell_type": "code",
   "execution_count": 3,
   "metadata": {
    "scrolled": true
   },
   "outputs": [
    {
     "name": "stdout",
     "output_type": "stream",
     "text": [
      "number_feature :  38 \n",
      " ['Id', 'MSSubClass', 'LotFrontage', 'LotArea', 'OverallQual', 'OverallCond', 'YearBuilt', 'YearRemodAdd', 'MasVnrArea', 'BsmtFinSF1', 'BsmtFinSF2', 'BsmtUnfSF', 'TotalBsmtSF', '1stFlrSF', '2ndFlrSF', 'LowQualFinSF', 'GrLivArea', 'BsmtFullBath', 'BsmtHalfBath', 'FullBath', 'HalfBath', 'BedroomAbvGr', 'KitchenAbvGr', 'TotRmsAbvGrd', 'Fireplaces', 'GarageYrBlt', 'GarageCars', 'GarageArea', 'WoodDeckSF', 'OpenPorchSF', 'EnclosedPorch', '3SsnPorch', 'ScreenPorch', 'PoolArea', 'MiscVal', 'MoSold', 'YrSold', 'SalePrice'] \n",
      " category_feature :  43 \n",
      " ['MSZoning', 'Street', 'Alley', 'LotShape', 'LandContour', 'Utilities', 'LotConfig', 'LandSlope', 'Neighborhood', 'Condition1', 'Condition2', 'BldgType', 'HouseStyle', 'RoofStyle', 'RoofMatl', 'Exterior1st', 'Exterior2nd', 'MasVnrType', 'ExterQual', 'ExterCond', 'Foundation', 'BsmtQual', 'BsmtCond', 'BsmtExposure', 'BsmtFinType1', 'BsmtFinType2', 'Heating', 'HeatingQC', 'CentralAir', 'Electrical', 'KitchenQual', 'Functional', 'FireplaceQu', 'GarageType', 'GarageFinish', 'GarageQual', 'GarageCond', 'PavedDrive', 'PoolQC', 'Fence', 'MiscFeature', 'SaleType', 'SaleCondition']\n"
     ]
    }
   ],
   "source": [
    "heat= df.corr()\n",
    "cols_real = list(heat.index)\n",
    "cols_cat = []\n",
    "for col in df.columns:\n",
    "    if col not in cols_real:\n",
    "        cols_cat.append(col)\n",
    "print('number_feature : ',len(cols_real),'\\n',cols_real,'\\n', 'category_feature : ',len(cols_cat),'\\n',cols_cat)"
   ]
  },
  {
   "cell_type": "markdown",
   "metadata": {},
   "source": [
    "### category 변수들 F-test"
   ]
  },
  {
   "cell_type": "code",
   "execution_count": 4,
   "metadata": {},
   "outputs": [
    {
     "name": "stdout",
     "output_type": "stream",
     "text": [
      "MSZoning ['RL' 'RM' 'C (all)' 'FV' 'RH']\n",
      "len :  5\n",
      "Street ['Pave' 'Grvl']\n",
      "len :  2\n",
      "Alley [nan 'Grvl' 'Pave']\n",
      "len :  3\n",
      "LotShape ['Reg' 'IR1' 'IR2' 'IR3']\n",
      "len :  4\n",
      "LandContour ['Lvl' 'Bnk' 'Low' 'HLS']\n",
      "len :  4\n",
      "Utilities ['AllPub' 'NoSeWa']\n",
      "len :  2\n",
      "LotConfig ['Inside' 'FR2' 'Corner' 'CulDSac' 'FR3']\n",
      "len :  5\n",
      "LandSlope ['Gtl' 'Mod' 'Sev']\n",
      "len :  3\n",
      "Neighborhood ['CollgCr' 'Veenker' 'Crawfor' 'NoRidge' 'Mitchel' 'Somerst' 'NWAmes'\n",
      " 'OldTown' 'BrkSide' 'Sawyer' 'NridgHt' 'NAmes' 'SawyerW' 'IDOTRR'\n",
      " 'MeadowV' 'Edwards' 'Timber' 'Gilbert' 'StoneBr' 'ClearCr' 'NPkVill'\n",
      " 'Blmngtn' 'BrDale' 'SWISU' 'Blueste']\n",
      "len :  25\n",
      "Condition1 ['Norm' 'Feedr' 'PosN' 'Artery' 'RRAe' 'RRNn' 'RRAn' 'PosA' 'RRNe']\n",
      "len :  9\n",
      "Condition2 ['Norm' 'Artery' 'RRNn' 'Feedr' 'PosN' 'PosA' 'RRAn' 'RRAe']\n",
      "len :  8\n",
      "BldgType ['1Fam' '2fmCon' 'Duplex' 'TwnhsE' 'Twnhs']\n",
      "len :  5\n",
      "HouseStyle ['2Story' '1Story' '1.5Fin' '1.5Unf' 'SFoyer' 'SLvl' '2.5Unf' '2.5Fin']\n",
      "len :  8\n",
      "RoofStyle ['Gable' 'Hip' 'Gambrel' 'Mansard' 'Flat' 'Shed']\n",
      "len :  6\n",
      "RoofMatl ['CompShg' 'WdShngl' 'Metal' 'WdShake' 'Membran' 'Tar&Grv' 'Roll'\n",
      " 'ClyTile']\n",
      "len :  8\n",
      "Exterior1st ['VinylSd' 'MetalSd' 'Wd Sdng' 'HdBoard' 'BrkFace' 'WdShing' 'CemntBd'\n",
      " 'Plywood' 'AsbShng' 'Stucco' 'BrkComm' 'AsphShn' 'Stone' 'ImStucc'\n",
      " 'CBlock']\n",
      "len :  15\n",
      "Exterior2nd ['VinylSd' 'MetalSd' 'Wd Shng' 'HdBoard' 'Plywood' 'Wd Sdng' 'CmentBd'\n",
      " 'BrkFace' 'Stucco' 'AsbShng' 'Brk Cmn' 'ImStucc' 'AsphShn' 'Stone'\n",
      " 'Other' 'CBlock']\n",
      "len :  16\n",
      "MasVnrType ['BrkFace' 'None' 'Stone' 'BrkCmn' nan]\n",
      "len :  5\n",
      "ExterQual ['Gd' 'TA' 'Ex' 'Fa']\n",
      "len :  4\n",
      "ExterCond ['TA' 'Gd' 'Fa' 'Po' 'Ex']\n",
      "len :  5\n",
      "Foundation ['PConc' 'CBlock' 'BrkTil' 'Wood' 'Slab' 'Stone']\n",
      "len :  6\n",
      "BsmtQual ['Gd' 'TA' 'Ex' nan 'Fa']\n",
      "len :  5\n",
      "BsmtCond ['TA' 'Gd' nan 'Fa' 'Po']\n",
      "len :  5\n",
      "BsmtExposure ['No' 'Gd' 'Mn' 'Av' nan]\n",
      "len :  5\n",
      "BsmtFinType1 ['GLQ' 'ALQ' 'Unf' 'Rec' 'BLQ' nan 'LwQ']\n",
      "len :  7\n",
      "BsmtFinType2 ['Unf' 'BLQ' nan 'ALQ' 'Rec' 'LwQ' 'GLQ']\n",
      "len :  7\n",
      "Heating ['GasA' 'GasW' 'Grav' 'Wall' 'OthW' 'Floor']\n",
      "len :  6\n",
      "HeatingQC ['Ex' 'Gd' 'TA' 'Fa' 'Po']\n",
      "len :  5\n",
      "CentralAir ['Y' 'N']\n",
      "len :  2\n",
      "Electrical ['SBrkr' 'FuseF' 'FuseA' 'FuseP' 'Mix' nan]\n",
      "len :  6\n",
      "KitchenQual ['Gd' 'TA' 'Ex' 'Fa']\n",
      "len :  4\n",
      "Functional ['Typ' 'Min1' 'Maj1' 'Min2' 'Mod' 'Maj2' 'Sev']\n",
      "len :  7\n",
      "FireplaceQu [nan 'TA' 'Gd' 'Fa' 'Ex' 'Po']\n",
      "len :  6\n",
      "GarageType ['Attchd' 'Detchd' 'BuiltIn' 'CarPort' nan 'Basment' '2Types']\n",
      "len :  7\n",
      "GarageFinish ['RFn' 'Unf' 'Fin' nan]\n",
      "len :  4\n",
      "GarageQual ['TA' 'Fa' 'Gd' nan 'Ex' 'Po']\n",
      "len :  6\n",
      "GarageCond ['TA' 'Fa' nan 'Gd' 'Po' 'Ex']\n",
      "len :  6\n",
      "PavedDrive ['Y' 'N' 'P']\n",
      "len :  3\n",
      "PoolQC [nan 'Ex' 'Fa' 'Gd']\n",
      "len :  4\n",
      "Fence [nan 'MnPrv' 'GdWo' 'GdPrv' 'MnWw']\n",
      "len :  5\n",
      "MiscFeature [nan 'Shed' 'Gar2' 'Othr' 'TenC']\n",
      "len :  5\n",
      "SaleType ['WD' 'New' 'COD' 'ConLD' 'ConLI' 'CWD' 'ConLw' 'Con' 'Oth']\n",
      "len :  9\n",
      "SaleCondition ['Normal' 'Abnorml' 'Partial' 'AdjLand' 'Alloca' 'Family']\n",
      "len :  6\n"
     ]
    }
   ],
   "source": [
    "for col in cols_cat:\n",
    "    tmp_list = df[col].unique()\n",
    "    if len(tmp_list) > 0:\n",
    "        print (col, tmp_list)\n",
    "        print('len : ', len(tmp_list))"
   ]
  },
  {
   "cell_type": "code",
   "execution_count": 5,
   "metadata": {},
   "outputs": [
    {
     "name": "stdout",
     "output_type": "stream",
     "text": [
      "OverallQual [ 7  6  8  5  9  4 10  3  1  2]\n",
      "len :  10\n",
      "OverallCond [5 8 6 7 4 2 3 9 1]\n",
      "len :  9\n",
      "BsmtFullBath [1 0 2 3]\n",
      "len :  4\n",
      "BsmtHalfBath [0 1 2]\n",
      "len :  3\n",
      "FullBath [2 1 3 0]\n",
      "len :  4\n",
      "HalfBath [1 0 2]\n",
      "len :  3\n",
      "BedroomAbvGr [3 4 1 2 0 5 6 8]\n",
      "len :  8\n",
      "KitchenAbvGr [1 2 3 0]\n",
      "len :  4\n",
      "TotRmsAbvGrd [ 8  6  7  9  5 11  4 10 12  3  2 14]\n",
      "len :  12\n",
      "Fireplaces [0 1 2 3]\n",
      "len :  4\n",
      "GarageCars [2 3 1 0 4]\n",
      "len :  5\n",
      "MoSold [ 2  5  9 12 10  8 11  4  1  7  3  6]\n",
      "len :  12\n",
      "YrSold [2008 2007 2006 2009 2010]\n",
      "len :  5\n"
     ]
    }
   ],
   "source": [
    "cols_real_c = ['OverallQual','OverallCond','BsmtFullBath','BsmtHalfBath','FullBath','HalfBath','BedroomAbvGr','KitchenAbvGr','TotRmsAbvGrd','Fireplaces','GarageCars','MoSold','YrSold']\n",
    "for col in cols_real_c:\n",
    "    tmp_list = df[col].unique()\n",
    "    if len(tmp_list) > 0:\n",
    "        print (col, tmp_list)\n",
    "        print('len : ', len(tmp_list))"
   ]
  },
  {
   "cell_type": "code",
   "execution_count": 6,
   "metadata": {},
   "outputs": [
    {
     "name": "stdout",
     "output_type": "stream",
     "text": [
      "F_onewayResult(statistic=43.84028167245718, pvalue=8.817633866272648e-35)\n"
     ]
    }
   ],
   "source": [
    "import scipy.stats as scipystats\n",
    "print(scipystats.f_oneway(df.loc[df[\"MSZoning\"] == 'RL'].SalePrice,\n",
    "               df.loc[df[\"MSZoning\"] == 'RM'].SalePrice,\n",
    "               df.loc[df[\"MSZoning\"] == 'C (all)'].SalePrice,\n",
    "               df.loc[df[\"MSZoning\"] == 'FV'].SalePrice,\n",
    "               df.loc[df[\"MSZoning\"] == 'RH'].SalePrice))"
   ]
  },
  {
   "cell_type": "code",
   "execution_count": 7,
   "metadata": {},
   "outputs": [
    {
     "name": "stdout",
     "output_type": "stream",
     "text": [
      "F_onewayResult(statistic=35.56206043131903, pvalue=4.899826166771113e-08)\n"
     ]
    }
   ],
   "source": [
    "print(scipystats.f_oneway(\n",
    "               df.loc[df[\"Alley\"] == 'Grvl'].SalePrice,\n",
    "               df.loc[df[\"Alley\"] == 'Pave'].SalePrice))"
   ]
  },
  {
   "cell_type": "code",
   "execution_count": 8,
   "metadata": {},
   "outputs": [
    {
     "name": "stdout",
     "output_type": "stream",
     "text": [
      "F_onewayResult(statistic=40.13285166226295, pvalue=6.447523852011766e-25)\n"
     ]
    }
   ],
   "source": [
    "print(scipystats.f_oneway(df.loc[df[\"LotShape\"] == 'Reg'].SalePrice,\n",
    "               df.loc[df[\"LotShape\"] == 'IR1'].SalePrice,\n",
    "               df.loc[df[\"LotShape\"] == 'IR2'].SalePrice,\n",
    "               df.loc[df[\"LotShape\"] == 'IR3'].SalePrice))"
   ]
  },
  {
   "cell_type": "code",
   "execution_count": 9,
   "metadata": {},
   "outputs": [
    {
     "name": "stdout",
     "output_type": "stream",
     "text": [
      "F_onewayResult(statistic=12.850188333283924, pvalue=2.7422167521379096e-08)\n"
     ]
    }
   ],
   "source": [
    "print(scipystats.f_oneway(df.loc[df[\"LandContour\"] == 'Lvl'].SalePrice,\n",
    "               df.loc[df[\"LandContour\"] == 'Bnk'].SalePrice,\n",
    "               df.loc[df[\"LandContour\"] == 'Low'].SalePrice,\n",
    "               df.loc[df[\"LandContour\"] == 'HLS'].SalePrice))"
   ]
  },
  {
   "cell_type": "code",
   "execution_count": 10,
   "metadata": {
    "scrolled": true
   },
   "outputs": [
    {
     "name": "stdout",
     "output_type": "stream",
     "text": [
      "F_onewayResult(statistic=7.809954123467792, pvalue=3.163167473604189e-06)\n"
     ]
    }
   ],
   "source": [
    "print(scipystats.f_oneway(df.loc[df[\"LotConfig\"] == 'Inside'].SalePrice,\n",
    "               df.loc[df[\"LotConfig\"] == 'FR2'].SalePrice,\n",
    "               df.loc[df[\"LotConfig\"] == 'Corner'].SalePrice,           \n",
    "               df.loc[df[\"LotConfig\"] == 'CulDSac'].SalePrice,\n",
    "               df.loc[df[\"LotConfig\"] == 'FR3'].SalePrice))"
   ]
  },
  {
   "cell_type": "code",
   "execution_count": 11,
   "metadata": {},
   "outputs": [
    {
     "name": "stdout",
     "output_type": "stream",
     "text": [
      "F_onewayResult(statistic=1.9588170374149438, pvalue=0.1413963584114019)\n"
     ]
    }
   ],
   "source": [
    "print(scipystats.f_oneway(df.loc[df[\"LandSlope\"] == 'Gtl'].SalePrice,\n",
    "               df.loc[df[\"LandSlope\"] == 'Mod'].SalePrice,\n",
    "               df.loc[df[\"LandSlope\"] == 'Sev'].SalePrice))"
   ]
  },
  {
   "cell_type": "code",
   "execution_count": 12,
   "metadata": {},
   "outputs": [
    {
     "name": "stdout",
     "output_type": "stream",
     "text": [
      "F_onewayResult(statistic=74.30462780417598, pvalue=1.497728506698194e-224)\n"
     ]
    }
   ],
   "source": [
    "print(scipystats.f_oneway(df.loc[df[\"Neighborhood\"] == 'CollgCr'].SalePrice,\n",
    "               df.loc[df[\"Neighborhood\"] == 'Veenker'].SalePrice,\n",
    "               df.loc[df[\"Neighborhood\"] == 'Crawfor'].SalePrice,\n",
    "               df.loc[df[\"Neighborhood\"] == 'NoRidge'].SalePrice,\n",
    "               df.loc[df[\"Neighborhood\"] == 'Mitchel'].SalePrice,\n",
    "               df.loc[df[\"Neighborhood\"] == 'Somerst'].SalePrice,\n",
    "               df.loc[df[\"Neighborhood\"] == 'NWAmes'].SalePrice,\n",
    "               df.loc[df[\"Neighborhood\"] == 'OldTown'].SalePrice,\n",
    "               df.loc[df[\"Neighborhood\"] == 'BrkSide'].SalePrice,\n",
    "               df.loc[df[\"Neighborhood\"] == 'Sawyer'].SalePrice,\n",
    "               df.loc[df[\"Neighborhood\"] == 'NridgHt'].SalePrice,\n",
    "               df.loc[df[\"Neighborhood\"] == 'NAmes'].SalePrice,\n",
    "               df.loc[df[\"Neighborhood\"] == 'SawyerW'].SalePrice,\n",
    "               df.loc[df[\"Neighborhood\"] == 'IDOTRR'].SalePrice,\n",
    "               df.loc[df[\"Neighborhood\"] == 'MeadowV'].SalePrice,\n",
    "               df.loc[df[\"Neighborhood\"] == 'Edwards'].SalePrice,\n",
    "               df.loc[df[\"Neighborhood\"] == 'Timber'].SalePrice,\n",
    "               df.loc[df[\"Neighborhood\"] == 'Gilbert'].SalePrice,\n",
    "               df.loc[df[\"Neighborhood\"] == 'StoneBr'].SalePrice,           \n",
    "               df.loc[df[\"Neighborhood\"] == 'ClearCr'].SalePrice,\n",
    "               df.loc[df[\"Neighborhood\"] == 'Blmngtn'].SalePrice,\n",
    "               df.loc[df[\"Neighborhood\"] == 'BrDale'].SalePrice,\n",
    "               df.loc[df[\"Neighborhood\"] == 'SWISU'].SalePrice,           \n",
    "               df.loc[df[\"Neighborhood\"] == 'Blueste'].SalePrice))"
   ]
  },
  {
   "cell_type": "code",
   "execution_count": 13,
   "metadata": {},
   "outputs": [
    {
     "name": "stdout",
     "output_type": "stream",
     "text": [
      "F_onewayResult(statistic=6.118017137125925, pvalue=8.904549416138853e-08)\n"
     ]
    }
   ],
   "source": [
    "print(scipystats.f_oneway(df.loc[df[\"Condition1\"] == 'Norm'].SalePrice,\n",
    "               df.loc[df[\"Condition1\"] == 'Feedr'].SalePrice,\n",
    "               df.loc[df[\"Condition1\"] == 'PosN'].SalePrice,\n",
    "               df.loc[df[\"Condition1\"] == 'Artery'].SalePrice,\n",
    "               df.loc[df[\"Condition1\"] == 'RRAe'].SalePrice,\n",
    "               df.loc[df[\"Condition1\"] == 'RRNn'].SalePrice,\n",
    "               df.loc[df[\"Condition1\"] == 'RRAn'].SalePrice,\n",
    "               df.loc[df[\"Condition1\"] == 'PosA'].SalePrice,\n",
    "               df.loc[df[\"Condition1\"] == 'RRNe'].SalePrice))\n"
   ]
  },
  {
   "cell_type": "code",
   "execution_count": 14,
   "metadata": {},
   "outputs": [
    {
     "name": "stdout",
     "output_type": "stream",
     "text": [
      "F_onewayResult(statistic=2.0738986215227877, pvalue=0.043425658360948464)\n"
     ]
    }
   ],
   "source": [
    "print(scipystats.f_oneway(df.loc[df[\"Condition2\"] == 'Norm'].SalePrice,\n",
    "               df.loc[df[\"Condition2\"] == 'Artery'].SalePrice,\n",
    "               df.loc[df[\"Condition2\"] == 'RRNn'].SalePrice,\n",
    "               df.loc[df[\"Condition2\"] == 'Feedr'].SalePrice,\n",
    "               df.loc[df[\"Condition2\"] == 'PosN'].SalePrice,\n",
    "               df.loc[df[\"Condition2\"] == 'PosA'].SalePrice,\n",
    "               df.loc[df[\"Condition2\"] == 'RRAn'].SalePrice,\n",
    "               df.loc[df[\"Condition2\"] == 'RRAe'].SalePrice))\n"
   ]
  },
  {
   "cell_type": "code",
   "execution_count": 15,
   "metadata": {},
   "outputs": [
    {
     "name": "stdout",
     "output_type": "stream",
     "text": [
      "F_onewayResult(statistic=13.011077169620851, pvalue=2.0567364604967015e-10)\n"
     ]
    }
   ],
   "source": [
    "print(scipystats.f_oneway(df.loc[df[\"BldgType\"] == '1Fam'].SalePrice,\n",
    "               df.loc[df[\"BldgType\"] == '2fmCon'].SalePrice,\n",
    "               df.loc[df[\"BldgType\"] == 'Duplex'].SalePrice,\n",
    "               df.loc[df[\"BldgType\"] == 'TwnhsE'].SalePrice,\n",
    "               df.loc[df[\"BldgType\"] == 'Twnhs'].SalePrice))"
   ]
  },
  {
   "cell_type": "code",
   "execution_count": 16,
   "metadata": {},
   "outputs": [
    {
     "name": "stdout",
     "output_type": "stream",
     "text": [
      "F_onewayResult(statistic=19.595000995981223, pvalue=3.376776535121222e-25)\n"
     ]
    }
   ],
   "source": [
    "print(scipystats.f_oneway(df.loc[df[\"HouseStyle\"] == '2Story'].SalePrice,\n",
    "               df.loc[df[\"HouseStyle\"] == '1Story'].SalePrice,\n",
    "               df.loc[df[\"HouseStyle\"] == '1.5Fin'].SalePrice,\n",
    "               df.loc[df[\"HouseStyle\"] == '1.5Unf'].SalePrice,\n",
    "               df.loc[df[\"HouseStyle\"] == 'SFoyer'].SalePrice,\n",
    "               df.loc[df[\"HouseStyle\"] == 'SLvl'].SalePrice,\n",
    "               df.loc[df[\"HouseStyle\"] == '2.5Unf'].SalePrice,\n",
    "               df.loc[df[\"HouseStyle\"] == '2.5Fin'].SalePrice))\n"
   ]
  },
  {
   "cell_type": "code",
   "execution_count": 17,
   "metadata": {},
   "outputs": [
    {
     "name": "stdout",
     "output_type": "stream",
     "text": [
      "F_onewayResult(statistic=17.80549722914421, pvalue=3.653523047099125e-17)\n"
     ]
    }
   ],
   "source": [
    "print(scipystats.f_oneway(df.loc[df[\"RoofStyle\"] == 'Gable'].SalePrice,\n",
    "               df.loc[df[\"RoofStyle\"] == 'Hip'].SalePrice,\n",
    "               df.loc[df[\"RoofStyle\"] == 'Gambrel'].SalePrice,\n",
    "               df.loc[df[\"RoofStyle\"] == 'Mansard'].SalePrice,\n",
    "               df.loc[df[\"RoofStyle\"] == 'Flat'].SalePrice,\n",
    "               df.loc[df[\"RoofStyle\"] == 'Shed'].SalePrice))\n"
   ]
  },
  {
   "cell_type": "code",
   "execution_count": 18,
   "metadata": {},
   "outputs": [
    {
     "name": "stdout",
     "output_type": "stream",
     "text": [
      "F_onewayResult(statistic=6.727304893420313, pvalue=7.231444779987188e-08)\n"
     ]
    }
   ],
   "source": [
    "print(scipystats.f_oneway(df.loc[df[\"RoofMatl\"] == 'CompShg'].SalePrice,\n",
    "               df.loc[df[\"RoofMatl\"] == 'WdShngl'].SalePrice,\n",
    "               df.loc[df[\"RoofMatl\"] == 'Metal'].SalePrice,\n",
    "               df.loc[df[\"RoofMatl\"] == 'Membran'].SalePrice,\n",
    "               df.loc[df[\"RoofMatl\"] == 'Tar&Grv'].SalePrice,\n",
    "               df.loc[df[\"RoofMatl\"] == 'WdShake'].SalePrice,\n",
    "               df.loc[df[\"RoofMatl\"] == 'Roll'].SalePrice,\n",
    "               df.loc[df[\"RoofMatl\"] == 'ClyTile'].SalePrice))\n"
   ]
  },
  {
   "cell_type": "code",
   "execution_count": 19,
   "metadata": {},
   "outputs": [
    {
     "name": "stdout",
     "output_type": "stream",
     "text": [
      "F_onewayResult(statistic=18.61174286624578, pvalue=2.5860887286376316e-43)\n"
     ]
    }
   ],
   "source": [
    "print(scipystats.f_oneway(df.loc[df[\"Exterior1st\"] == 'VinylSd'].SalePrice,\n",
    "               df.loc[df[\"Exterior1st\"] == 'MetalSd'].SalePrice,\n",
    "               df.loc[df[\"Exterior1st\"] == 'Wd Sdng'].SalePrice,\n",
    "               df.loc[df[\"Exterior1st\"] == 'HdBoard'].SalePrice,\n",
    "               df.loc[df[\"Exterior1st\"] == 'BrkFace'].SalePrice,\n",
    "               df.loc[df[\"Exterior1st\"] == 'WdShing'].SalePrice,\n",
    "               df.loc[df[\"Exterior1st\"] == 'CemntBd'].SalePrice,\n",
    "               df.loc[df[\"Exterior1st\"] == 'Plywood'].SalePrice,\n",
    "               df.loc[df[\"Exterior1st\"] == 'AsbShng'].SalePrice,\n",
    "               df.loc[df[\"Exterior1st\"] == 'Stucco'].SalePrice,\n",
    "               df.loc[df[\"Exterior1st\"] == 'BrkComm'].SalePrice,\n",
    "               df.loc[df[\"Exterior1st\"] == 'AsphShn'].SalePrice,\n",
    "               df.loc[df[\"Exterior1st\"] == 'Stone'].SalePrice,\n",
    "               df.loc[df[\"Exterior1st\"] == 'ImStucc'].SalePrice,\n",
    "               df.loc[df[\"Exterior1st\"] == 'CBlock'].SalePrice))\n"
   ]
  },
  {
   "cell_type": "code",
   "execution_count": 20,
   "metadata": {},
   "outputs": [
    {
     "name": "stdout",
     "output_type": "stream",
     "text": [
      "F_onewayResult(statistic=17.500839571369834, pvalue=4.8421856706985465e-43)\n"
     ]
    }
   ],
   "source": [
    "print(scipystats.f_oneway(df.loc[df[\"Exterior2nd\"] == 'VinylSd'].SalePrice,\n",
    "               df.loc[df[\"Exterior2nd\"] == 'MetalSd'].SalePrice,\n",
    "               df.loc[df[\"Exterior2nd\"] == 'Wd Shng'].SalePrice,\n",
    "               df.loc[df[\"Exterior2nd\"] == 'HdBoard'].SalePrice,\n",
    "               df.loc[df[\"Exterior2nd\"] == 'Plywood'].SalePrice,\n",
    "               df.loc[df[\"Exterior2nd\"] == 'Wd Sdng'].SalePrice,\n",
    "               df.loc[df[\"Exterior2nd\"] == 'CmentBd'].SalePrice,\n",
    "               df.loc[df[\"Exterior2nd\"] == 'BrkFace'].SalePrice,\n",
    "               df.loc[df[\"Exterior2nd\"] == 'Stucco'].SalePrice,\n",
    "               df.loc[df[\"Exterior2nd\"] == 'AsbShng'].SalePrice,\n",
    "               df.loc[df[\"Exterior2nd\"] == 'Brk Cmn'].SalePrice,\n",
    "               df.loc[df[\"Exterior2nd\"] == 'ImStucc'].SalePrice,\n",
    "               df.loc[df[\"Exterior2nd\"] == 'AsphShn'].SalePrice,\n",
    "               df.loc[df[\"Exterior2nd\"] == 'Stone'].SalePrice,\n",
    "               df.loc[df[\"Exterior2nd\"] == 'Other'].SalePrice,\n",
    "               df.loc[df[\"Exterior2nd\"] == 'CBlock'].SalePrice))\n"
   ]
  },
  {
   "cell_type": "code",
   "execution_count": 21,
   "metadata": {},
   "outputs": [
    {
     "name": "stdout",
     "output_type": "stream",
     "text": [
      "F_onewayResult(statistic=111.67238008941875, pvalue=4.793331178118786e-65)\n"
     ]
    }
   ],
   "source": [
    "print(scipystats.f_oneway(df.loc[df[\"MasVnrType\"] == 'BrkFace'].SalePrice,\n",
    "               df.loc[df[\"MasVnrType\"] == 'None'].SalePrice,\n",
    "               df.loc[df[\"MasVnrType\"] == 'Stone'].SalePrice,\n",
    "               df.loc[df[\"MasVnrType\"] == 'BrkCmn'].SalePrice))\n"
   ]
  },
  {
   "cell_type": "code",
   "execution_count": 22,
   "metadata": {},
   "outputs": [
    {
     "name": "stdout",
     "output_type": "stream",
     "text": [
      "F_onewayResult(statistic=443.33483141504627, pvalue=1.4395510967787893e-204)\n"
     ]
    }
   ],
   "source": [
    "print(scipystats.f_oneway(df.loc[df[\"ExterQual\"] == 'Gd'].SalePrice,\n",
    "               df.loc[df[\"ExterQual\"] == 'TA'].SalePrice,\n",
    "               df.loc[df[\"ExterQual\"] == 'Ex'].SalePrice,\n",
    "               df.loc[df[\"ExterQual\"] == 'Fa'].SalePrice))\n"
   ]
  },
  {
   "cell_type": "code",
   "execution_count": 23,
   "metadata": {},
   "outputs": [
    {
     "name": "stdout",
     "output_type": "stream",
     "text": [
      "F_onewayResult(statistic=8.798714214177487, pvalue=5.106680608671862e-07)\n"
     ]
    }
   ],
   "source": [
    "print(scipystats.f_oneway(df.loc[df[\"ExterCond\"] == 'Gd'].SalePrice,\n",
    "               df.loc[df[\"ExterCond\"] == 'TA'].SalePrice,\n",
    "               df.loc[df[\"ExterCond\"] == 'Ex'].SalePrice,\n",
    "               df.loc[df[\"ExterCond\"] == 'Po'].SalePrice,\n",
    "               df.loc[df[\"ExterCond\"] == 'Fa'].SalePrice))\n"
   ]
  },
  {
   "cell_type": "code",
   "execution_count": 24,
   "metadata": {},
   "outputs": [
    {
     "name": "stdout",
     "output_type": "stream",
     "text": [
      "F_onewayResult(statistic=100.25385058740888, pvalue=5.791895002232233e-91)\n"
     ]
    }
   ],
   "source": [
    "print(scipystats.f_oneway(df.loc[df[\"Foundation\"] == 'PConc'].SalePrice,\n",
    "               df.loc[df[\"Foundation\"] == 'CBlock'].SalePrice,\n",
    "               df.loc[df[\"Foundation\"] == 'BrkTil'].SalePrice,\n",
    "               df.loc[df[\"Foundation\"] == 'Slab'].SalePrice,\n",
    "               df.loc[df[\"Foundation\"] == 'Wood'].SalePrice,\n",
    "               df.loc[df[\"Foundation\"] == 'Stone'].SalePrice))\n"
   ]
  },
  {
   "cell_type": "code",
   "execution_count": 25,
   "metadata": {},
   "outputs": [
    {
     "name": "stdout",
     "output_type": "stream",
     "text": [
      "F_onewayResult(statistic=392.9135064723092, pvalue=9.610615106781709e-186)\n"
     ]
    }
   ],
   "source": [
    "print(scipystats.f_oneway(df.loc[df[\"BsmtQual\"] == 'Gd'].SalePrice,\n",
    "               df.loc[df[\"BsmtQual\"] == 'TA'].SalePrice,\n",
    "               df.loc[df[\"BsmtQual\"] == 'Ex'].SalePrice,\n",
    "               df.loc[df[\"BsmtQual\"] == 'Fa'].SalePrice))\n"
   ]
  },
  {
   "cell_type": "code",
   "execution_count": 26,
   "metadata": {},
   "outputs": [
    {
     "name": "stdout",
     "output_type": "stream",
     "text": [
      "F_onewayResult(statistic=14.030600121067247, pvalue=5.136900937703027e-09)\n"
     ]
    }
   ],
   "source": [
    "print(scipystats.f_oneway(df.loc[df[\"BsmtCond\"] == 'Gd'].SalePrice,\n",
    "               df.loc[df[\"BsmtCond\"] == 'TA'].SalePrice,\n",
    "               df.loc[df[\"BsmtCond\"] == 'Po'].SalePrice,\n",
    "               df.loc[df[\"BsmtCond\"] == 'Fa'].SalePrice))\n"
   ]
  },
  {
   "cell_type": "code",
   "execution_count": 27,
   "metadata": {},
   "outputs": [
    {
     "name": "stdout",
     "output_type": "stream",
     "text": [
      "F_onewayResult(statistic=70.88798364989222, pvalue=1.022670629183227e-42)\n"
     ]
    }
   ],
   "source": [
    "print(scipystats.f_oneway(df.loc[df[\"BsmtExposure\"] == 'Gd'].SalePrice,\n",
    "               df.loc[df[\"BsmtExposure\"] == 'No'].SalePrice,\n",
    "               df.loc[df[\"BsmtExposure\"] == 'Av'].SalePrice,\n",
    "               df.loc[df[\"BsmtExposure\"] == 'Mn'].SalePrice))\n"
   ]
  },
  {
   "cell_type": "code",
   "execution_count": 28,
   "metadata": {},
   "outputs": [
    {
     "name": "stdout",
     "output_type": "stream",
     "text": [
      "F_onewayResult(statistic=67.6021748362774, pvalue=1.8077310066862167e-63)\n"
     ]
    }
   ],
   "source": [
    "print(scipystats.f_oneway(df.loc[df[\"BsmtFinType1\"] == 'GLQ'].SalePrice,\n",
    "               df.loc[df[\"BsmtFinType1\"] == 'ALQ'].SalePrice,\n",
    "               df.loc[df[\"BsmtFinType1\"] == 'Unf'].SalePrice,\n",
    "               df.loc[df[\"BsmtFinType1\"] == 'Rec'].SalePrice,\n",
    "               df.loc[df[\"BsmtFinType1\"] == 'BLQ'].SalePrice,\n",
    "               df.loc[df[\"BsmtFinType1\"] == 'LwQ'].SalePrice))\n"
   ]
  },
  {
   "cell_type": "code",
   "execution_count": 29,
   "metadata": {},
   "outputs": [
    {
     "name": "stdout",
     "output_type": "stream",
     "text": [
      "F_onewayResult(statistic=2.702450185378047, pvalue=0.019410089690234594)\n"
     ]
    }
   ],
   "source": [
    "print(scipystats.f_oneway(df.loc[df[\"BsmtFinType2\"] == 'GLQ'].SalePrice,\n",
    "               df.loc[df[\"BsmtFinType2\"] == 'ALQ'].SalePrice,\n",
    "               df.loc[df[\"BsmtFinType2\"] == 'Unf'].SalePrice,\n",
    "               df.loc[df[\"BsmtFinType2\"] == 'Rec'].SalePrice,\n",
    "               df.loc[df[\"BsmtFinType2\"] == 'BLQ'].SalePrice,\n",
    "               df.loc[df[\"BsmtFinType2\"] == 'LwQ'].SalePrice))\n"
   ]
  },
  {
   "cell_type": "code",
   "execution_count": 30,
   "metadata": {},
   "outputs": [
    {
     "name": "stdout",
     "output_type": "stream",
     "text": [
      "F_onewayResult(statistic=4.259818559406287, pvalue=0.000753472106445497)\n"
     ]
    }
   ],
   "source": [
    "print(scipystats.f_oneway(df.loc[df[\"Heating\"] == 'GasA'].SalePrice,\n",
    "               df.loc[df[\"Heating\"] == 'GasW'].SalePrice,\n",
    "               df.loc[df[\"Heating\"] == 'Grav'].SalePrice,\n",
    "               df.loc[df[\"Heating\"] == 'Wall'].SalePrice,\n",
    "               df.loc[df[\"Heating\"] == 'OthW'].SalePrice,\n",
    "               df.loc[df[\"Heating\"] == 'Floor'].SalePrice))\n"
   ]
  },
  {
   "cell_type": "code",
   "execution_count": 31,
   "metadata": {},
   "outputs": [
    {
     "name": "stdout",
     "output_type": "stream",
     "text": [
      "F_onewayResult(statistic=88.39446198869796, pvalue=2.667062092104357e-67)\n"
     ]
    }
   ],
   "source": [
    "print(scipystats.f_oneway(df.loc[df[\"HeatingQC\"] == 'Gd'].SalePrice,\n",
    "               df.loc[df[\"HeatingQC\"] == 'TA'].SalePrice,\n",
    "               df.loc[df[\"HeatingQC\"] == 'Ex'].SalePrice,\n",
    "               df.loc[df[\"HeatingQC\"] == 'Po'].SalePrice,\n",
    "               df.loc[df[\"HeatingQC\"] == 'Fa'].SalePrice))\n"
   ]
  },
  {
   "cell_type": "code",
   "execution_count": 32,
   "metadata": {},
   "outputs": [
    {
     "name": "stdout",
     "output_type": "stream",
     "text": [
      "F_onewayResult(statistic=23.06767302405713, pvalue=1.6632487814737638e-18)\n"
     ]
    }
   ],
   "source": [
    "print(scipystats.f_oneway(df.loc[df[\"Electrical\"] == 'SBrkr'].SalePrice,\n",
    "               df.loc[df[\"Electrical\"] == 'FuseF'].SalePrice,\n",
    "               df.loc[df[\"Electrical\"] == 'FuseA'].SalePrice,\n",
    "               df.loc[df[\"Electrical\"] == 'FuseP'].SalePrice,\n",
    "               df.loc[df[\"Electrical\"] == 'Mix'].SalePrice))\n"
   ]
  },
  {
   "cell_type": "code",
   "execution_count": 33,
   "metadata": {},
   "outputs": [
    {
     "name": "stdout",
     "output_type": "stream",
     "text": [
      "F_onewayResult(statistic=407.80635155838866, pvalue=3.0322127528400614e-192)\n"
     ]
    }
   ],
   "source": [
    "print(scipystats.f_oneway(df.loc[df[\"KitchenQual\"] == 'Gd'].SalePrice,\n",
    "               df.loc[df[\"KitchenQual\"] == 'TA'].SalePrice,\n",
    "               df.loc[df[\"KitchenQual\"] == 'Ex'].SalePrice,\n",
    "               df.loc[df[\"KitchenQual\"] == 'Fa'].SalePrice))\n"
   ]
  },
  {
   "cell_type": "code",
   "execution_count": 34,
   "metadata": {},
   "outputs": [
    {
     "name": "stdout",
     "output_type": "stream",
     "text": [
      "F_onewayResult(statistic=4.0578754277920215, pvalue=0.0004841696801078294)\n"
     ]
    }
   ],
   "source": [
    "print(scipystats.f_oneway(df.loc[df[\"Functional\"] == 'Typ'].SalePrice,\n",
    "               df.loc[df[\"Functional\"] == 'Min1'].SalePrice,\n",
    "               df.loc[df[\"Functional\"] == 'Maj1'].SalePrice,\n",
    "               df.loc[df[\"Functional\"] == 'Min2'].SalePrice,\n",
    "               df.loc[df[\"Functional\"] == 'Maj2'].SalePrice,           \n",
    "               df.loc[df[\"Functional\"] == 'Mod'].SalePrice,\n",
    "               df.loc[df[\"Functional\"] == 'Sev'].SalePrice))\n"
   ]
  },
  {
   "cell_type": "code",
   "execution_count": 35,
   "metadata": {},
   "outputs": [
    {
     "name": "stdout",
     "output_type": "stream",
     "text": [
      "F_onewayResult(statistic=24.398929420064125, pvalue=5.016300447019087e-19)\n"
     ]
    }
   ],
   "source": [
    "print(scipystats.f_oneway(df.loc[df[\"FireplaceQu\"] == 'Gd'].SalePrice,\n",
    "               df.loc[df[\"FireplaceQu\"] == 'TA'].SalePrice,\n",
    "               df.loc[df[\"FireplaceQu\"] == 'Ex'].SalePrice,\n",
    "               df.loc[df[\"FireplaceQu\"] == 'Po'].SalePrice,\n",
    "               df.loc[df[\"FireplaceQu\"] == 'Fa'].SalePrice))\n"
   ]
  },
  {
   "cell_type": "code",
   "execution_count": 36,
   "metadata": {},
   "outputs": [
    {
     "name": "stdout",
     "output_type": "stream",
     "text": [
      "F_onewayResult(statistic=71.5221230789301, pvalue=1.247153670658973e-66)\n"
     ]
    }
   ],
   "source": [
    "print(scipystats.f_oneway(df.loc[df[\"GarageType\"] == 'Attchd'].SalePrice,\n",
    "               df.loc[df[\"GarageType\"] == 'Detchd'].SalePrice,\n",
    "               df.loc[df[\"GarageType\"] == 'BuiltIn'].SalePrice,\n",
    "               df.loc[df[\"GarageType\"] == 'CarPort'].SalePrice,\n",
    "               df.loc[df[\"GarageType\"] == 'Basment'].SalePrice,\n",
    "               df.loc[df[\"GarageType\"] == '2Types'].SalePrice))\n"
   ]
  },
  {
   "cell_type": "code",
   "execution_count": 37,
   "metadata": {},
   "outputs": [
    {
     "name": "stdout",
     "output_type": "stream",
     "text": [
      "F_onewayResult(statistic=250.96246721359347, pvalue=1.1991165312294262e-93)\n"
     ]
    }
   ],
   "source": [
    "print(scipystats.f_oneway(df.loc[df[\"GarageFinish\"] == 'RFn'].SalePrice,\n",
    "               df.loc[df[\"GarageFinish\"] == 'Unf'].SalePrice,\n",
    "               df.loc[df[\"GarageFinish\"] == 'Fin'].SalePrice))\n"
   ]
  },
  {
   "cell_type": "code",
   "execution_count": 38,
   "metadata": {},
   "outputs": [
    {
     "name": "stdout",
     "output_type": "stream",
     "text": [
      "F_onewayResult(statistic=9.57038935007985, pvalue=1.2408026478015653e-07)\n"
     ]
    }
   ],
   "source": [
    "print(scipystats.f_oneway(df.loc[df[\"GarageQual\"] == 'Gd'].SalePrice,\n",
    "               df.loc[df[\"GarageQual\"] == 'TA'].SalePrice,\n",
    "               df.loc[df[\"GarageQual\"] == 'Ex'].SalePrice,\n",
    "               df.loc[df[\"GarageQual\"] == 'Po'].SalePrice,\n",
    "               df.loc[df[\"GarageQual\"] == 'Fa'].SalePrice))\n"
   ]
  },
  {
   "cell_type": "code",
   "execution_count": 39,
   "metadata": {},
   "outputs": [
    {
     "name": "stdout",
     "output_type": "stream",
     "text": [
      "F_onewayResult(statistic=9.541160950615971, pvalue=1.3097143055289643e-07)\n"
     ]
    }
   ],
   "source": [
    "print(scipystats.f_oneway(df.loc[df[\"GarageCond\"] == 'Gd'].SalePrice,\n",
    "               df.loc[df[\"GarageCond\"] == 'TA'].SalePrice,\n",
    "               df.loc[df[\"GarageCond\"] == 'Ex'].SalePrice,\n",
    "               df.loc[df[\"GarageCond\"] == 'Po'].SalePrice,\n",
    "               df.loc[df[\"GarageCond\"] == 'Fa'].SalePrice))\n"
   ]
  },
  {
   "cell_type": "code",
   "execution_count": 40,
   "metadata": {},
   "outputs": [
    {
     "name": "stdout",
     "output_type": "stream",
     "text": [
      "F_onewayResult(statistic=42.02417941762533, pvalue=1.803568890651533e-18)\n"
     ]
    }
   ],
   "source": [
    "print(scipystats.f_oneway(df.loc[df[\"PavedDrive\"] == 'Y'].SalePrice,\n",
    "               df.loc[df[\"PavedDrive\"] == 'N'].SalePrice,\n",
    "               df.loc[df[\"PavedDrive\"] == 'P'].SalePrice))\n"
   ]
  },
  {
   "cell_type": "code",
   "execution_count": 41,
   "metadata": {},
   "outputs": [
    {
     "name": "stdout",
     "output_type": "stream",
     "text": [
      "F_onewayResult(statistic=1.6274690738799704, pvalue=0.30398528011207915)\n"
     ]
    }
   ],
   "source": [
    "print(scipystats.f_oneway(df.loc[df[\"PoolQC\"] == 'Gd'].SalePrice,\n",
    "               df.loc[df[\"PoolQC\"] == 'Ex'].SalePrice,\n",
    "               df.loc[df[\"PoolQC\"] == 'Fa'].SalePrice))\n"
   ]
  },
  {
   "cell_type": "code",
   "execution_count": 42,
   "metadata": {},
   "outputs": [
    {
     "name": "stdout",
     "output_type": "stream",
     "text": [
      "F_onewayResult(statistic=4.948158647146986, pvalue=0.002312645635631918)\n"
     ]
    }
   ],
   "source": [
    "print(scipystats.f_oneway(df.loc[df[\"Fence\"] == 'MnPrv'].SalePrice,\n",
    "               df.loc[df[\"Fence\"] == 'GdWo'].SalePrice,\n",
    "               df.loc[df[\"Fence\"] == 'GdPrv'].SalePrice,\n",
    "               df.loc[df[\"Fence\"] == 'MnWw'].SalePrice))\n"
   ]
  },
  {
   "cell_type": "code",
   "execution_count": 43,
   "metadata": {},
   "outputs": [
    {
     "name": "stdout",
     "output_type": "stream",
     "text": [
      "F_onewayResult(statistic=2.15732402064694, pvalue=0.10472761568792907)\n"
     ]
    }
   ],
   "source": [
    "print(scipystats.f_oneway(df.loc[df[\"MiscFeature\"] == 'Shed'].SalePrice,\n",
    "               df.loc[df[\"MiscFeature\"] == 'Gar2'].SalePrice,\n",
    "               df.loc[df[\"MiscFeature\"] == 'Othr'].SalePrice,\n",
    "               df.loc[df[\"MiscFeature\"] == 'TenC'].SalePrice))\n"
   ]
  },
  {
   "cell_type": "code",
   "execution_count": 44,
   "metadata": {},
   "outputs": [
    {
     "name": "stdout",
     "output_type": "stream",
     "text": [
      "F_onewayResult(statistic=28.863054116984088, pvalue=5.039766889462451e-42)\n"
     ]
    }
   ],
   "source": [
    "print(scipystats.f_oneway(df.loc[df[\"SaleType\"] == 'WD'].SalePrice,\n",
    "               df.loc[df[\"SaleType\"] == 'New'].SalePrice,\n",
    "               df.loc[df[\"SaleType\"] == 'COD'].SalePrice,\n",
    "               df.loc[df[\"SaleType\"] == 'ConLD'].SalePrice,\n",
    "               df.loc[df[\"SaleType\"] == 'ConLI'].SalePrice,           \n",
    "               df.loc[df[\"SaleType\"] == 'CWD'].SalePrice,\n",
    "               df.loc[df[\"SaleType\"] == 'ConLw'].SalePrice,\n",
    "               df.loc[df[\"SaleType\"] == 'Oth'].SalePrice,           \n",
    "               df.loc[df[\"SaleType\"] == 'Con'].SalePrice))\n"
   ]
  },
  {
   "cell_type": "code",
   "execution_count": 45,
   "metadata": {},
   "outputs": [
    {
     "name": "stdout",
     "output_type": "stream",
     "text": [
      "F_onewayResult(statistic=45.57842830969571, pvalue=7.988268404991176e-44)\n"
     ]
    }
   ],
   "source": [
    "print(scipystats.f_oneway(df.loc[df[\"SaleCondition\"] == 'Normal'].SalePrice,\n",
    "               df.loc[df[\"SaleCondition\"] == 'Abnorml'].SalePrice,\n",
    "               df.loc[df[\"SaleCondition\"] == 'Partial'].SalePrice,\n",
    "               df.loc[df[\"SaleCondition\"] == 'AdjLand'].SalePrice,\n",
    "               df.loc[df[\"SaleCondition\"] == 'Alloca'].SalePrice,\n",
    "               df.loc[df[\"SaleCondition\"] == 'Family'].SalePrice))\n"
   ]
  },
  {
   "cell_type": "code",
   "execution_count": 46,
   "metadata": {},
   "outputs": [
    {
     "name": "stdout",
     "output_type": "stream",
     "text": [
      "F_onewayResult(statistic=349.02683956930736, pvalue=0.0)\n"
     ]
    }
   ],
   "source": [
    "print(scipystats.f_oneway(df.loc[df[\"OverallQual\"] == 7].SalePrice,\n",
    "               df.loc[df[\"OverallQual\"] == 6].SalePrice,\n",
    "               df.loc[df[\"OverallQual\"] == 8].SalePrice,\n",
    "               df.loc[df[\"OverallQual\"] == 5].SalePrice,\n",
    "               df.loc[df[\"OverallQual\"] == 9].SalePrice,\n",
    "               df.loc[df[\"OverallQual\"] == 4].SalePrice,\n",
    "               df.loc[df[\"OverallQual\"] == 10].SalePrice,\n",
    "               df.loc[df[\"OverallQual\"] == 3].SalePrice,\n",
    "               df.loc[df[\"OverallQual\"] == 1].SalePrice,\n",
    "               df.loc[df[\"OverallQual\"] == 2].SalePrice))"
   ]
  },
  {
   "cell_type": "code",
   "execution_count": 47,
   "metadata": {},
   "outputs": [
    {
     "name": "stdout",
     "output_type": "stream",
     "text": [
      "F_onewayResult(statistic=26.003173088920942, pvalue=7.962288819951294e-38)\n"
     ]
    }
   ],
   "source": [
    "print(scipystats.f_oneway(df.loc[df[\"OverallCond\"] == 7].SalePrice,\n",
    "               df.loc[df[\"OverallCond\"] == 6].SalePrice,\n",
    "               df.loc[df[\"OverallCond\"] == 8].SalePrice,\n",
    "               df.loc[df[\"OverallCond\"] == 5].SalePrice,\n",
    "               df.loc[df[\"OverallCond\"] == 9].SalePrice,\n",
    "               df.loc[df[\"OverallCond\"] == 4].SalePrice,\n",
    "               df.loc[df[\"OverallCond\"] == 3].SalePrice,\n",
    "               df.loc[df[\"OverallCond\"] == 1].SalePrice,\n",
    "               df.loc[df[\"OverallCond\"] == 2].SalePrice))"
   ]
  },
  {
   "cell_type": "code",
   "execution_count": 48,
   "metadata": {},
   "outputs": [
    {
     "name": "stdout",
     "output_type": "stream",
     "text": [
      "F_onewayResult(statistic=27.448014806098907, pvalue=2.88243552729416e-17)\n"
     ]
    }
   ],
   "source": [
    "print(scipystats.f_oneway(df.loc[df[\"BsmtFullBath\"] == 0].SalePrice,\n",
    "               df.loc[df[\"BsmtFullBath\"] == 3].SalePrice,\n",
    "               df.loc[df[\"BsmtFullBath\"] == 1].SalePrice,\n",
    "               df.loc[df[\"BsmtFullBath\"] == 2].SalePrice))"
   ]
  },
  {
   "cell_type": "code",
   "execution_count": 49,
   "metadata": {},
   "outputs": [
    {
     "name": "stdout",
     "output_type": "stream",
     "text": [
      "F_onewayResult(statistic=0.22146079841172592, pvalue=0.8013743052059724)\n"
     ]
    }
   ],
   "source": [
    "print(scipystats.f_oneway(df.loc[df[\"BsmtHalfBath\"] == 0].SalePrice,\n",
    "               df.loc[df[\"BsmtHalfBath\"] == 1].SalePrice,\n",
    "               df.loc[df[\"BsmtHalfBath\"] == 2].SalePrice))"
   ]
  },
  {
   "cell_type": "code",
   "execution_count": 50,
   "metadata": {},
   "outputs": [
    {
     "name": "stdout",
     "output_type": "stream",
     "text": [
      "F_onewayResult(statistic=246.0670039249282, pvalue=3.802187932448508e-129)\n"
     ]
    }
   ],
   "source": [
    "print(scipystats.f_oneway(df.loc[df[\"FullBath\"] == 0].SalePrice,\n",
    "               df.loc[df[\"FullBath\"] == 3].SalePrice,\n",
    "               df.loc[df[\"FullBath\"] == 1].SalePrice,\n",
    "               df.loc[df[\"FullBath\"] == 2].SalePrice))"
   ]
  },
  {
   "cell_type": "code",
   "execution_count": 51,
   "metadata": {},
   "outputs": [
    {
     "name": "stdout",
     "output_type": "stream",
     "text": [
      "F_onewayResult(statistic=74.46970052103694, pvalue=1.6091449454034875e-31)\n"
     ]
    }
   ],
   "source": [
    "print(scipystats.f_oneway(df.loc[df[\"HalfBath\"] == 0].SalePrice,\n",
    "               df.loc[df[\"HalfBath\"] == 1].SalePrice,\n",
    "               df.loc[df[\"HalfBath\"] == 2].SalePrice))"
   ]
  },
  {
   "cell_type": "code",
   "execution_count": 52,
   "metadata": {},
   "outputs": [
    {
     "name": "stdout",
     "output_type": "stream",
     "text": [
      "F_onewayResult(statistic=12.92541345911101, pvalue=3.3043196450461637e-16)\n"
     ]
    }
   ],
   "source": [
    "print(scipystats.f_oneway(df.loc[df[\"BedroomAbvGr\"] == 0].SalePrice,\n",
    "               df.loc[df[\"BedroomAbvGr\"] == 6].SalePrice,\n",
    "               df.loc[df[\"BedroomAbvGr\"] == 8].SalePrice,\n",
    "               df.loc[df[\"BedroomAbvGr\"] == 5].SalePrice,\n",
    "               df.loc[df[\"BedroomAbvGr\"] == 4].SalePrice,\n",
    "               df.loc[df[\"BedroomAbvGr\"] == 3].SalePrice,\n",
    "               df.loc[df[\"BedroomAbvGr\"] == 1].SalePrice,\n",
    "               df.loc[df[\"BedroomAbvGr\"] == 2].SalePrice))"
   ]
  },
  {
   "cell_type": "code",
   "execution_count": 53,
   "metadata": {},
   "outputs": [
    {
     "name": "stdout",
     "output_type": "stream",
     "text": [
      "F_onewayResult(statistic=9.835524893747184, pvalue=2.011735142857873e-06)\n"
     ]
    }
   ],
   "source": [
    "print(scipystats.f_oneway(df.loc[df[\"KitchenAbvGr\"] == 0].SalePrice,\n",
    "               df.loc[df[\"KitchenAbvGr\"] == 3].SalePrice,\n",
    "               df.loc[df[\"KitchenAbvGr\"] == 1].SalePrice,\n",
    "               df.loc[df[\"KitchenAbvGr\"] == 2].SalePrice))"
   ]
  },
  {
   "cell_type": "code",
   "execution_count": 54,
   "metadata": {},
   "outputs": [
    {
     "name": "stdout",
     "output_type": "stream",
     "text": [
      "F_onewayResult(statistic=56.16423822142646, pvalue=1.1917103366526644e-103)\n"
     ]
    }
   ],
   "source": [
    "print(scipystats.f_oneway(df.loc[df[\"TotRmsAbvGrd\"] == 7].SalePrice,\n",
    "               df.loc[df[\"TotRmsAbvGrd\"] == 6].SalePrice,\n",
    "               df.loc[df[\"TotRmsAbvGrd\"] == 8].SalePrice,\n",
    "               df.loc[df[\"TotRmsAbvGrd\"] == 5].SalePrice,\n",
    "               df.loc[df[\"TotRmsAbvGrd\"] == 9].SalePrice,\n",
    "               df.loc[df[\"TotRmsAbvGrd\"] == 4].SalePrice,\n",
    "               df.loc[df[\"TotRmsAbvGrd\"] == 10].SalePrice,\n",
    "               df.loc[df[\"TotRmsAbvGrd\"] == 14].SalePrice,\n",
    "               df.loc[df[\"TotRmsAbvGrd\"] == 12].SalePrice,\n",
    "               df.loc[df[\"TotRmsAbvGrd\"] == 3].SalePrice,\n",
    "               df.loc[df[\"TotRmsAbvGrd\"] == 11].SalePrice,\n",
    "               df.loc[df[\"TotRmsAbvGrd\"] == 2].SalePrice))"
   ]
  },
  {
   "cell_type": "code",
   "execution_count": 55,
   "metadata": {},
   "outputs": [
    {
     "name": "stdout",
     "output_type": "stream",
     "text": [
      "F_onewayResult(statistic=146.7411758453665, pvalue=4.4210010307257784e-83)\n"
     ]
    }
   ],
   "source": [
    "print(scipystats.f_oneway(df.loc[df[\"Fireplaces\"] == 0].SalePrice,\n",
    "               df.loc[df[\"Fireplaces\"] == 3].SalePrice,\n",
    "               df.loc[df[\"Fireplaces\"] == 1].SalePrice,\n",
    "               df.loc[df[\"Fireplaces\"] == 2].SalePrice))"
   ]
  },
  {
   "cell_type": "code",
   "execution_count": 56,
   "metadata": {},
   "outputs": [
    {
     "name": "stdout",
     "output_type": "stream",
     "text": [
      "F_onewayResult(statistic=351.2074862087728, pvalue=1.1211287650612485e-211)\n"
     ]
    }
   ],
   "source": [
    "print(scipystats.f_oneway(df.loc[df[\"GarageCars\"] == 0].SalePrice,\n",
    "               df.loc[df[\"GarageCars\"] == 3].SalePrice,\n",
    "               df.loc[df[\"GarageCars\"] == 1].SalePrice,\n",
    "               df.loc[df[\"GarageCars\"] == 4].SalePrice,\n",
    "               df.loc[df[\"GarageCars\"] == 2].SalePrice))"
   ]
  },
  {
   "cell_type": "code",
   "execution_count": 57,
   "metadata": {},
   "outputs": [
    {
     "name": "stdout",
     "output_type": "stream",
     "text": [
      "F_onewayResult(statistic=0.9578652656318107, pvalue=0.48335232989243127)\n"
     ]
    }
   ],
   "source": [
    "print(scipystats.f_oneway(df.loc[df[\"MoSold\"] == 7].SalePrice,\n",
    "               df.loc[df[\"MoSold\"] == 6].SalePrice,\n",
    "               df.loc[df[\"MoSold\"] == 8].SalePrice,\n",
    "               df.loc[df[\"MoSold\"] == 5].SalePrice,\n",
    "               df.loc[df[\"MoSold\"] == 9].SalePrice,\n",
    "               df.loc[df[\"MoSold\"] == 4].SalePrice,\n",
    "               df.loc[df[\"MoSold\"] == 10].SalePrice,\n",
    "               df.loc[df[\"MoSold\"] == 11].SalePrice,\n",
    "               df.loc[df[\"MoSold\"] == 12].SalePrice,\n",
    "               df.loc[df[\"MoSold\"] == 3].SalePrice,\n",
    "               df.loc[df[\"MoSold\"] == 1].SalePrice,\n",
    "               df.loc[df[\"MoSold\"] == 2].SalePrice))"
   ]
  },
  {
   "cell_type": "code",
   "execution_count": 58,
   "metadata": {},
   "outputs": [
    {
     "name": "stdout",
     "output_type": "stream",
     "text": [
      "F_onewayResult(statistic=0.6455252211679311, pvalue=0.6300887663573457)\n"
     ]
    }
   ],
   "source": [
    "print(scipystats.f_oneway(df.loc[df[\"YrSold\"] == 2008].SalePrice,\n",
    "               df.loc[df[\"YrSold\"] == 2007].SalePrice,\n",
    "               df.loc[df[\"YrSold\"] == 2006].SalePrice,\n",
    "               df.loc[df[\"YrSold\"] == 2009].SalePrice,\n",
    "               df.loc[df[\"YrSold\"] == 2010].SalePrice))"
   ]
  },
  {
   "cell_type": "code",
   "execution_count": 59,
   "metadata": {},
   "outputs": [
    {
     "data": {
      "text/html": [
       "<div>\n",
       "<style scoped>\n",
       "    .dataframe tbody tr th:only-of-type {\n",
       "        vertical-align: middle;\n",
       "    }\n",
       "\n",
       "    .dataframe tbody tr th {\n",
       "        vertical-align: top;\n",
       "    }\n",
       "\n",
       "    .dataframe thead th {\n",
       "        text-align: right;\n",
       "    }\n",
       "</style>\n",
       "<table border=\"1\" class=\"dataframe\">\n",
       "  <thead>\n",
       "    <tr style=\"text-align: right;\">\n",
       "      <th></th>\n",
       "      <th>pvalue</th>\n",
       "    </tr>\n",
       "  </thead>\n",
       "  <tbody>\n",
       "    <tr>\n",
       "      <th>OverallQual</th>\n",
       "      <td>0</td>\n",
       "    </tr>\n",
       "    <tr>\n",
       "      <th>Neighborhood</th>\n",
       "      <td>1.49773e-224</td>\n",
       "    </tr>\n",
       "    <tr>\n",
       "      <th>GarageCars</th>\n",
       "      <td>1.12113e-211</td>\n",
       "    </tr>\n",
       "    <tr>\n",
       "      <th>ExterQual</th>\n",
       "      <td>1.43955e-204</td>\n",
       "    </tr>\n",
       "    <tr>\n",
       "      <th>KitchenQual</th>\n",
       "      <td>3.03221e-192</td>\n",
       "    </tr>\n",
       "    <tr>\n",
       "      <th>BsmtQual</th>\n",
       "      <td>9.61062e-186</td>\n",
       "    </tr>\n",
       "    <tr>\n",
       "      <th>FullBath</th>\n",
       "      <td>3.80219e-129</td>\n",
       "    </tr>\n",
       "    <tr>\n",
       "      <th>TotRmsAbvGrd</th>\n",
       "      <td>1.19171e-103</td>\n",
       "    </tr>\n",
       "    <tr>\n",
       "      <th>GarageFinish</th>\n",
       "      <td>1.19912e-93</td>\n",
       "    </tr>\n",
       "    <tr>\n",
       "      <th>Foundation</th>\n",
       "      <td>5.7919e-91</td>\n",
       "    </tr>\n",
       "    <tr>\n",
       "      <th>Fireplaces</th>\n",
       "      <td>4.421e-83</td>\n",
       "    </tr>\n",
       "    <tr>\n",
       "      <th>HeatingQC</th>\n",
       "      <td>2.66706e-67</td>\n",
       "    </tr>\n",
       "    <tr>\n",
       "      <th>GarageType</th>\n",
       "      <td>1.24715e-66</td>\n",
       "    </tr>\n",
       "    <tr>\n",
       "      <th>MasVnrType</th>\n",
       "      <td>4.79333e-65</td>\n",
       "    </tr>\n",
       "    <tr>\n",
       "      <th>BsmtExposure</th>\n",
       "      <td>1.80773e-63</td>\n",
       "    </tr>\n",
       "    <tr>\n",
       "      <th>SaleCondition</th>\n",
       "      <td>7.98827e-44</td>\n",
       "    </tr>\n",
       "    <tr>\n",
       "      <th>Exterior1st</th>\n",
       "      <td>2.58609e-43</td>\n",
       "    </tr>\n",
       "    <tr>\n",
       "      <th>Exterior2nd</th>\n",
       "      <td>4.84219e-43</td>\n",
       "    </tr>\n",
       "    <tr>\n",
       "      <th>SaleType</th>\n",
       "      <td>5.03977e-42</td>\n",
       "    </tr>\n",
       "    <tr>\n",
       "      <th>OverallCond</th>\n",
       "      <td>7.96229e-38</td>\n",
       "    </tr>\n",
       "    <tr>\n",
       "      <th>MSZoning</th>\n",
       "      <td>8.81763e-35</td>\n",
       "    </tr>\n",
       "    <tr>\n",
       "      <th>HalfBath</th>\n",
       "      <td>1.60914e-31</td>\n",
       "    </tr>\n",
       "    <tr>\n",
       "      <th>HouseStyle</th>\n",
       "      <td>3.37678e-25</td>\n",
       "    </tr>\n",
       "    <tr>\n",
       "      <th>LotShape</th>\n",
       "      <td>6.44752e-25</td>\n",
       "    </tr>\n",
       "    <tr>\n",
       "      <th>FireplaceQu</th>\n",
       "      <td>5.0163e-19</td>\n",
       "    </tr>\n",
       "    <tr>\n",
       "      <th>Electrical</th>\n",
       "      <td>1.66325e-18</td>\n",
       "    </tr>\n",
       "    <tr>\n",
       "      <th>PavedDrive</th>\n",
       "      <td>1.80357e-18</td>\n",
       "    </tr>\n",
       "    <tr>\n",
       "      <th>BsmtFullBath</th>\n",
       "      <td>2.88244e-17</td>\n",
       "    </tr>\n",
       "    <tr>\n",
       "      <th>RoofStyle</th>\n",
       "      <td>3.65352e-17</td>\n",
       "    </tr>\n",
       "    <tr>\n",
       "      <th>BedroomAbvGr</th>\n",
       "      <td>3.30432e-16</td>\n",
       "    </tr>\n",
       "    <tr>\n",
       "      <th>...</th>\n",
       "      <td>...</td>\n",
       "    </tr>\n",
       "    <tr>\n",
       "      <th>BsmtHalfBath</th>\n",
       "      <td>0.801374</td>\n",
       "    </tr>\n",
       "    <tr>\n",
       "      <th>Id</th>\n",
       "      <td>NaN</td>\n",
       "    </tr>\n",
       "    <tr>\n",
       "      <th>MSSubClass</th>\n",
       "      <td>NaN</td>\n",
       "    </tr>\n",
       "    <tr>\n",
       "      <th>LotFrontage</th>\n",
       "      <td>NaN</td>\n",
       "    </tr>\n",
       "    <tr>\n",
       "      <th>LotArea</th>\n",
       "      <td>NaN</td>\n",
       "    </tr>\n",
       "    <tr>\n",
       "      <th>Street</th>\n",
       "      <td>NaN</td>\n",
       "    </tr>\n",
       "    <tr>\n",
       "      <th>Utilities</th>\n",
       "      <td>NaN</td>\n",
       "    </tr>\n",
       "    <tr>\n",
       "      <th>YearBuilt</th>\n",
       "      <td>NaN</td>\n",
       "    </tr>\n",
       "    <tr>\n",
       "      <th>YearRemodAdd</th>\n",
       "      <td>NaN</td>\n",
       "    </tr>\n",
       "    <tr>\n",
       "      <th>MasVnrArea</th>\n",
       "      <td>NaN</td>\n",
       "    </tr>\n",
       "    <tr>\n",
       "      <th>BsmtFinType1</th>\n",
       "      <td>NaN</td>\n",
       "    </tr>\n",
       "    <tr>\n",
       "      <th>BsmtFinSF1</th>\n",
       "      <td>NaN</td>\n",
       "    </tr>\n",
       "    <tr>\n",
       "      <th>BsmtFinSF2</th>\n",
       "      <td>NaN</td>\n",
       "    </tr>\n",
       "    <tr>\n",
       "      <th>BsmtUnfSF</th>\n",
       "      <td>NaN</td>\n",
       "    </tr>\n",
       "    <tr>\n",
       "      <th>TotalBsmtSF</th>\n",
       "      <td>NaN</td>\n",
       "    </tr>\n",
       "    <tr>\n",
       "      <th>CentralAir</th>\n",
       "      <td>NaN</td>\n",
       "    </tr>\n",
       "    <tr>\n",
       "      <th>1stFlrSF</th>\n",
       "      <td>NaN</td>\n",
       "    </tr>\n",
       "    <tr>\n",
       "      <th>2ndFlrSF</th>\n",
       "      <td>NaN</td>\n",
       "    </tr>\n",
       "    <tr>\n",
       "      <th>LowQualFinSF</th>\n",
       "      <td>NaN</td>\n",
       "    </tr>\n",
       "    <tr>\n",
       "      <th>GrLivArea</th>\n",
       "      <td>NaN</td>\n",
       "    </tr>\n",
       "    <tr>\n",
       "      <th>GarageYrBlt</th>\n",
       "      <td>NaN</td>\n",
       "    </tr>\n",
       "    <tr>\n",
       "      <th>GarageArea</th>\n",
       "      <td>NaN</td>\n",
       "    </tr>\n",
       "    <tr>\n",
       "      <th>WoodDeckSF</th>\n",
       "      <td>NaN</td>\n",
       "    </tr>\n",
       "    <tr>\n",
       "      <th>OpenPorchSF</th>\n",
       "      <td>NaN</td>\n",
       "    </tr>\n",
       "    <tr>\n",
       "      <th>EnclosedPorch</th>\n",
       "      <td>NaN</td>\n",
       "    </tr>\n",
       "    <tr>\n",
       "      <th>3SsnPorch</th>\n",
       "      <td>NaN</td>\n",
       "    </tr>\n",
       "    <tr>\n",
       "      <th>ScreenPorch</th>\n",
       "      <td>NaN</td>\n",
       "    </tr>\n",
       "    <tr>\n",
       "      <th>PoolArea</th>\n",
       "      <td>NaN</td>\n",
       "    </tr>\n",
       "    <tr>\n",
       "      <th>MiscVal</th>\n",
       "      <td>NaN</td>\n",
       "    </tr>\n",
       "    <tr>\n",
       "      <th>SalePrice</th>\n",
       "      <td>NaN</td>\n",
       "    </tr>\n",
       "  </tbody>\n",
       "</table>\n",
       "<p>81 rows × 1 columns</p>\n",
       "</div>"
      ],
      "text/plain": [
       "                     pvalue\n",
       "OverallQual               0\n",
       "Neighborhood   1.49773e-224\n",
       "GarageCars     1.12113e-211\n",
       "ExterQual      1.43955e-204\n",
       "KitchenQual    3.03221e-192\n",
       "BsmtQual       9.61062e-186\n",
       "FullBath       3.80219e-129\n",
       "TotRmsAbvGrd   1.19171e-103\n",
       "GarageFinish    1.19912e-93\n",
       "Foundation       5.7919e-91\n",
       "Fireplaces        4.421e-83\n",
       "HeatingQC       2.66706e-67\n",
       "GarageType      1.24715e-66\n",
       "MasVnrType      4.79333e-65\n",
       "BsmtExposure    1.80773e-63\n",
       "SaleCondition   7.98827e-44\n",
       "Exterior1st     2.58609e-43\n",
       "Exterior2nd     4.84219e-43\n",
       "SaleType        5.03977e-42\n",
       "OverallCond     7.96229e-38\n",
       "MSZoning        8.81763e-35\n",
       "HalfBath        1.60914e-31\n",
       "HouseStyle      3.37678e-25\n",
       "LotShape        6.44752e-25\n",
       "FireplaceQu      5.0163e-19\n",
       "Electrical      1.66325e-18\n",
       "PavedDrive      1.80357e-18\n",
       "BsmtFullBath    2.88244e-17\n",
       "RoofStyle       3.65352e-17\n",
       "BedroomAbvGr    3.30432e-16\n",
       "...                     ...\n",
       "BsmtHalfBath       0.801374\n",
       "Id                      NaN\n",
       "MSSubClass              NaN\n",
       "LotFrontage             NaN\n",
       "LotArea                 NaN\n",
       "Street                  NaN\n",
       "Utilities               NaN\n",
       "YearBuilt               NaN\n",
       "YearRemodAdd            NaN\n",
       "MasVnrArea              NaN\n",
       "BsmtFinType1            NaN\n",
       "BsmtFinSF1              NaN\n",
       "BsmtFinSF2              NaN\n",
       "BsmtUnfSF               NaN\n",
       "TotalBsmtSF             NaN\n",
       "CentralAir              NaN\n",
       "1stFlrSF                NaN\n",
       "2ndFlrSF                NaN\n",
       "LowQualFinSF            NaN\n",
       "GrLivArea               NaN\n",
       "GarageYrBlt             NaN\n",
       "GarageArea              NaN\n",
       "WoodDeckSF              NaN\n",
       "OpenPorchSF             NaN\n",
       "EnclosedPorch           NaN\n",
       "3SsnPorch               NaN\n",
       "ScreenPorch             NaN\n",
       "PoolArea                NaN\n",
       "MiscVal                 NaN\n",
       "SalePrice               NaN\n",
       "\n",
       "[81 rows x 1 columns]"
      ]
     },
     "execution_count": 59,
     "metadata": {},
     "output_type": "execute_result"
    }
   ],
   "source": [
    "fpvalue = pd.DataFrame(index=df.columns,columns=['pvalue'])\n",
    "fpvalue.loc['MSZoning'] =8.817633866272648e-35\n",
    "fpvalue.loc['Alley'] =4.899826166771113e-08\n",
    "fpvalue.loc['LotShape'] =6.447523852011766e-25\n",
    "fpvalue.loc['LandContour'] =2.7422167521379096e-08\n",
    "fpvalue.loc['LotConfig'] =3.163167473604189e-06\n",
    "fpvalue.loc['LandSlope'] =0.1413963584114019\n",
    "fpvalue.loc['Neighborhood'] =1.497728506698194e-224\n",
    "fpvalue.loc['Condition1'] =8.904549416138853e-08\n",
    "fpvalue.loc['Condition2'] =0.043425658360948464\n",
    "fpvalue.loc['BldgType'] =2.0567364604967015e-10\n",
    "fpvalue.loc['HouseStyle'] =3.376776535121222e-25\n",
    "fpvalue.loc['RoofStyle'] =3.653523047099125e-17\n",
    "fpvalue.loc['RoofMatl'] =7.231444779987188e-08\n",
    "fpvalue.loc['Exterior1st'] =2.5860887286376316e-43\n",
    "fpvalue.loc['Exterior2nd'] =4.8421856706985465e-43\n",
    "fpvalue.loc['MasVnrType'] =4.793331178118786e-65\n",
    "fpvalue.loc['ExterQual'] =1.4395510967787893e-204\n",
    "fpvalue.loc['ExterCond'] =5.106680608671862e-07\n",
    "fpvalue.loc['Foundation'] =5.791895002232233e-91\n",
    "fpvalue.loc['BsmtQual'] =9.610615106781709e-186\n",
    "fpvalue.loc['BsmtCond'] =5.136900937703027e-09\n",
    "fpvalue.loc['BsmtExposure'] =1.8077310066862167e-63\n",
    "fpvalue.loc['BsmtFinType2'] =0.019410089690234594\n",
    "fpvalue.loc['Heating'] =0.000753472106445497\n",
    "fpvalue.loc['HeatingQC'] =2.667062092104357e-67\n",
    "fpvalue.loc['Electrical'] =1.6632487814737638e-18\n",
    "fpvalue.loc['KitchenQual'] =3.0322127528400614e-192\n",
    "fpvalue.loc['Functional'] =0.0004841696801078294\n",
    "fpvalue.loc['FireplaceQu'] =5.016300447019087e-19\n",
    "fpvalue.loc['GarageType'] =1.247153670658973e-66\n",
    "fpvalue.loc['GarageFinish'] =1.1991165312294262e-93\n",
    "fpvalue.loc['GarageQual'] =1.2408026478015653e-07\n",
    "fpvalue.loc['GarageCond'] =1.3097143055289643e-07\n",
    "fpvalue.loc['PavedDrive'] =1.803568890651533e-18\n",
    "fpvalue.loc['PoolQC'] =0.30398528011207915\n",
    "fpvalue.loc['Fence'] =0.002312645635631918\n",
    "fpvalue.loc['MiscFeature'] =0.10472761568792907\n",
    "fpvalue.loc['SaleType'] =5.039766889462451e-42\n",
    "fpvalue.loc['SaleCondition'] =7.988268404991176e-44\n",
    "fpvalue.loc['OverallQual'] =0.0\n",
    "fpvalue.loc['OverallCond'] =7.962288819951294e-38\n",
    "fpvalue.loc['BsmtFullBath'] =2.88243552729416e-17\n",
    "fpvalue.loc['BsmtHalfBath'] =0.8013743052059724\n",
    "fpvalue.loc['FullBath'] =3.802187932448508e-129\n",
    "fpvalue.loc['BedroomAbvGr'] =3.3043196450461637e-16\n",
    "fpvalue.loc['HalfBath'] =1.6091449454034875e-31\n",
    "fpvalue.loc['KitchenAbvGr'] =2.011735142857873e-06\n",
    "fpvalue.loc['TotRmsAbvGrd'] =1.1917103366526644e-103\n",
    "fpvalue.loc['Fireplaces'] =4.4210010307257784e-83\n",
    "fpvalue.loc['GarageCars'] =1.1211287650612485e-211\n",
    "fpvalue.loc['MoSold'] =0.48335232989243127\n",
    "fpvalue.loc['YrSold'] =0.6300887663573457\n",
    "fpvalue.sort_values('pvalue')"
   ]
  },
  {
   "cell_type": "code",
   "execution_count": null,
   "metadata": {},
   "outputs": [],
   "source": []
  }
 ],
 "metadata": {
  "kernelspec": {
   "display_name": "Python 3",
   "language": "python",
   "name": "python3"
  },
  "language_info": {
   "codemirror_mode": {
    "name": "ipython",
    "version": 3
   },
   "file_extension": ".py",
   "mimetype": "text/x-python",
   "name": "python",
   "nbconvert_exporter": "python",
   "pygments_lexer": "ipython3",
   "version": "3.6.4"
  }
 },
 "nbformat": 4,
 "nbformat_minor": 2
}
