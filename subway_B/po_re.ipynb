{
 "cells": [
  {
   "cell_type": "code",
   "execution_count": 1,
   "metadata": {},
   "outputs": [],
   "source": [
    "df_train = pd.read_csv('../train.csv')\n",
    "df_test = pd.read_csv('../test.csv')\n",
    "df = pd.concat([df_train.drop('SalePrice', 1), df_test])\n",
    "\n",
    "df_train['SalePrice'] = df_train['SalePrice'].apply(lambda x : np.log(x))\n",
    "\n",
    "tonum = {\"ExterQual\": {'Ex' : 5, 'Gd' : 4, 'TA' : 3, 'Fa' : 2, 'Po' : 1, np.nan : 0},\n",
    "         \"ExterCond\": {'Ex' : 5, 'Gd' : 4, 'TA' : 3, 'Fa' : 2, 'Po' : 1, np.nan : 0},\n",
    "         \"BsmtQual\": {'Ex' : 5, 'Gd' : 4, 'TA' : 3, 'Fa' : 2, 'Po' : 1, np.nan : 0},\n",
    "         \"BsmtCond\": {'Ex' : 5, 'Gd' : 4, 'TA' : 3, 'Fa' : 2, 'Po' : 1, np.nan : 0},\n",
    "         \"HeatingQC\": {'Ex' : 5, 'Gd' : 4, 'TA' : 3, 'Fa' : 2, 'Po' : 1, np.nan : 0},\n",
    "         \"KitchenQual\": {'Ex' : 5, 'Gd' : 4, 'TA' : 3, 'Fa' : 2, 'Po' : 1, np.nan : 0},\n",
    "         \"FireplaceQu\": {'Ex' : 5, 'Gd' : 4, 'TA' : 3, 'Fa' : 2, 'Po' : 1, np.nan : 0},\n",
    "         \"GarageQual\": {'Ex' : 5, 'Gd' : 4, 'TA' : 3, 'Fa' : 2, 'Po' : 1, np.nan : 0},\n",
    "         \"GarageCond\": {'Ex' : 5, 'Gd' : 4, 'TA' : 3, 'Fa' : 2, 'Po' : 1, np.nan : 0},\n",
    "         \"PoolQC\": {'Ex' : 5, 'Gd' : 4, 'TA' : 3, 'Fa' : 2, 'Po' : 1, np.nan : 0},\n",
    "         \"BsmtFinType1\" : {'GLQ' : 6, 'ALQ' : 5, 'BLQ': 4,'Rec' : 3,'LwQ' : 2, 'Unf' : 1, np.nan : 0},\n",
    "         \"BsmtFinType2\" : {'GLQ' : 6, 'ALQ' : 5, 'BLQ': 4,'Rec' : 3,'LwQ' : 2, 'Unf' : 1, np.nan : 0},\n",
    "        }\n",
    "\n",
    "df= df.replace(tonum)\n",
    "\n",
    "fill_na_ls = ['GarageType', 'MiscFeature', 'Fence', 'GarageFinish', 'BsmtExposure', 'Alley', 'MasVnrType']\n",
    "\n",
    "for name in fill_na_ls:\n",
    "    df[name] = df[name].fillna('N')\n",
    "    \n",
    "fill_zero_ls = ['BsmtFinSF1', 'BsmtFinSF2', 'BsmtFullBath', 'BsmtHalfBath', 'BsmtUnfSF', 'TotalBsmtSF', 'GarageArea', 'GarageCars', 'GarageYrBlt', 'MasVnrArea']\n",
    "\n",
    "for name in fill_zero_ls:\n",
    "    df[name] = df[name].fillna(0)\n",
    "    \n",
    "fill_mode_ls = ['Electrical', 'Functional', 'MSZoning', 'SaleType', 'LotFrontage', 'Utilities', 'Exterior1st', 'Exterior2nd']\n",
    "for name in fill_mode_ls:\n",
    "    df[name] = df[name].fillna(df[name].mode()[0])\n",
    "\n",
    "df['TotSF'] = df['1stFlrSF'] + df['TotalBsmtSF'] + df['2ndFlrSF']\n",
    "\n",
    "df_test = df.iloc[1460:]\n",
    "df = df.iloc[:1460]\n",
    "df['SalePrice'] = df_train['SalePrice']"
   ]
  },
  {
   "cell_type": "markdown",
   "metadata": {},
   "source": [
    "\"SalePrice ~ scale(OverallQual) + scale(OverallCond) + scale(GrLivArea) + scale(KitchenQual)+ scale(BsmtFullBath) + scale(GarageCars) + scale(BsmtQual) + scale(YearBuilt) + C(Neighborhood) + C(MSZoning)\""
   ]
  },
  {
   "cell_type": "markdown",
   "metadata": {},
   "source": [
    "$$ y = OQ + OC + GA + KQ + GC + BQ + YB + Category $$"
   ]
  },
  {
   "cell_type": "code",
   "execution_count": 43,
   "metadata": {},
   "outputs": [
    {
     "name": "stdout",
     "output_type": "stream",
     "text": [
      "0.8611639414474418\n"
     ]
    }
   ],
   "source": [
    "from patsy import dmatrices\n",
    "from sklearn.linear_model import LinearRegression\n",
    "from sklearn.model_selection import cross_val_score\n",
    "from sklearn.model_selection import KFold\n",
    "cv = KFold(10)\n",
    "y, X = dmatrices(\"SalePrice ~ scale(OverallQual) + scale(OverallCond) + scale(GrLivArea) + scale(KitchenQual) + scale(GarageCars) + scale(BsmtQual) + scale(YearBuilt) + C(Neighborhood) + C(MSZoning)\", df, return_type = 'dataframe' )\n",
    "model = LinearRegression().fit(X, y)\n",
    "cvs = list(cross_val_score(model, X, y, scoring=\"r2\", cv=cv))\n",
    "print(np.mean(cvs))"
   ]
  },
  {
   "cell_type": "markdown",
   "metadata": {},
   "source": [
    "$$ y = OQ + OQ^2 + OC + GA + KQ + GC + BQ + YB + Category $$"
   ]
  },
  {
   "cell_type": "code",
   "execution_count": 44,
   "metadata": {},
   "outputs": [
    {
     "name": "stdout",
     "output_type": "stream",
     "text": [
      "0.8608755560768608\n"
     ]
    }
   ],
   "source": [
    "y, X = dmatrices(\"SalePrice ~ scale(OverallQual) + scale(I(OverallQual**2)) + scale(OverallCond) + scale(GrLivArea) + scale(KitchenQual)+ scale(GarageCars) + scale(BsmtQual) + scale(YearBuilt) + C(Neighborhood) + C(MSZoning)\", df, return_type = 'dataframe' )\n",
    "model = LinearRegression().fit(X, y)\n",
    "cvs = list(cross_val_score(model, X, y, scoring=\"r2\", cv=cv))\n",
    "print(np.mean(cvs))\n",
    "# origin : 8611639414474418"
   ]
  },
  {
   "cell_type": "markdown",
   "metadata": {},
   "source": [
    "$$ y = OQ + OQ^2 + OQ^3 + OC + GA + KQ + GC + BQ + YB + Category $$"
   ]
  },
  {
   "cell_type": "code",
   "execution_count": 46,
   "metadata": {},
   "outputs": [
    {
     "name": "stdout",
     "output_type": "stream",
     "text": [
      "0.860481481466843\n"
     ]
    }
   ],
   "source": [
    "y, X = dmatrices(\"SalePrice ~ scale(OverallQual) + scale(I(OverallQual**2)) + scale(I(OverallQual**3)) + scale(OverallCond) + scale(GrLivArea) + scale(KitchenQual)+ scale(GarageCars) + scale(BsmtQual) + scale(YearBuilt) + C(Neighborhood) + C(MSZoning)\", df, return_type = 'dataframe' )\n",
    "model = LinearRegression().fit(X, y)\n",
    "cvs = list(cross_val_score(model, X, y, scoring=\"r2\", cv=cv))\n",
    "print(np.mean(cvs))\n",
    "# origin : 8611639414474418"
   ]
  },
  {
   "cell_type": "markdown",
   "metadata": {},
   "source": [
    "$$ y = OQ + OQ^2 + OQ^3 + OQ^4 + OC + GA + KQ + GC + BQ + YB + Category $$"
   ]
  },
  {
   "cell_type": "code",
   "execution_count": 47,
   "metadata": {},
   "outputs": [
    {
     "name": "stdout",
     "output_type": "stream",
     "text": [
      "0.8608202595127334\n"
     ]
    }
   ],
   "source": [
    "y, X = dmatrices(\"SalePrice ~ scale(OverallQual) + scale(I(OverallQual**2)) + scale(I(OverallQual**3)) + scale(I(OverallQual**4)) + scale(OverallCond) + scale(GrLivArea) + scale(KitchenQual) + scale(GarageCars) + scale(BsmtQual) + scale(YearBuilt) + C(Neighborhood) + C(MSZoning)\", df, return_type = 'dataframe' )\n",
    "model = LinearRegression().fit(X, y)\n",
    "cvs = list(cross_val_score(model, X, y, scoring=\"r2\", cv=cv))\n",
    "print(np.mean(cvs))\n",
    "# origin : 8611639414474418"
   ]
  },
  {
   "cell_type": "markdown",
   "metadata": {},
   "source": [
    "$$ y = OQ + OC + OC^2 + GA + KQ + GC + BQ + YB + Category $$"
   ]
  },
  {
   "cell_type": "code",
   "execution_count": 49,
   "metadata": {},
   "outputs": [
    {
     "name": "stdout",
     "output_type": "stream",
     "text": [
      "0.8611319452611343\n"
     ]
    }
   ],
   "source": [
    "y, X = dmatrices(\"SalePrice ~ scale(OverallQual) + scale(OverallCond) + scale(I(OverallCond**2)) + scale(GrLivArea) + scale(KitchenQual) + scale(GarageCars) + scale(BsmtQual) + scale(YearBuilt) + C(Neighborhood) + C(MSZoning)\", df, return_type = 'dataframe' )\n",
    "model = LinearRegression().fit(X, y)\n",
    "cvs = list(cross_val_score(model, X, y, scoring=\"r2\", cv=cv))\n",
    "print(np.mean(cvs))\n",
    "## origin : 8611639414474418"
   ]
  },
  {
   "cell_type": "markdown",
   "metadata": {},
   "source": [
    "$\\Diamond$ $$ y = OQ + OC + GA + GA^2 + KQ + GC + BQ + YB + Category $$"
   ]
  },
  {
   "cell_type": "code",
   "execution_count": 50,
   "metadata": {},
   "outputs": [
    {
     "name": "stdout",
     "output_type": "stream",
     "text": [
      "0.8740162661327588\n"
     ]
    }
   ],
   "source": [
    "y, X = dmatrices(\"SalePrice ~ scale(OverallQual) + scale(OverallCond) + scale(GrLivArea) + scale(I(GrLivArea**2)) + scale(KitchenQual) + scale(GarageCars) + scale(BsmtQual) + scale(YearBuilt) + C(Neighborhood) + C(MSZoning)\", df, return_type = 'dataframe' )\n",
    "model = LinearRegression().fit(X, y)\n",
    "cvs = list(cross_val_score(model, X, y, scoring=\"r2\", cv=cv))\n",
    "print(np.mean(cvs))\n",
    "# origin : 8611639414474418"
   ]
  },
  {
   "cell_type": "markdown",
   "metadata": {},
   "source": [
    "$\\Diamond$ $$ y = OQ + OC + GA + GA^2 + GA^3 + KQ + GC + BQ + YB + Category $$"
   ]
  },
  {
   "cell_type": "code",
   "execution_count": 51,
   "metadata": {},
   "outputs": [
    {
     "name": "stdout",
     "output_type": "stream",
     "text": [
      "0.8768850176780474\n"
     ]
    }
   ],
   "source": [
    "y, X = dmatrices(\"SalePrice ~ scale(OverallQual) + scale(OverallCond) + scale(GrLivArea) + scale(I(GrLivArea**2)) + scale(I(GrLivArea**3)) + scale(KitchenQual) + scale(GarageCars) + scale(BsmtQual) + scale(YearBuilt) + C(Neighborhood) + C(MSZoning)\", df, return_type = 'dataframe' )\n",
    "model = LinearRegression().fit(X, y)\n",
    "cvs = list(cross_val_score(model, X, y, scoring=\"r2\", cv=cv))\n",
    "print(np.mean(cvs))\n",
    "# origin : 8611639414474418"
   ]
  },
  {
   "cell_type": "markdown",
   "metadata": {},
   "source": [
    "$$ y = OQ + OC + GA + GA^2 + GA^3 + GA^4 + KQ + GC + BQ + YB + Category $$"
   ]
  },
  {
   "cell_type": "code",
   "execution_count": 52,
   "metadata": {},
   "outputs": [
    {
     "name": "stdout",
     "output_type": "stream",
     "text": [
      "0.8256637072573622\n"
     ]
    }
   ],
   "source": [
    "y, X = dmatrices(\"SalePrice ~ scale(OverallQual) + scale(OverallCond) + scale(GrLivArea) + scale(I(GrLivArea**2)) + scale(I(GrLivArea**3)) + scale(I(GrLivArea**4)) + scale(KitchenQual)+ scale(GarageCars) + scale(BsmtQual) + scale(YearBuilt) + C(Neighborhood) + C(MSZoning)\", df, return_type = 'dataframe' )\n",
    "model = LinearRegression().fit(X, y)\n",
    "cvs = list(cross_val_score(model, X, y, scoring=\"r2\", cv=cv))\n",
    "print(np.mean(cvs))\n",
    "# origin : 8611639414474418"
   ]
  },
  {
   "cell_type": "markdown",
   "metadata": {},
   "source": [
    " $$ y = OQ + OC + GA + KQ + KQ^2 + GC + BQ + YB + Category $$"
   ]
  },
  {
   "cell_type": "code",
   "execution_count": 53,
   "metadata": {},
   "outputs": [
    {
     "name": "stdout",
     "output_type": "stream",
     "text": [
      "0.8610964059018753\n"
     ]
    }
   ],
   "source": [
    "y, X = dmatrices(\"SalePrice ~ scale(OverallQual) + scale(OverallCond) + scale(GrLivArea) + scale(KitchenQual) +scale(I(KitchenQual**2)) + scale(GarageCars) + scale(BsmtQual) + scale(YearBuilt) + C(Neighborhood) + C(MSZoning)\", df, return_type = 'dataframe' )\n",
    "model = LinearRegression().fit(X, y)\n",
    "cvs = list(cross_val_score(model, X, y, scoring=\"r2\", cv=cv))\n",
    "print(np.mean(cvs))\n",
    "# origin : 0.8680159706283339"
   ]
  },
  {
   "cell_type": "markdown",
   "metadata": {},
   "source": [
    "$\\Diamond$ $$ y = OQ + OC + GA + KQ + KQ^2 + KQ^3 + GC + BQ + YB + Category $$"
   ]
  },
  {
   "cell_type": "code",
   "execution_count": 54,
   "metadata": {},
   "outputs": [
    {
     "name": "stdout",
     "output_type": "stream",
     "text": [
      "0.86138566816928\n"
     ]
    }
   ],
   "source": [
    "y, X = dmatrices(\"SalePrice ~ scale(OverallQual) + scale(OverallCond) + scale(GrLivArea) + scale(KitchenQual) + scale(I(KitchenQual**2)) + scale(I(KitchenQual**3)) + scale(GarageCars) + scale(BsmtQual) + scale(YearBuilt) + C(Neighborhood) + C(MSZoning)\", df, return_type = 'dataframe' )\n",
    "model = LinearRegression().fit(X, y)\n",
    "cvs = list(cross_val_score(model, X, y, scoring=\"r2\", cv=cv))\n",
    "print(np.mean(cvs))\n",
    "# origin : 8611639414474418"
   ]
  },
  {
   "cell_type": "markdown",
   "metadata": {},
   "source": [
    "$$ y = OQ + OC + GA + KQ + KQ^2 + KQ^3 + KQ^4 + GC + BQ + YB + Category $$"
   ]
  },
  {
   "cell_type": "code",
   "execution_count": 55,
   "metadata": {},
   "outputs": [
    {
     "name": "stdout",
     "output_type": "stream",
     "text": [
      "0.8611439344195485\n"
     ]
    }
   ],
   "source": [
    "y, X = dmatrices(\"SalePrice ~ scale(OverallQual) + scale(OverallCond) + scale(GrLivArea) + scale(KitchenQual) + scale(I(KitchenQual**2)) + scale(I(KitchenQual**3)) + scale(I(KitchenQual**4)) + scale(GarageCars) + scale(BsmtQual) + scale(YearBuilt) + C(Neighborhood) + C(MSZoning)\", df, return_type = 'dataframe' )\n",
    "model = LinearRegression().fit(X, y)\n",
    "cvs = list(cross_val_score(model, X, y, scoring=\"r2\", cv=cv))\n",
    "print(np.mean(cvs))\n",
    "# origin : 8611639414474418"
   ]
  },
  {
   "cell_type": "markdown",
   "metadata": {},
   "source": [
    "$$ y = OQ + OC + GA + KQ + GC + GC^2 + BQ + YB + Category $$"
   ]
  },
  {
   "cell_type": "code",
   "execution_count": 56,
   "metadata": {},
   "outputs": [
    {
     "name": "stdout",
     "output_type": "stream",
     "text": [
      "0.860480756638179\n"
     ]
    }
   ],
   "source": [
    "y, X = dmatrices(\"SalePrice ~ scale(OverallQual) + scale(OverallCond) + scale(GrLivArea) + scale(KitchenQual) + scale(GarageCars) + scale(I(GarageCars**2))+ scale(BsmtQual) + scale(YearBuilt) + C(Neighborhood) + C(MSZoning)\", df, return_type = 'dataframe' )\n",
    "model = LinearRegression().fit(X, y)\n",
    "cvs = list(cross_val_score(model, X, y, scoring=\"r2\", cv=cv))\n",
    "print(np.mean(cvs))\n",
    "# origin : 8611639414474418"
   ]
  },
  {
   "cell_type": "markdown",
   "metadata": {},
   "source": [
    "$$ y = OQ + OC + GA + KQ + BF + GC + GC^2 + GC^3 + BQ + YB + Category $$"
   ]
  },
  {
   "cell_type": "code",
   "execution_count": 57,
   "metadata": {},
   "outputs": [
    {
     "name": "stdout",
     "output_type": "stream",
     "text": [
      "0.8605840506988344\n"
     ]
    }
   ],
   "source": [
    "y, X = dmatrices(\"SalePrice ~ scale(OverallQual) + scale(OverallCond) + scale(GrLivArea) + scale(KitchenQual) + scale(GarageCars) + scale(I(GarageCars**2)) +  scale(I(GarageCars**3)) + scale(BsmtQual) + scale(YearBuilt) + C(Neighborhood) + C(MSZoning)\", df, return_type = 'dataframe' )\n",
    "model = LinearRegression().fit(X, y)\n",
    "cvs = list(cross_val_score(model, X, y, scoring=\"r2\", cv=cv))\n",
    "print(np.mean(cvs))\n",
    "# origin : 8611639414474418"
   ]
  },
  {
   "cell_type": "markdown",
   "metadata": {},
   "source": [
    "$$ y = OQ + OC + GA + KQ + GC + GC^2 + GC^3 + GC^4 + BQ + YB + Category $$"
   ]
  },
  {
   "cell_type": "code",
   "execution_count": 58,
   "metadata": {},
   "outputs": [
    {
     "name": "stdout",
     "output_type": "stream",
     "text": [
      "0.8603540080665549\n"
     ]
    }
   ],
   "source": [
    "y, X = dmatrices(\"SalePrice ~ scale(OverallQual) + scale(OverallCond) + scale(GrLivArea) + scale(KitchenQual) + scale(GarageCars) + scale(I(GarageCars**2)) +  scale(I(GarageCars**3)) + scale(I(GarageCars**4)) +scale(BsmtQual) + scale(YearBuilt) + C(Neighborhood) + C(MSZoning)\", df, return_type = 'dataframe' )\n",
    "model = LinearRegression().fit(X, y)\n",
    "cvs = list(cross_val_score(model, X, y, scoring=\"r2\", cv=cv))\n",
    "print(np.mean(cvs))\n",
    "# origin : 8611639414474418"
   ]
  },
  {
   "cell_type": "markdown",
   "metadata": {},
   "source": [
    "$$ y = OQ + OC + GA + KQ + GC + BQ + BQ^2 + YB + Category $$"
   ]
  },
  {
   "cell_type": "code",
   "execution_count": 59,
   "metadata": {},
   "outputs": [
    {
     "name": "stdout",
     "output_type": "stream",
     "text": [
      "0.8610287607495385\n"
     ]
    }
   ],
   "source": [
    "y, X = dmatrices(\"SalePrice ~ scale(OverallQual) + scale(OverallCond) + scale(GrLivArea) + scale(KitchenQual) + scale(GarageCars) + scale(BsmtQual) + scale(I(BsmtQual**2)) + scale(YearBuilt) + C(Neighborhood) + C(MSZoning)\", df, return_type = 'dataframe' )\n",
    "model = LinearRegression().fit(X, y)\n",
    "cvs = list(cross_val_score(model, X, y, scoring=\"r2\", cv=cv))\n",
    "print(np.mean(cvs))\n",
    "# origin : 8611639414474418"
   ]
  },
  {
   "cell_type": "markdown",
   "metadata": {},
   "source": [
    "$\\Diamond$  $$ y = OQ + OC + GA + KQ + GC + BQ + BQ^2 + BQ^3 + YB + Category $$"
   ]
  },
  {
   "cell_type": "code",
   "execution_count": 60,
   "metadata": {},
   "outputs": [
    {
     "name": "stdout",
     "output_type": "stream",
     "text": [
      "0.8614886615374939\n"
     ]
    }
   ],
   "source": [
    "y, X = dmatrices(\"SalePrice ~ scale(OverallQual) + scale(OverallCond) + scale(GrLivArea) + scale(KitchenQual) + scale(GarageCars) + scale(BsmtQual) + scale(I(BsmtQual**2)) + scale(I(BsmtQual**3)) + scale(YearBuilt) + C(Neighborhood) + C(MSZoning)\", df, return_type = 'dataframe' )\n",
    "model = LinearRegression().fit(X, y)\n",
    "cvs = list(cross_val_score(model, X, y, scoring=\"r2\", cv=cv))\n",
    "print(np.mean(cvs))\n",
    "# origin : 8611639414474418"
   ]
  },
  {
   "cell_type": "markdown",
   "metadata": {},
   "source": [
    "$\\Diamond$ $$ y = OQ + OC + GA + KQ + GC + BQ + BQ^2 + BQ^3 + BQ^4 + YB + Category $$"
   ]
  },
  {
   "cell_type": "code",
   "execution_count": 61,
   "metadata": {},
   "outputs": [
    {
     "name": "stdout",
     "output_type": "stream",
     "text": [
      "0.8613280215623472\n"
     ]
    }
   ],
   "source": [
    "y, X = dmatrices(\"SalePrice ~ scale(OverallQual) + scale(OverallCond) + scale(GrLivArea) + scale(KitchenQual) + scale(GarageCars) + scale(BsmtQual) + scale(I(BsmtQual**2)) + scale(I(BsmtQual**3)) + scale(I(BsmtQual**4)) + scale(YearBuilt) + C(Neighborhood) + C(MSZoning)\", df, return_type = 'dataframe' )\n",
    "model = LinearRegression().fit(X, y)\n",
    "cvs = list(cross_val_score(model, X, y, scoring=\"r2\", cv=cv))\n",
    "print(np.mean(cvs))\n",
    "# origin : 8611639414474418"
   ]
  },
  {
   "cell_type": "markdown",
   "metadata": {},
   "source": [
    "$$ y = OQ + OC + GA + KQ + GC + BQ + BQ^2 + BQ^3 + BQ^4 + BQ^5 + YB + Category $$"
   ]
  },
  {
   "cell_type": "code",
   "execution_count": 62,
   "metadata": {},
   "outputs": [
    {
     "name": "stdout",
     "output_type": "stream",
     "text": [
      "0.8609262450442665\n"
     ]
    }
   ],
   "source": [
    "y, X = dmatrices(\"SalePrice ~ scale(OverallQual) + scale(OverallCond) + scale(GrLivArea) + scale(KitchenQual) + scale(GarageCars) + scale(BsmtQual) + scale(I(BsmtQual**2)) + scale(I(BsmtQual**3)) + scale(I(BsmtQual**4)) + scale(I(BsmtQual**5)) + scale(YearBuilt) + C(Neighborhood) + C(MSZoning)\", df, return_type = 'dataframe' )\n",
    "model = LinearRegression().fit(X, y)\n",
    "cvs = list(cross_val_score(model, X, y, scoring=\"r2\", cv=cv))\n",
    "print(np.mean(cvs))\n",
    "# origin : 8611639414474418"
   ]
  },
  {
   "cell_type": "markdown",
   "metadata": {},
   "source": [
    "$$ y = OQ + OC + GA + KQ + GC + BQ + YB + YB^2 + Category $$"
   ]
  },
  {
   "cell_type": "code",
   "execution_count": 63,
   "metadata": {},
   "outputs": [
    {
     "name": "stdout",
     "output_type": "stream",
     "text": [
      "0.8610769176884572\n"
     ]
    }
   ],
   "source": [
    "y, X = dmatrices(\"SalePrice ~ scale(OverallQual) + scale(OverallCond) + scale(GrLivArea) + scale(KitchenQual) + scale(GarageCars) + scale(BsmtQual) + scale(YearBuilt) + scale(I(YearBuilt**2)) + C(Neighborhood) + C(MSZoning)\", df, return_type = 'dataframe' )\n",
    "model = LinearRegression().fit(X, y)\n",
    "cvs = list(cross_val_score(model, X, y, scoring=\"r2\", cv=cv))\n",
    "print(np.mean(cvs))\n",
    "# origin : 8611639414474418\n"
   ]
  },
  {
   "cell_type": "markdown",
   "metadata": {},
   "source": [
    "$$ y = OQ + OC + GA + KQ + GC + BQ + YB + YB^2 + YB^3 + Category $$"
   ]
  },
  {
   "cell_type": "code",
   "execution_count": 64,
   "metadata": {},
   "outputs": [
    {
     "name": "stdout",
     "output_type": "stream",
     "text": [
      "0.860927429458361\n"
     ]
    }
   ],
   "source": [
    "y, X = dmatrices(\"SalePrice ~ scale(OverallQual) + scale(OverallCond) + scale(GrLivArea) + scale(KitchenQual) + scale(GarageCars) + scale(BsmtQual) + scale(YearBuilt) + scale(I(YearBuilt**2)) + scale(I(YearBuilt**3)) + C(Neighborhood) + C(MSZoning)\", df, return_type = 'dataframe' )\n",
    "model = LinearRegression().fit(X, y)\n",
    "cvs = list(cross_val_score(model, X, y, scoring=\"r2\", cv=cv))\n",
    "print(np.mean(cvs))\n",
    "# origin : 8611639414474418"
   ]
  },
  {
   "cell_type": "code",
   "execution_count": 65,
   "metadata": {},
   "outputs": [],
   "source": [
    "import statsmodels.api as sm\n",
    "\n",
    "model_a = sm.OLS.from_formula(\"SalePrice ~ scale(OverallQual) + scale(OverallCond) + scale(GrLivArea) + scale(I(GrLivArea**2)) + scale(I(GrLivArea**3)) + scale(KitchenQual) + scale(GarageCars) + scale(BsmtQual) + scale(YearBuilt) + C(Neighborhood) + C(MSZoning)\", data=df)\n",
    "result_a = model_a.fit()"
   ]
  },
  {
   "cell_type": "code",
   "execution_count": 69,
   "metadata": {
    "scrolled": false
   },
   "outputs": [
    {
     "name": "stdout",
     "output_type": "stream",
     "text": [
      "                            OLS Regression Results                            \n",
      "==============================================================================\n",
      "Dep. Variable:              SalePrice   R-squared:                       0.920\n",
      "Model:                            OLS   Adj. R-squared:                  0.918\n",
      "Method:                 Least Squares   F-statistic:                     413.7\n",
      "Date:                Wed, 14 Mar 2018   Prob (F-statistic):               0.00\n",
      "Time:                        22:01:29   Log-Likelihood:                 1156.3\n",
      "No. Observations:                1363   AIC:                            -2237.\n",
      "Df Residuals:                    1325   BIC:                            -2038.\n",
      "Df Model:                          37                                         \n",
      "Covariance Type:            nonrobust                                         \n",
      "==============================================================================================\n",
      "                                 coef    std err          t      P>|t|      [0.025      0.975]\n",
      "----------------------------------------------------------------------------------------------\n",
      "Intercept                     11.5027      0.113    101.666      0.000      11.281      11.725\n",
      "C(Neighborhood)[T.Blueste]    -0.0720      0.082     -0.882      0.378      -0.232       0.088\n",
      "C(Neighborhood)[T.BrDale]     -0.0840      0.043     -1.948      0.052      -0.169       0.001\n",
      "C(Neighborhood)[T.BrkSide]     0.1299      0.037      3.466      0.001       0.056       0.203\n",
      "C(Neighborhood)[T.ClearCr]     0.2381      0.038      6.201      0.000       0.163       0.313\n",
      "C(Neighborhood)[T.CollgCr]     0.0731      0.031      2.388      0.017       0.013       0.133\n",
      "C(Neighborhood)[T.Crawfor]     0.2360      0.036      6.533      0.000       0.165       0.307\n",
      "C(Neighborhood)[T.Edwards]     0.0680      0.034      2.017      0.044       0.002       0.134\n",
      "C(Neighborhood)[T.Gilbert]     0.0205      0.032      0.641      0.522      -0.042       0.083\n",
      "C(Neighborhood)[T.IDOTRR]      0.1300      0.044      2.955      0.003       0.044       0.216\n",
      "C(Neighborhood)[T.MeadowV]    -0.0825      0.044     -1.877      0.061      -0.169       0.004\n",
      "C(Neighborhood)[T.Mitchel]     0.0846      0.034      2.506      0.012       0.018       0.151\n",
      "C(Neighborhood)[T.NAmes]       0.1036      0.032      3.245      0.001       0.041       0.166\n",
      "C(Neighborhood)[T.NPkVill]    -0.0372      0.046     -0.804      0.422      -0.128       0.054\n",
      "C(Neighborhood)[T.NWAmes]      0.0572      0.033      1.743      0.082      -0.007       0.122\n",
      "C(Neighborhood)[T.NoRidge]     0.1566      0.035      4.446      0.000       0.088       0.226\n",
      "C(Neighborhood)[T.NridgHt]     0.1753      0.032      5.467      0.000       0.112       0.238\n",
      "C(Neighborhood)[T.OldTown]     0.0678      0.038      1.774      0.076      -0.007       0.143\n",
      "C(Neighborhood)[T.SWISU]       0.0319      0.041      0.781      0.435      -0.048       0.112\n",
      "C(Neighborhood)[T.Sawyer]      0.1061      0.034      3.162      0.002       0.040       0.172\n",
      "C(Neighborhood)[T.SawyerW]     0.0396      0.033      1.205      0.228      -0.025       0.104\n",
      "C(Neighborhood)[T.Somerst]     0.1325      0.038      3.450      0.001       0.057       0.208\n",
      "C(Neighborhood)[T.StoneBr]     0.1744      0.039      4.529      0.000       0.099       0.250\n",
      "C(Neighborhood)[T.Timber]      0.1148      0.034      3.350      0.001       0.048       0.182\n",
      "C(Neighborhood)[T.Veenker]     0.2137      0.052      4.089      0.000       0.111       0.316\n",
      "C(MSZoning)[T.FV]              0.3691      0.113      3.271      0.001       0.148       0.590\n",
      "C(MSZoning)[T.RH]              0.4453      0.115      3.871      0.000       0.220       0.671\n",
      "C(MSZoning)[T.RL]              0.4496      0.109      4.121      0.000       0.236       0.664\n",
      "C(MSZoning)[T.RM]              0.3572      0.108      3.306      0.001       0.145       0.569\n",
      "scale(OverallQual)             0.0806      0.005     14.926      0.000       0.070       0.091\n",
      "scale(OverallCond)             0.0567      0.003     16.821      0.000       0.050       0.063\n",
      "scale(GrLivArea)               0.3231      0.055      5.921      0.000       0.216       0.430\n",
      "scale(I(GrLivArea ** 2))      -0.3101      0.108     -2.875      0.004      -0.522      -0.098\n",
      "scale(I(GrLivArea ** 3))       0.1358      0.057      2.401      0.016       0.025       0.247\n",
      "scale(KitchenQual)             0.0272      0.004      6.340      0.000       0.019       0.036\n",
      "scale(GarageCars)              0.0522      0.004     12.813      0.000       0.044       0.060\n",
      "scale(BsmtQual)                0.0438      0.004     10.652      0.000       0.036       0.052\n",
      "scale(YearBuilt)               0.0878      0.007     12.300      0.000       0.074       0.102\n",
      "==============================================================================\n",
      "Omnibus:                        4.376   Durbin-Watson:                   1.928\n",
      "Prob(Omnibus):                  0.112   Jarque-Bera (JB):                4.325\n",
      "Skew:                          -0.111   Prob(JB):                        0.115\n",
      "Kurtosis:                       3.165   Cond. No.                         184.\n",
      "==============================================================================\n",
      "\n",
      "Warnings:\n",
      "[1] Standard Errors assume that the covariance matrix of the errors is correctly specified.\n"
     ]
    }
   ],
   "source": [
    "# 아웃라이어 제거\n",
    "influence = result_a.get_influence()\n",
    "cooks_d2, pvals = influence.cooks_distance\n",
    "fox_cr = 4 / (1460 - 1 - 38)\n",
    "idx = np.where(cooks_d2 > fox_cr)[0]\n",
    "idx = list(set(idx) - set([599, 956]))\n",
    "df_fin = df.copy()\n",
    "df_fin = df_fin.drop(df_fin.index[idx])\n",
    "\n",
    "\n",
    "model_firstfin = sm.OLS.from_formula(\"SalePrice ~ scale(OverallQual) + scale(OverallCond) + scale(GrLivArea) + scale(I(GrLivArea**2)) + scale(I(GrLivArea**3)) + scale(KitchenQual) + scale(GarageCars) + scale(BsmtQual) + scale(YearBuilt) + C(Neighborhood) + C(MSZoning)\", data=df_fin)\n",
    "result_firstfin = model_firstfin.fit()\n",
    "print(result_firstfin.summary())"
   ]
  },
  {
   "cell_type": "code",
   "execution_count": 70,
   "metadata": {},
   "outputs": [],
   "source": [
    "pre = pd.DataFrame(result_firstfin.predict(df_test))\n",
    "pre['Id']=pre.index\n",
    "pre = pre.rename(columns={0: 'SalePrice'})\n",
    "pre['Id'] = range(1461,2920)\n",
    "pre['SalePrice'] = pre['SalePrice'].apply(lambda x : np.exp(x))\n",
    "pre.to_csv('submission.csv', index=False)"
   ]
  },
  {
   "cell_type": "markdown",
   "metadata": {},
   "source": [
    "rmse : 0.14176"
   ]
  },
  {
   "cell_type": "markdown",
   "metadata": {},
   "source": [
    "$\\Diamond$ $$ y = OQ + OC + GA + GA^2 + GA^3 + KQ +KQ^2 +KQ^3 + GC + BQ + YB + Category $$"
   ]
  },
  {
   "cell_type": "code",
   "execution_count": 71,
   "metadata": {},
   "outputs": [
    {
     "name": "stdout",
     "output_type": "stream",
     "text": [
      "0.8785461600496355\n"
     ]
    }
   ],
   "source": [
    "y, X = dmatrices(\"SalePrice ~ scale(OverallQual) + scale(OverallCond) + scale(GrLivArea) + scale(I(GrLivArea**2)) + scale(I(GrLivArea**3)) + scale(KitchenQual) + scale(I(KitchenQual**2)) + scale(I(KitchenQual**3))  + scale(GarageCars) + scale(BsmtQual) + scale(YearBuilt) + C(Neighborhood) + C(MSZoning)\", df, return_type = 'dataframe' )\n",
    "model = LinearRegression().fit(X, y)\n",
    "cvs = list(cross_val_score(model, X, y, scoring=\"r2\", cv=cv))\n",
    "print(np.mean(cvs))\n",
    "# origin : 8611639414474418\n",
    "# GAorigin : 0.8768850176780474\n",
    "# KQorigin : 0.86138566816928\n"
   ]
  },
  {
   "cell_type": "code",
   "execution_count": 74,
   "metadata": {},
   "outputs": [
    {
     "name": "stdout",
     "output_type": "stream",
     "text": [
      "                            OLS Regression Results                            \n",
      "==============================================================================\n",
      "Dep. Variable:              SalePrice   R-squared:                       0.922\n",
      "Model:                            OLS   Adj. R-squared:                  0.920\n",
      "Method:                 Least Squares   F-statistic:                     402.0\n",
      "Date:                Wed, 14 Mar 2018   Prob (F-statistic):               0.00\n",
      "Time:                        22:03:03   Log-Likelihood:                 1171.7\n",
      "No. Observations:                1366   AIC:                            -2263.\n",
      "Df Residuals:                    1326   BIC:                            -2055.\n",
      "Df Model:                          39                                         \n",
      "Covariance Type:            nonrobust                                         \n",
      "==============================================================================================\n",
      "                                 coef    std err          t      P>|t|      [0.025      0.975]\n",
      "----------------------------------------------------------------------------------------------\n",
      "Intercept                     11.4823      0.112    102.747      0.000      11.263      11.702\n",
      "C(Neighborhood)[T.Blueste]    -0.0794      0.081     -0.984      0.325      -0.238       0.079\n",
      "C(Neighborhood)[T.BrDale]     -0.0864      0.042     -2.045      0.041      -0.169      -0.004\n",
      "C(Neighborhood)[T.BrkSide]     0.1470      0.037      4.025      0.000       0.075       0.219\n",
      "C(Neighborhood)[T.ClearCr]     0.2474      0.037      6.629      0.000       0.174       0.321\n",
      "C(Neighborhood)[T.CollgCr]     0.0832      0.029      2.834      0.005       0.026       0.141\n",
      "C(Neighborhood)[T.Crawfor]     0.2533      0.035      7.242      0.000       0.185       0.322\n",
      "C(Neighborhood)[T.Edwards]     0.0670      0.033      2.052      0.040       0.003       0.131\n",
      "C(Neighborhood)[T.Gilbert]     0.0263      0.031      0.858      0.391      -0.034       0.087\n",
      "C(Neighborhood)[T.IDOTRR]      0.1695      0.042      3.993      0.000       0.086       0.253\n",
      "C(Neighborhood)[T.MeadowV]    -0.0927      0.043     -2.149      0.032      -0.177      -0.008\n",
      "C(Neighborhood)[T.Mitchel]     0.0837      0.033      2.557      0.011       0.019       0.148\n",
      "C(Neighborhood)[T.NAmes]       0.1113      0.031      3.608      0.000       0.051       0.172\n",
      "C(Neighborhood)[T.NPkVill]    -0.0362      0.045     -0.799      0.425      -0.125       0.053\n",
      "C(Neighborhood)[T.NWAmes]      0.0605      0.032      1.907      0.057      -0.002       0.123\n",
      "C(Neighborhood)[T.NoRidge]     0.1630      0.034      4.804      0.000       0.096       0.230\n",
      "C(Neighborhood)[T.NridgHt]     0.1543      0.031      4.947      0.000       0.093       0.216\n",
      "C(Neighborhood)[T.OldTown]     0.0877      0.037      2.360      0.018       0.015       0.161\n",
      "C(Neighborhood)[T.SWISU]       0.0599      0.040      1.504      0.133      -0.018       0.138\n",
      "C(Neighborhood)[T.Sawyer]      0.1053      0.033      3.240      0.001       0.042       0.169\n",
      "C(Neighborhood)[T.SawyerW]     0.0517      0.032      1.633      0.103      -0.010       0.114\n",
      "C(Neighborhood)[T.Somerst]     0.1297      0.037      3.475      0.001       0.056       0.203\n",
      "C(Neighborhood)[T.StoneBr]     0.2092      0.037      5.644      0.000       0.136       0.282\n",
      "C(Neighborhood)[T.Timber]      0.1186      0.033      3.584      0.000       0.054       0.184\n",
      "C(Neighborhood)[T.Veenker]     0.2062      0.051      4.011      0.000       0.105       0.307\n",
      "C(MSZoning)[T.FV]              0.3949      0.112      3.536      0.000       0.176       0.614\n",
      "C(MSZoning)[T.RH]              0.4347      0.113      3.837      0.000       0.212       0.657\n",
      "C(MSZoning)[T.RL]              0.4633      0.108      4.290      0.000       0.251       0.675\n",
      "C(MSZoning)[T.RM]              0.3718      0.107      3.477      0.001       0.162       0.582\n",
      "scale(OverallQual)             0.0752      0.005     13.922      0.000       0.065       0.086\n",
      "scale(OverallCond)             0.0581      0.003     17.331      0.000       0.052       0.065\n",
      "scale(GrLivArea)               0.3300      0.057      5.839      0.000       0.219       0.441\n",
      "scale(I(GrLivArea ** 2))      -0.3163      0.112     -2.817      0.005      -0.537      -0.096\n",
      "scale(I(GrLivArea ** 3))       0.1379      0.059      2.336      0.020       0.022       0.254\n",
      "scale(KitchenQual)             0.4735      0.131      3.615      0.000       0.217       0.730\n",
      "scale(I(KitchenQual ** 2))    -1.0755      0.269     -4.004      0.000      -1.603      -0.549\n",
      "scale(I(KitchenQual ** 3))     0.6342      0.140      4.517      0.000       0.359       0.910\n",
      "scale(GarageCars)              0.0490      0.004     12.102      0.000       0.041       0.057\n",
      "scale(BsmtQual)                0.0434      0.004     10.595      0.000       0.035       0.051\n",
      "scale(YearBuilt)               0.1040      0.007     14.680      0.000       0.090       0.118\n",
      "==============================================================================\n",
      "Omnibus:                        3.226   Durbin-Watson:                   1.953\n",
      "Prob(Omnibus):                  0.199   Jarque-Bera (JB):                3.152\n",
      "Skew:                          -0.089   Prob(JB):                        0.207\n",
      "Kurtosis:                       3.153   Cond. No.                         283.\n",
      "==============================================================================\n",
      "\n",
      "Warnings:\n",
      "[1] Standard Errors assume that the covariance matrix of the errors is correctly specified.\n"
     ]
    }
   ],
   "source": [
    "import statsmodels.api as sm\n",
    "\n",
    "model_a = sm.OLS.from_formula(\"SalePrice ~ scale(OverallQual) + scale(OverallCond) + scale(GrLivArea) + scale(I(GrLivArea**2)) + scale(I(GrLivArea**3)) + scale(KitchenQual) + scale(I(KitchenQual**2)) + scale(I(KitchenQual**3)) + scale(GarageCars) + scale(BsmtQual) + scale(YearBuilt) + C(Neighborhood) + C(MSZoning)\", data=df)\n",
    "result_a = model_a.fit()\n",
    "# 아웃라이어 제거\n",
    "influence = result_a.get_influence()\n",
    "cooks_d2, pvals = influence.cooks_distance\n",
    "fox_cr = 4 / (1460 - 1 - 38)\n",
    "idx = np.where(cooks_d2 > fox_cr)[0]\n",
    "idx = list(set(idx) - set([599, 956]))\n",
    "df_fin = df.copy()\n",
    "df_fin = df_fin.drop(df_fin.index[idx])\n",
    "\n",
    "\n",
    "model_firstfin = sm.OLS.from_formula(\"SalePrice ~ scale(OverallQual) + scale(OverallCond) + scale(GrLivArea) + scale(I(GrLivArea**2)) + scale(I(GrLivArea**3)) + scale(KitchenQual) + scale(I(KitchenQual**2)) + scale(I(KitchenQual**3)) + scale(GarageCars) + scale(BsmtQual) + scale(YearBuilt) + C(Neighborhood) + C(MSZoning)\", data=df_fin)\n",
    "result_firstfin = model_firstfin.fit()\n",
    "print(result_firstfin.summary())"
   ]
  },
  {
   "cell_type": "code",
   "execution_count": 75,
   "metadata": {},
   "outputs": [],
   "source": [
    "pre = pd.DataFrame(result_firstfin.predict(df_test))\n",
    "pre['Id']=pre.index\n",
    "pre = pre.rename(columns={0: 'SalePrice'})\n",
    "pre['Id'] = range(1461,2920)\n",
    "pre['SalePrice'] = pre['SalePrice'].apply(lambda x : np.exp(x))\n",
    "pre.to_csv('submission.csv', index=False)"
   ]
  },
  {
   "cell_type": "markdown",
   "metadata": {},
   "source": [
    "rmse : 0.14355"
   ]
  },
  {
   "cell_type": "markdown",
   "metadata": {},
   "source": [
    "$\\Diamond$ $$ y = OQ + OC + GA + GA^2 + GA^3 + KQ + GC + BQ + BQ^2 + BQ^3 + YB + Category $$"
   ]
  },
  {
   "cell_type": "code",
   "execution_count": 76,
   "metadata": {},
   "outputs": [
    {
     "name": "stdout",
     "output_type": "stream",
     "text": [
      "0.8782115148850039\n"
     ]
    }
   ],
   "source": [
    "y, X = dmatrices(\"SalePrice ~ scale(OverallQual) + scale(OverallCond) + scale(GrLivArea) + scale(I(GrLivArea**2)) + scale(I(GrLivArea**3)) + scale(KitchenQual) + scale(GarageCars) + scale(I(BsmtQual**2)) + scale((BsmtQual**3)) + scale(I(BsmtQual**4)) + scale(BsmtQual) + scale(YearBuilt) + C(Neighborhood) + C(MSZoning)\", df, return_type = 'dataframe' )\n",
    "model = LinearRegression().fit(X, y)\n",
    "cvs = list(cross_val_score(model, X, y, scoring=\"r2\", cv=cv))\n",
    "print(np.mean(cvs))\n",
    "# origin : 8611639414474418\n",
    "# GAorigin : 0.8768850176780474\n",
    "# KQorigin : 0.86138566816928\n"
   ]
  },
  {
   "cell_type": "code",
   "execution_count": 78,
   "metadata": {},
   "outputs": [
    {
     "name": "stdout",
     "output_type": "stream",
     "text": [
      "                            OLS Regression Results                            \n",
      "==============================================================================\n",
      "Dep. Variable:              SalePrice   R-squared:                       0.922\n",
      "Model:                            OLS   Adj. R-squared:                  0.919\n",
      "Method:                 Least Squares   F-statistic:                     410.3\n",
      "Date:                Wed, 14 Mar 2018   Prob (F-statistic):               0.00\n",
      "Time:                        22:03:41   Log-Likelihood:                 1163.1\n",
      "No. Observations:                1363   AIC:                            -2248.\n",
      "Df Residuals:                    1324   BIC:                            -2045.\n",
      "Df Model:                          38                                         \n",
      "Covariance Type:            nonrobust                                         \n",
      "==============================================================================================\n",
      "                                 coef    std err          t      P>|t|      [0.025      0.975]\n",
      "----------------------------------------------------------------------------------------------\n",
      "Intercept                     11.4914      0.113    101.992      0.000      11.270      11.712\n",
      "C(Neighborhood)[T.BrDale]     -0.1072      0.043     -2.477      0.013      -0.192      -0.022\n",
      "C(Neighborhood)[T.BrkSide]     0.1267      0.037      3.386      0.001       0.053       0.200\n",
      "C(Neighborhood)[T.ClearCr]     0.2291      0.039      5.941      0.000       0.153       0.305\n",
      "C(Neighborhood)[T.CollgCr]     0.0761      0.030      2.499      0.013       0.016       0.136\n",
      "C(Neighborhood)[T.Crawfor]     0.2498      0.036      6.944      0.000       0.179       0.320\n",
      "C(Neighborhood)[T.Edwards]     0.0525      0.034      1.561      0.119      -0.013       0.119\n",
      "C(Neighborhood)[T.Gilbert]     0.0250      0.032      0.789      0.430      -0.037       0.087\n",
      "C(Neighborhood)[T.IDOTRR]      0.1449      0.044      3.307      0.001       0.059       0.231\n",
      "C(Neighborhood)[T.MeadowV]    -0.0744      0.044     -1.679      0.093      -0.161       0.013\n",
      "C(Neighborhood)[T.Mitchel]     0.0706      0.034      2.093      0.037       0.004       0.137\n",
      "C(Neighborhood)[T.NAmes]       0.0958      0.032      3.001      0.003       0.033       0.158\n",
      "C(Neighborhood)[T.NPkVill]    -0.0278      0.046     -0.604      0.546      -0.118       0.063\n",
      "C(Neighborhood)[T.NWAmes]      0.0606      0.033      1.855      0.064      -0.003       0.125\n",
      "C(Neighborhood)[T.NoRidge]     0.1625      0.035      4.651      0.000       0.094       0.231\n",
      "C(Neighborhood)[T.NridgHt]     0.1552      0.032      4.795      0.000       0.092       0.219\n",
      "C(Neighborhood)[T.OldTown]     0.0510      0.038      1.334      0.182      -0.024       0.126\n",
      "C(Neighborhood)[T.SWISU]       0.0421      0.041      1.034      0.301      -0.038       0.122\n",
      "C(Neighborhood)[T.Sawyer]      0.0964      0.034      2.872      0.004       0.031       0.162\n",
      "C(Neighborhood)[T.SawyerW]     0.0484      0.033      1.480      0.139      -0.016       0.112\n",
      "C(Neighborhood)[T.Somerst]     0.1405      0.038      3.718      0.000       0.066       0.215\n",
      "C(Neighborhood)[T.StoneBr]     0.1805      0.038      4.743      0.000       0.106       0.255\n",
      "C(Neighborhood)[T.Timber]      0.1066      0.034      3.117      0.002       0.040       0.174\n",
      "C(Neighborhood)[T.Veenker]     0.2066      0.050      4.172      0.000       0.109       0.304\n",
      "C(MSZoning)[T.FV]              0.3771      0.112      3.361      0.001       0.157       0.597\n",
      "C(MSZoning)[T.RH]              0.4350      0.114      3.818      0.000       0.211       0.659\n",
      "C(MSZoning)[T.RL]              0.4656      0.109      4.285      0.000       0.252       0.679\n",
      "C(MSZoning)[T.RM]              0.3776      0.108      3.510      0.000       0.167       0.589\n",
      "scale(OverallQual)             0.0771      0.005     14.203      0.000       0.066       0.088\n",
      "scale(OverallCond)             0.0532      0.003     15.812      0.000       0.047       0.060\n",
      "scale(GrLivArea)               0.3333      0.057      5.878      0.000       0.222       0.445\n",
      "scale(I(GrLivArea ** 2))      -0.3310      0.113     -2.940      0.003      -0.552      -0.110\n",
      "scale(I(GrLivArea ** 3))       0.1453      0.059      2.458      0.014       0.029       0.261\n",
      "scale(KitchenQual)             0.0272      0.004      6.332      0.000       0.019       0.036\n",
      "scale(GarageCars)              0.0486      0.004     11.888      0.000       0.041       0.057\n",
      "scale(I(BsmtQual ** 2))       -0.4710      0.079     -5.998      0.000      -0.625      -0.317\n",
      "scale(I(BsmtQual ** 3))        0.3281      0.053      6.174      0.000       0.224       0.432\n",
      "scale(BsmtQual)                0.1937      0.027      7.124      0.000       0.140       0.247\n",
      "scale(YearBuilt)               0.0997      0.007     13.589      0.000       0.085       0.114\n",
      "==============================================================================\n",
      "Omnibus:                        6.991   Durbin-Watson:                   1.958\n",
      "Prob(Omnibus):                  0.030   Jarque-Bera (JB):                7.038\n",
      "Skew:                          -0.147   Prob(JB):                       0.0296\n",
      "Kurtosis:                       3.194   Cond. No.                         210.\n",
      "==============================================================================\n",
      "\n",
      "Warnings:\n",
      "[1] Standard Errors assume that the covariance matrix of the errors is correctly specified.\n"
     ]
    }
   ],
   "source": [
    "import statsmodels.api as sm\n",
    "\n",
    "model_a = sm.OLS.from_formula(\"SalePrice ~ scale(OverallQual) + scale(OverallCond) + scale(GrLivArea) + scale(I(GrLivArea**2)) + scale(I(GrLivArea**3)) + scale(KitchenQual) + scale(GarageCars) + scale(I(BsmtQual**2)) + scale(I(BsmtQual**3)) + scale(BsmtQual) + scale(YearBuilt) + C(Neighborhood) + C(MSZoning)\", data=df)\n",
    "result_a = model_a.fit()\n",
    "# 아웃라이어 제거\n",
    "influence = result_a.get_influence()\n",
    "cooks_d2, pvals = influence.cooks_distance\n",
    "fox_cr = 4 / (1460 - 1 - 38)\n",
    "idx = np.where(cooks_d2 > fox_cr)[0]\n",
    "df_fin = df.copy()\n",
    "df_fin = df_fin.drop(df_fin.index[idx])\n",
    "\n",
    "\n",
    "model_firstfin = sm.OLS.from_formula(\"SalePrice ~ scale(OverallQual) + scale(OverallCond) + scale(GrLivArea) + scale(I(GrLivArea**2)) + scale(I(GrLivArea**3)) + scale(KitchenQual) + scale(GarageCars) + scale(I(BsmtQual**2)) + scale(I(BsmtQual**3)) + scale(BsmtQual) + scale(YearBuilt) + C(Neighborhood) + C(MSZoning)\", data=df_fin)\n",
    "result_firstfin = model_firstfin.fit()\n",
    "print(result_firstfin.summary())"
   ]
  },
  {
   "cell_type": "markdown",
   "metadata": {},
   "source": [
    "#### 교차검증 결과 최고 스코어 : $ y = OQ + OC + GA + GA^2 + GA^3 + KQ  + GC + BQ + YB + Category $"
   ]
  },
  {
   "cell_type": "code",
   "execution_count": 79,
   "metadata": {},
   "outputs": [
    {
     "name": "stdout",
     "output_type": "stream",
     "text": [
      "                            OLS Regression Results                            \n",
      "==============================================================================\n",
      "Dep. Variable:              SalePrice   R-squared:                       0.920\n",
      "Model:                            OLS   Adj. R-squared:                  0.918\n",
      "Method:                 Least Squares   F-statistic:                     413.7\n",
      "Date:                Wed, 14 Mar 2018   Prob (F-statistic):               0.00\n",
      "Time:                        22:04:05   Log-Likelihood:                 1156.3\n",
      "No. Observations:                1363   AIC:                            -2237.\n",
      "Df Residuals:                    1325   BIC:                            -2038.\n",
      "Df Model:                          37                                         \n",
      "Covariance Type:            nonrobust                                         \n",
      "==============================================================================================\n",
      "                                 coef    std err          t      P>|t|      [0.025      0.975]\n",
      "----------------------------------------------------------------------------------------------\n",
      "Intercept                     11.5027      0.113    101.666      0.000      11.281      11.725\n",
      "C(Neighborhood)[T.Blueste]    -0.0720      0.082     -0.882      0.378      -0.232       0.088\n",
      "C(Neighborhood)[T.BrDale]     -0.0840      0.043     -1.948      0.052      -0.169       0.001\n",
      "C(Neighborhood)[T.BrkSide]     0.1299      0.037      3.466      0.001       0.056       0.203\n",
      "C(Neighborhood)[T.ClearCr]     0.2381      0.038      6.201      0.000       0.163       0.313\n",
      "C(Neighborhood)[T.CollgCr]     0.0731      0.031      2.388      0.017       0.013       0.133\n",
      "C(Neighborhood)[T.Crawfor]     0.2360      0.036      6.533      0.000       0.165       0.307\n",
      "C(Neighborhood)[T.Edwards]     0.0680      0.034      2.017      0.044       0.002       0.134\n",
      "C(Neighborhood)[T.Gilbert]     0.0205      0.032      0.641      0.522      -0.042       0.083\n",
      "C(Neighborhood)[T.IDOTRR]      0.1300      0.044      2.955      0.003       0.044       0.216\n",
      "C(Neighborhood)[T.MeadowV]    -0.0825      0.044     -1.877      0.061      -0.169       0.004\n",
      "C(Neighborhood)[T.Mitchel]     0.0846      0.034      2.506      0.012       0.018       0.151\n",
      "C(Neighborhood)[T.NAmes]       0.1036      0.032      3.245      0.001       0.041       0.166\n",
      "C(Neighborhood)[T.NPkVill]    -0.0372      0.046     -0.804      0.422      -0.128       0.054\n",
      "C(Neighborhood)[T.NWAmes]      0.0572      0.033      1.743      0.082      -0.007       0.122\n",
      "C(Neighborhood)[T.NoRidge]     0.1566      0.035      4.446      0.000       0.088       0.226\n",
      "C(Neighborhood)[T.NridgHt]     0.1753      0.032      5.467      0.000       0.112       0.238\n",
      "C(Neighborhood)[T.OldTown]     0.0678      0.038      1.774      0.076      -0.007       0.143\n",
      "C(Neighborhood)[T.SWISU]       0.0319      0.041      0.781      0.435      -0.048       0.112\n",
      "C(Neighborhood)[T.Sawyer]      0.1061      0.034      3.162      0.002       0.040       0.172\n",
      "C(Neighborhood)[T.SawyerW]     0.0396      0.033      1.205      0.228      -0.025       0.104\n",
      "C(Neighborhood)[T.Somerst]     0.1325      0.038      3.450      0.001       0.057       0.208\n",
      "C(Neighborhood)[T.StoneBr]     0.1744      0.039      4.529      0.000       0.099       0.250\n",
      "C(Neighborhood)[T.Timber]      0.1148      0.034      3.350      0.001       0.048       0.182\n",
      "C(Neighborhood)[T.Veenker]     0.2137      0.052      4.089      0.000       0.111       0.316\n",
      "C(MSZoning)[T.FV]              0.3691      0.113      3.271      0.001       0.148       0.590\n",
      "C(MSZoning)[T.RH]              0.4453      0.115      3.871      0.000       0.220       0.671\n",
      "C(MSZoning)[T.RL]              0.4496      0.109      4.121      0.000       0.236       0.664\n",
      "C(MSZoning)[T.RM]              0.3572      0.108      3.306      0.001       0.145       0.569\n",
      "scale(OverallQual)             0.0806      0.005     14.926      0.000       0.070       0.091\n",
      "scale(OverallCond)             0.0567      0.003     16.821      0.000       0.050       0.063\n",
      "scale(GrLivArea)               0.3231      0.055      5.921      0.000       0.216       0.430\n",
      "scale(I(GrLivArea ** 2))      -0.3101      0.108     -2.875      0.004      -0.522      -0.098\n",
      "scale(I(GrLivArea ** 3))       0.1358      0.057      2.401      0.016       0.025       0.247\n",
      "scale(KitchenQual)             0.0272      0.004      6.340      0.000       0.019       0.036\n",
      "scale(GarageCars)              0.0522      0.004     12.813      0.000       0.044       0.060\n",
      "scale(BsmtQual)                0.0438      0.004     10.652      0.000       0.036       0.052\n",
      "scale(YearBuilt)               0.0878      0.007     12.300      0.000       0.074       0.102\n",
      "==============================================================================\n",
      "Omnibus:                        4.376   Durbin-Watson:                   1.928\n",
      "Prob(Omnibus):                  0.112   Jarque-Bera (JB):                4.325\n",
      "Skew:                          -0.111   Prob(JB):                        0.115\n",
      "Kurtosis:                       3.165   Cond. No.                         184.\n",
      "==============================================================================\n",
      "\n",
      "Warnings:\n",
      "[1] Standard Errors assume that the covariance matrix of the errors is correctly specified.\n"
     ]
    }
   ],
   "source": [
    "import statsmodels.api as sm\n",
    "\n",
    "model_a = sm.OLS.from_formula(\"SalePrice ~ scale(OverallQual) + scale(OverallCond) + scale(GrLivArea) + scale(I(GrLivArea**2)) + scale(I(GrLivArea**3)) + scale(KitchenQual) + scale(GarageCars) + scale(BsmtQual) + scale(YearBuilt) + C(Neighborhood) + C(MSZoning)\", data=df)\n",
    "result_a = model_a.fit()\n",
    "# 아웃라이어 제거\n",
    "influence = result_a.get_influence()\n",
    "cooks_d2, pvals = influence.cooks_distance\n",
    "fox_cr = 4 / (1460 - 1 - 38)\n",
    "idx = np.where(cooks_d2 > fox_cr)[0]\n",
    "idx = list(set(idx) - set([599, 956]))\n",
    "df_fin = df.copy()\n",
    "df_fin = df_fin.drop(df_fin.index[idx])\n",
    "\n",
    "\n",
    "model_firstfin = sm.OLS.from_formula(\"SalePrice ~ scale(OverallQual) + scale(OverallCond) + scale(GrLivArea) + scale(I(GrLivArea**2)) + scale(I(GrLivArea**3)) + scale(KitchenQual) + scale(GarageCars) + scale(BsmtQual) + scale(YearBuilt) + C(Neighborhood) + C(MSZoning)\", data=df_fin)\n",
    "result_firstfin = model_firstfin.fit()\n",
    "print(result_firstfin.summary())"
   ]
  },
  {
   "cell_type": "code",
   "execution_count": 80,
   "metadata": {},
   "outputs": [
    {
     "data": {
      "image/png": "[encoded data removed]",
      "text/plain": [
       "<matplotlib.figure.Figure at 0x116efbcf8>"
      ]
     },
     "metadata": {},
     "output_type": "display_data"
    },
    {
     "name": "stdout",
     "output_type": "stream",
     "text": [
      "Chi^2       :  4.376\n",
      "P-value     :  0.112\n"
     ]
    }
   ],
   "source": [
    "import scipy as sp\n",
    "import statsmodels.stats.api as sms\n",
    "plt.figure(figsize=(8, 6))\n",
    "sp.stats.probplot(result_firstfin.resid, plot=plt)\n",
    "plt.show()\n",
    "#잔차 정규성 P-value\n",
    "test = sms.omni_normtest(result_firstfin.resid)\n",
    "for xi in zip(['Chi^2', 'P-value'], test):\n",
    "    print(\"%-12s: %6.3f\" % xi)"
   ]
  },
  {
   "cell_type": "code",
   "execution_count": null,
   "metadata": {},
   "outputs": [],
   "source": [
    "pre = pd.DataFrame(result_a2.predict(df_test))\n",
    "pre['Id']=pre.index\n",
    "pre = pre.rename(columns={0: 'SalePrice'})\n",
    "pre['Id'] = range(1461,2920)\n",
    "pre['SalePrice'] = pre['SalePrice'].apply(lambda x : np.exp(x))\n",
    "pre.to_csv('submission.csv', index=False)"
   ]
  },
  {
   "cell_type": "code",
   "execution_count": null,
   "metadata": {},
   "outputs": [],
   "source": [
    "pre = pd.DataFrame(result_b2.predict(df_test))\n",
    "pre['Id']=pre.index\n",
    "pre = pre.rename(columns={0: 'SalePrice'})\n",
    "pre['Id'] = range(1461,2920)\n",
    "pre['SalePrice'] = pre['SalePrice'].apply(lambda x : np.exp(x))\n",
    "pre.to_csv('submission.csv', index=False)"
   ]
  }
 ],
 "metadata": {
  "kernelspec": {
   "display_name": "Python 3",
   "language": "python",
   "name": "python3"
  },
  "language_info": {
   "codemirror_mode": {
    "name": "ipython",
    "version": 3
   },
   "file_extension": ".py",
   "mimetype": "text/x-python",
   "name": "python",
   "nbconvert_exporter": "python",
   "pygments_lexer": "ipython3",
   "version": "3.5.2"
  }
 },
 "nbformat": 4,
 "nbformat_minor": 2
}
