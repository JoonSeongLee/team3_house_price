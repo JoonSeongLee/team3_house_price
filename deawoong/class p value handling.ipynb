{
 "cells": [
  {
   "cell_type": "code",
   "execution_count": 1,
   "metadata": {
    "collapsed": true
   },
   "outputs": [],
   "source": [
    "# 경고창 보이지 않기\n",
    "import warnings\n",
    "# warnings.filterwarnings('ignore')\n",
    "# 그래프 크게보기\n",
    "# plt.rcParams[\"figure.figsize\"] = (15,6)"
   ]
  },
  {
   "cell_type": "code",
   "execution_count": 2,
   "metadata": {
    "collapsed": true
   },
   "outputs": [],
   "source": [
    "df_train = pd.read_csv('./train.csv')\n",
    "df_test = pd.read_csv('./test.csv')"
   ]
  },
  {
   "cell_type": "code",
   "execution_count": 3,
   "metadata": {
    "collapsed": true
   },
   "outputs": [],
   "source": [
    "#1. feature 선택하기 \n",
    "#('GrLiveArea', 'GarageArea', 'TotalBsmtSF', '1stFlrSF', 'TotRmsAbvGrd', \n",
    "# 'MasVnrArea', 'OverallQual', 'SaleCondition', 'BsmtQual', 'FireplaceQu', Fireplaces)"
   ]
  },
  {
   "cell_type": "code",
   "execution_count": 4,
   "metadata": {
    "collapsed": true
   },
   "outputs": [],
   "source": [
    "# 임시적으로 train, test 데이터 합치기 \n",
    "y = df_train['SalePrice']\n",
    "df_train.drop('SalePrice', axis=1, inplace=True);"
   ]
  },
  {
   "cell_type": "code",
   "execution_count": 5,
   "metadata": {
    "collapsed": true
   },
   "outputs": [],
   "source": [
    "df_all = pd.concat([df_train, df_test], axis=0)"
   ]
  },
  {
   "cell_type": "code",
   "execution_count": 6,
   "metadata": {
    "collapsed": true
   },
   "outputs": [],
   "source": [
    "df_all['TotalFlrSF'] = df_all['1stFlrSF'] + df_all['2ndFlrSF']"
   ]
  },
  {
   "cell_type": "code",
   "execution_count": 9,
   "metadata": {},
   "outputs": [],
   "source": [
    "df_all_feature_selected = df_all[['GrLivArea', 'GarageArea', 'TotalFlrSF', 'TotRmsAbvGrd', 'TotalBsmtSF', \\\n",
    "                                  'MasVnrArea', 'OverallQual', 'SaleCondition', 'BsmtQual', 'FireplaceQu', 'Fireplaces']]"
   ]
  },
  {
   "cell_type": "code",
   "execution_count": 10,
   "metadata": {},
   "outputs": [
    {
     "name": "stdout",
     "output_type": "stream",
     "text": [
      "<class 'pandas.core.frame.DataFrame'>\n",
      "Int64Index: 2919 entries, 0 to 1458\n",
      "Data columns (total 11 columns):\n",
      "GrLivArea        2919 non-null int64\n",
      "GarageArea       2918 non-null float64\n",
      "TotalFlrSF       2919 non-null int64\n",
      "TotRmsAbvGrd     2919 non-null int64\n",
      "TotalBsmtSF      2918 non-null float64\n",
      "MasVnrArea       2896 non-null float64\n",
      "OverallQual      2919 non-null int64\n",
      "SaleCondition    2919 non-null object\n",
      "BsmtQual         2838 non-null object\n",
      "FireplaceQu      1499 non-null object\n",
      "Fireplaces       2919 non-null int64\n",
      "dtypes: float64(3), int64(5), object(3)\n",
      "memory usage: 273.7+ KB\n"
     ]
    }
   ],
   "source": [
    "df_all_feature_selected.info()"
   ]
  },
  {
   "cell_type": "code",
   "execution_count": 11,
   "metadata": {
    "collapsed": true
   },
   "outputs": [],
   "source": [
    "#2. 전처리 하기 (test 데이터 같이)\n",
    "# 등급데이터 -> 숫자 "
   ]
  },
  {
   "cell_type": "code",
   "execution_count": 12,
   "metadata": {
    "collapsed": true
   },
   "outputs": [],
   "source": [
    "# Ex~Po의 등급을 가진 변수들은 모두 숫자로 바꿔줌. NA값은 무조건 0으로 만들어줌\n",
    "\n",
    "cat_num_ls=['BsmtQual', 'FireplaceQu']\n",
    "\n",
    "tonum = {\"BsmtQual\": {'Ex' : 5, 'Gd' : 4, 'TA' : 3, 'Fa' : 2, 'Po' : 1, np.nan : 0},\n",
    "         \"FireplaceQu\": {'Ex' : 5, 'Gd' : 4, 'TA' : 3, 'Fa' : 2, 'Po' : 1, np.nan : 0},         \n",
    "        }\n",
    "\n",
    "df_all_feature_selected = df_all_feature_selected.replace(tonum)"
   ]
  },
  {
   "cell_type": "code",
   "execution_count": 13,
   "metadata": {
    "collapsed": true
   },
   "outputs": [],
   "source": [
    "# dataframe 에서 nan 값을 가진 컬럼과 갖지 않은 컬럼 걸러내는 함수 \n",
    "def nan_check(df_raw):\n",
    "    # None 값이 있는 column만 가져옴.\n",
    "    null_check = df_raw.isnull().sum()\n",
    "    null_count = pd.DataFrame({'column' : null_check.index, 'NaN' : null_check.values})\n",
    "    null_count = null_count.query('NaN > 0')\n",
    "    return(null_count)\n",
    "\n",
    "def nan_check2(df_raw):\n",
    "    # None 값이 없는 column만 가져옴.\n",
    "    null_check = df_raw.isnull().sum()\n",
    "    null_count = pd.DataFrame({'column' : null_check.index, 'NaN' : null_check.values})\n",
    "    null_count = null_count.query('NaN == 0')\n",
    "    return(null_count)"
   ]
  },
  {
   "cell_type": "code",
   "execution_count": 14,
   "metadata": {},
   "outputs": [
    {
     "data": {
      "text/plain": [
       "['TotalBsmtSF', 'MasVnrArea', 'GarageArea']"
      ]
     },
     "execution_count": 14,
     "metadata": {},
     "output_type": "execute_result"
    }
   ],
   "source": [
    "nan_ls = list(set(nan_check(df_all_feature_selected)['column']) - set(nan_check2(df_all_feature_selected)['column']))\n",
    "nan_ls"
   ]
  },
  {
   "cell_type": "code",
   "execution_count": 15,
   "metadata": {},
   "outputs": [
    {
     "name": "stdout",
     "output_type": "stream",
     "text": [
      "<class 'pandas.core.frame.DataFrame'>\n",
      "Int64Index: 2919 entries, 0 to 1458\n",
      "Data columns (total 11 columns):\n",
      "GrLivArea        2919 non-null int64\n",
      "GarageArea       2918 non-null float64\n",
      "TotalFlrSF       2919 non-null int64\n",
      "TotRmsAbvGrd     2919 non-null int64\n",
      "TotalBsmtSF      2918 non-null float64\n",
      "MasVnrArea       2896 non-null float64\n",
      "OverallQual      2919 non-null int64\n",
      "SaleCondition    2919 non-null object\n",
      "BsmtQual         2919 non-null int64\n",
      "FireplaceQu      2919 non-null int64\n",
      "Fireplaces       2919 non-null int64\n",
      "dtypes: float64(3), int64(7), object(1)\n",
      "memory usage: 273.7+ KB\n"
     ]
    }
   ],
   "source": [
    "df_all_feature_selected.info()"
   ]
  },
  {
   "cell_type": "code",
   "execution_count": 16,
   "metadata": {
    "collapsed": true
   },
   "outputs": [],
   "source": [
    "# 수치형 컬럼 nan 값 median 값으로 처리하기\n",
    "df_all_feature_selected['GarageArea'] = \\\n",
    "df_all_feature_selected['GarageArea'].fillna(df_all_feature_selected.GarageArea.median())\n",
    "df_all_feature_selected['TotalBsmtSF'] = \\\n",
    "df_all_feature_selected['TotalBsmtSF'].fillna(df_all_feature_selected.TotalBsmtSF.median())\n",
    "df_all_feature_selected['MasVnrArea'] = \\\n",
    "df_all_feature_selected['MasVnrArea'].fillna(df_all_feature_selected.GarageArea.median())"
   ]
  },
  {
   "cell_type": "code",
   "execution_count": 17,
   "metadata": {},
   "outputs": [
    {
     "name": "stdout",
     "output_type": "stream",
     "text": [
      "<class 'pandas.core.frame.DataFrame'>\n",
      "Int64Index: 2919 entries, 0 to 1458\n",
      "Data columns (total 11 columns):\n",
      "GrLivArea        2919 non-null int64\n",
      "GarageArea       2919 non-null float64\n",
      "TotalFlrSF       2919 non-null int64\n",
      "TotRmsAbvGrd     2919 non-null int64\n",
      "TotalBsmtSF      2919 non-null float64\n",
      "MasVnrArea       2919 non-null float64\n",
      "OverallQual      2919 non-null int64\n",
      "SaleCondition    2919 non-null object\n",
      "BsmtQual         2919 non-null int64\n",
      "FireplaceQu      2919 non-null int64\n",
      "Fireplaces       2919 non-null int64\n",
      "dtypes: float64(3), int64(7), object(1)\n",
      "memory usage: 273.7+ KB\n"
     ]
    }
   ],
   "source": [
    "df_all_feature_selected.info()"
   ]
  },
  {
   "cell_type": "code",
   "execution_count": 16,
   "metadata": {
    "collapsed": true
   },
   "outputs": [],
   "source": [
    "#3. p-value 기준 class 삭제하기"
   ]
  },
  {
   "cell_type": "code",
   "execution_count": 17,
   "metadata": {
    "collapsed": true
   },
   "outputs": [],
   "source": [
    "# df_all_feature_selected, train 과 test 로 다시 나누기 "
   ]
  },
  {
   "cell_type": "code",
   "execution_count": 18,
   "metadata": {
    "collapsed": true
   },
   "outputs": [],
   "source": [
    "df_train2 = df_all_feature_selected.iloc[:1460, :]\n",
    "df_test2 = df_all_feature_selected.iloc[1460:, :]"
   ]
  },
  {
   "cell_type": "code",
   "execution_count": 19,
   "metadata": {},
   "outputs": [
    {
     "name": "stderr",
     "output_type": "stream",
     "text": [
      "C:\\Users\\ssoda\\Anaconda3\\lib\\site-packages\\ipykernel_launcher.py:1: SettingWithCopyWarning: \n",
      "A value is trying to be set on a copy of a slice from a DataFrame.\n",
      "Try using .loc[row_indexer,col_indexer] = value instead\n",
      "\n",
      "See the caveats in the documentation: http://pandas.pydata.org/pandas-docs/stable/indexing.html#indexing-view-versus-copy\n",
      "  \"\"\"Entry point for launching an IPython kernel.\n"
     ]
    }
   ],
   "source": [
    "df_train2['SalePrice'] = y"
   ]
  },
  {
   "cell_type": "code",
   "execution_count": 20,
   "metadata": {},
   "outputs": [
    {
     "data": {
      "text/plain": [
       "Index(['GrLivArea', 'GarageArea', 'TotalFlrSF', 'TotRmsAbvGrd', 'TotalBsmtSF',\n",
       "       'MasVnrArea', 'OverallQual', 'SaleCondition', 'BsmtQual', 'FireplaceQu',\n",
       "       'Fireplaces', 'SalePrice'],\n",
       "      dtype='object')"
      ]
     },
     "execution_count": 20,
     "metadata": {},
     "output_type": "execute_result"
    }
   ],
   "source": [
    "df_train2.columns"
   ]
  },
  {
   "cell_type": "code",
   "execution_count": 21,
   "metadata": {},
   "outputs": [
    {
     "data": {
      "image/png": "[encoded data removed]",
      "text/plain": [
       "<matplotlib.figure.Figure at 0x1fcf6fff4e0>"
      ]
     },
     "metadata": {},
     "output_type": "display_data"
    }
   ],
   "source": [
    "sns.countplot(x='OverallQual', data=df_train2)\n",
    "plt.show()"
   ]
  },
  {
   "cell_type": "code",
   "execution_count": 32,
   "metadata": {},
   "outputs": [
    {
     "data": {
      "text/html": [
       "<div>\n",
       "<style>\n",
       "    .dataframe thead tr:only-child th {\n",
       "        text-align: right;\n",
       "    }\n",
       "\n",
       "    .dataframe thead th {\n",
       "        text-align: left;\n",
       "    }\n",
       "\n",
       "    .dataframe tbody tr th {\n",
       "        vertical-align: top;\n",
       "    }\n",
       "</style>\n",
       "<table border=\"1\" class=\"dataframe\">\n",
       "  <thead>\n",
       "    <tr style=\"text-align: right;\">\n",
       "      <th></th>\n",
       "      <th>sum_sq</th>\n",
       "      <th>df</th>\n",
       "      <th>F</th>\n",
       "      <th>PR(&gt;F)</th>\n",
       "    </tr>\n",
       "  </thead>\n",
       "  <tbody>\n",
       "    <tr>\n",
       "      <th>SaleCondition</th>\n",
       "      <td>6.244194e+10</td>\n",
       "      <td>5.0</td>\n",
       "      <td>8.924812</td>\n",
       "      <td>2.322317e-08</td>\n",
       "    </tr>\n",
       "    <tr>\n",
       "      <th>Fireplaces</th>\n",
       "      <td>8.003899e+09</td>\n",
       "      <td>1.0</td>\n",
       "      <td>5.719977</td>\n",
       "      <td>1.690017e-02</td>\n",
       "    </tr>\n",
       "    <tr>\n",
       "      <th>FireplaceQu</th>\n",
       "      <td>1.064621e+09</td>\n",
       "      <td>1.0</td>\n",
       "      <td>0.760830</td>\n",
       "      <td>3.832138e-01</td>\n",
       "    </tr>\n",
       "    <tr>\n",
       "      <th>BsmtQual</th>\n",
       "      <td>4.556082e+10</td>\n",
       "      <td>1.0</td>\n",
       "      <td>32.559989</td>\n",
       "      <td>1.399918e-08</td>\n",
       "    </tr>\n",
       "    <tr>\n",
       "      <th>OverallQual</th>\n",
       "      <td>3.665774e+11</td>\n",
       "      <td>1.0</td>\n",
       "      <td>261.974142</td>\n",
       "      <td>2.804329e-54</td>\n",
       "    </tr>\n",
       "    <tr>\n",
       "      <th>MasVnrArea</th>\n",
       "      <td>3.660068e+10</td>\n",
       "      <td>1.0</td>\n",
       "      <td>26.156631</td>\n",
       "      <td>3.570155e-07</td>\n",
       "    </tr>\n",
       "    <tr>\n",
       "      <th>TotalBsmtSF</th>\n",
       "      <td>5.811323e+10</td>\n",
       "      <td>1.0</td>\n",
       "      <td>41.530550</td>\n",
       "      <td>1.577158e-10</td>\n",
       "    </tr>\n",
       "    <tr>\n",
       "      <th>TotRmsAbvGrd</th>\n",
       "      <td>7.384159e+07</td>\n",
       "      <td>1.0</td>\n",
       "      <td>0.052771</td>\n",
       "      <td>8.183427e-01</td>\n",
       "    </tr>\n",
       "    <tr>\n",
       "      <th>TotalFlrSF</th>\n",
       "      <td>1.597671e+11</td>\n",
       "      <td>1.0</td>\n",
       "      <td>114.177382</td>\n",
       "      <td>1.055290e-25</td>\n",
       "    </tr>\n",
       "    <tr>\n",
       "      <th>GarageArea</th>\n",
       "      <td>9.270716e+10</td>\n",
       "      <td>1.0</td>\n",
       "      <td>66.253067</td>\n",
       "      <td>8.473764e-16</td>\n",
       "    </tr>\n",
       "    <tr>\n",
       "      <th>Residual</th>\n",
       "      <td>2.021972e+12</td>\n",
       "      <td>1445.0</td>\n",
       "      <td>NaN</td>\n",
       "      <td>NaN</td>\n",
       "    </tr>\n",
       "  </tbody>\n",
       "</table>\n",
       "</div>"
      ],
      "text/plain": [
       "                     sum_sq      df           F        PR(>F)\n",
       "SaleCondition  6.244194e+10     5.0    8.924812  2.322317e-08\n",
       "Fireplaces     8.003899e+09     1.0    5.719977  1.690017e-02\n",
       "FireplaceQu    1.064621e+09     1.0    0.760830  3.832138e-01\n",
       "BsmtQual       4.556082e+10     1.0   32.559989  1.399918e-08\n",
       "OverallQual    3.665774e+11     1.0  261.974142  2.804329e-54\n",
       "MasVnrArea     3.660068e+10     1.0   26.156631  3.570155e-07\n",
       "TotalBsmtSF    5.811323e+10     1.0   41.530550  1.577158e-10\n",
       "TotRmsAbvGrd   7.384159e+07     1.0    0.052771  8.183427e-01\n",
       "TotalFlrSF     1.597671e+11     1.0  114.177382  1.055290e-25\n",
       "GarageArea     9.270716e+10     1.0   66.253067  8.473764e-16\n",
       "Residual       2.021972e+12  1445.0         NaN           NaN"
      ]
     },
     "execution_count": 32,
     "metadata": {},
     "output_type": "execute_result"
    }
   ],
   "source": [
    "# Anova 분석을 통한 변수 중요도 출력 \n",
    "# 결과 : OverallQual > TotalFlrSF > GarageArea > TotalBsmtSF > BsmtQual > SaleCondition\n",
    "#        MasVnrArea > Fireplaces > TotRmsAbvGrd> FireplaceQu\n",
    "# 위의 순서로 변수중요도를 보이고 있다 (귀무가설을 강력하게 기각하고 있다) \n",
    "model_anova = sm.OLS.from_formula(\"SalePrice ~ Fireplaces + FireplaceQu + BsmtQual + \\\n",
    "SaleCondition + OverallQual + MasVnrArea + TotalBsmtSF + TotRmsAbvGrd + TotalFlrSF + \\\n",
    "GarageArea\", data=df_train2)\n",
    "result_anova = model_anova.fit()\n",
    "sm.stats.anova_lm(result_anova, typ=2)"
   ]
  },
  {
   "cell_type": "code",
   "execution_count": 58,
   "metadata": {},
   "outputs": [
    {
     "data": {
      "text/html": [
       "<div>\n",
       "<style>\n",
       "    .dataframe thead tr:only-child th {\n",
       "        text-align: right;\n",
       "    }\n",
       "\n",
       "    .dataframe thead th {\n",
       "        text-align: left;\n",
       "    }\n",
       "\n",
       "    .dataframe tbody tr th {\n",
       "        vertical-align: top;\n",
       "    }\n",
       "</style>\n",
       "<table border=\"1\" class=\"dataframe\">\n",
       "  <thead>\n",
       "    <tr style=\"text-align: right;\">\n",
       "      <th></th>\n",
       "      <th>GrLivArea</th>\n",
       "      <th>GarageArea</th>\n",
       "      <th>TotalFlrSF</th>\n",
       "      <th>TotRmsAbvGrd</th>\n",
       "      <th>TotalBsmtSF</th>\n",
       "      <th>MasVnrArea</th>\n",
       "      <th>OverallQual</th>\n",
       "      <th>BsmtQual</th>\n",
       "      <th>FireplaceQu</th>\n",
       "      <th>Fireplaces</th>\n",
       "      <th>SalePrice</th>\n",
       "    </tr>\n",
       "  </thead>\n",
       "  <tbody>\n",
       "    <tr>\n",
       "      <th>GrLivArea</th>\n",
       "      <td>1.000000</td>\n",
       "      <td>0.468997</td>\n",
       "      <td>0.995718</td>\n",
       "      <td>0.825489</td>\n",
       "      <td>0.454868</td>\n",
       "      <td>0.390709</td>\n",
       "      <td>0.593007</td>\n",
       "      <td>0.327956</td>\n",
       "      <td>0.469947</td>\n",
       "      <td>0.461679</td>\n",
       "      <td>0.708624</td>\n",
       "    </tr>\n",
       "    <tr>\n",
       "      <th>GarageArea</th>\n",
       "      <td>0.468997</td>\n",
       "      <td>1.000000</td>\n",
       "      <td>0.479189</td>\n",
       "      <td>0.337822</td>\n",
       "      <td>0.486665</td>\n",
       "      <td>0.373073</td>\n",
       "      <td>0.562022</td>\n",
       "      <td>0.406109</td>\n",
       "      <td>0.327973</td>\n",
       "      <td>0.269141</td>\n",
       "      <td>0.623431</td>\n",
       "    </tr>\n",
       "    <tr>\n",
       "      <th>TotalFlrSF</th>\n",
       "      <td>0.995718</td>\n",
       "      <td>0.479189</td>\n",
       "      <td>1.000000</td>\n",
       "      <td>0.820088</td>\n",
       "      <td>0.461738</td>\n",
       "      <td>0.400441</td>\n",
       "      <td>0.600758</td>\n",
       "      <td>0.335876</td>\n",
       "      <td>0.476054</td>\n",
       "      <td>0.467488</td>\n",
       "      <td>0.716883</td>\n",
       "    </tr>\n",
       "    <tr>\n",
       "      <th>TotRmsAbvGrd</th>\n",
       "      <td>0.825489</td>\n",
       "      <td>0.337822</td>\n",
       "      <td>0.820088</td>\n",
       "      <td>1.000000</td>\n",
       "      <td>0.285573</td>\n",
       "      <td>0.277513</td>\n",
       "      <td>0.427452</td>\n",
       "      <td>0.185846</td>\n",
       "      <td>0.355589</td>\n",
       "      <td>0.326114</td>\n",
       "      <td>0.533723</td>\n",
       "    </tr>\n",
       "    <tr>\n",
       "      <th>TotalBsmtSF</th>\n",
       "      <td>0.454868</td>\n",
       "      <td>0.486665</td>\n",
       "      <td>0.461738</td>\n",
       "      <td>0.285573</td>\n",
       "      <td>1.000000</td>\n",
       "      <td>0.365628</td>\n",
       "      <td>0.537808</td>\n",
       "      <td>0.564299</td>\n",
       "      <td>0.347615</td>\n",
       "      <td>0.339519</td>\n",
       "      <td>0.613581</td>\n",
       "    </tr>\n",
       "    <tr>\n",
       "      <th>MasVnrArea</th>\n",
       "      <td>0.390709</td>\n",
       "      <td>0.373073</td>\n",
       "      <td>0.400441</td>\n",
       "      <td>0.277513</td>\n",
       "      <td>0.365628</td>\n",
       "      <td>1.000000</td>\n",
       "      <td>0.414861</td>\n",
       "      <td>0.282906</td>\n",
       "      <td>0.271395</td>\n",
       "      <td>0.247422</td>\n",
       "      <td>0.477611</td>\n",
       "    </tr>\n",
       "    <tr>\n",
       "      <th>OverallQual</th>\n",
       "      <td>0.593007</td>\n",
       "      <td>0.562022</td>\n",
       "      <td>0.600758</td>\n",
       "      <td>0.427452</td>\n",
       "      <td>0.537808</td>\n",
       "      <td>0.414861</td>\n",
       "      <td>1.000000</td>\n",
       "      <td>0.629379</td>\n",
       "      <td>0.490788</td>\n",
       "      <td>0.396765</td>\n",
       "      <td>0.790982</td>\n",
       "    </tr>\n",
       "    <tr>\n",
       "      <th>BsmtQual</th>\n",
       "      <td>0.327956</td>\n",
       "      <td>0.406109</td>\n",
       "      <td>0.335876</td>\n",
       "      <td>0.185846</td>\n",
       "      <td>0.564299</td>\n",
       "      <td>0.282906</td>\n",
       "      <td>0.629379</td>\n",
       "      <td>1.000000</td>\n",
       "      <td>0.307337</td>\n",
       "      <td>0.229635</td>\n",
       "      <td>0.585207</td>\n",
       "    </tr>\n",
       "    <tr>\n",
       "      <th>FireplaceQu</th>\n",
       "      <td>0.469947</td>\n",
       "      <td>0.327973</td>\n",
       "      <td>0.476054</td>\n",
       "      <td>0.355589</td>\n",
       "      <td>0.347615</td>\n",
       "      <td>0.271395</td>\n",
       "      <td>0.490788</td>\n",
       "      <td>0.307337</td>\n",
       "      <td>1.000000</td>\n",
       "      <td>0.863241</td>\n",
       "      <td>0.520438</td>\n",
       "    </tr>\n",
       "    <tr>\n",
       "      <th>Fireplaces</th>\n",
       "      <td>0.461679</td>\n",
       "      <td>0.269141</td>\n",
       "      <td>0.467488</td>\n",
       "      <td>0.326114</td>\n",
       "      <td>0.339519</td>\n",
       "      <td>0.247422</td>\n",
       "      <td>0.396765</td>\n",
       "      <td>0.229635</td>\n",
       "      <td>0.863241</td>\n",
       "      <td>1.000000</td>\n",
       "      <td>0.466929</td>\n",
       "    </tr>\n",
       "    <tr>\n",
       "      <th>SalePrice</th>\n",
       "      <td>0.708624</td>\n",
       "      <td>0.623431</td>\n",
       "      <td>0.716883</td>\n",
       "      <td>0.533723</td>\n",
       "      <td>0.613581</td>\n",
       "      <td>0.477611</td>\n",
       "      <td>0.790982</td>\n",
       "      <td>0.585207</td>\n",
       "      <td>0.520438</td>\n",
       "      <td>0.466929</td>\n",
       "      <td>1.000000</td>\n",
       "    </tr>\n",
       "  </tbody>\n",
       "</table>\n",
       "</div>"
      ],
      "text/plain": [
       "              GrLivArea  GarageArea  TotalFlrSF  TotRmsAbvGrd  TotalBsmtSF  \\\n",
       "GrLivArea      1.000000    0.468997    0.995718      0.825489     0.454868   \n",
       "GarageArea     0.468997    1.000000    0.479189      0.337822     0.486665   \n",
       "TotalFlrSF     0.995718    0.479189    1.000000      0.820088     0.461738   \n",
       "TotRmsAbvGrd   0.825489    0.337822    0.820088      1.000000     0.285573   \n",
       "TotalBsmtSF    0.454868    0.486665    0.461738      0.285573     1.000000   \n",
       "MasVnrArea     0.390709    0.373073    0.400441      0.277513     0.365628   \n",
       "OverallQual    0.593007    0.562022    0.600758      0.427452     0.537808   \n",
       "BsmtQual       0.327956    0.406109    0.335876      0.185846     0.564299   \n",
       "FireplaceQu    0.469947    0.327973    0.476054      0.355589     0.347615   \n",
       "Fireplaces     0.461679    0.269141    0.467488      0.326114     0.339519   \n",
       "SalePrice      0.708624    0.623431    0.716883      0.533723     0.613581   \n",
       "\n",
       "              MasVnrArea  OverallQual  BsmtQual  FireplaceQu  Fireplaces  \\\n",
       "GrLivArea       0.390709     0.593007  0.327956     0.469947    0.461679   \n",
       "GarageArea      0.373073     0.562022  0.406109     0.327973    0.269141   \n",
       "TotalFlrSF      0.400441     0.600758  0.335876     0.476054    0.467488   \n",
       "TotRmsAbvGrd    0.277513     0.427452  0.185846     0.355589    0.326114   \n",
       "TotalBsmtSF     0.365628     0.537808  0.564299     0.347615    0.339519   \n",
       "MasVnrArea      1.000000     0.414861  0.282906     0.271395    0.247422   \n",
       "OverallQual     0.414861     1.000000  0.629379     0.490788    0.396765   \n",
       "BsmtQual        0.282906     0.629379  1.000000     0.307337    0.229635   \n",
       "FireplaceQu     0.271395     0.490788  0.307337     1.000000    0.863241   \n",
       "Fireplaces      0.247422     0.396765  0.229635     0.863241    1.000000   \n",
       "SalePrice       0.477611     0.790982  0.585207     0.520438    0.466929   \n",
       "\n",
       "              SalePrice  \n",
       "GrLivArea      0.708624  \n",
       "GarageArea     0.623431  \n",
       "TotalFlrSF     0.716883  \n",
       "TotRmsAbvGrd   0.533723  \n",
       "TotalBsmtSF    0.613581  \n",
       "MasVnrArea     0.477611  \n",
       "OverallQual    0.790982  \n",
       "BsmtQual       0.585207  \n",
       "FireplaceQu    0.520438  \n",
       "Fireplaces     0.466929  \n",
       "SalePrice      1.000000  "
      ]
     },
     "execution_count": 58,
     "metadata": {},
     "output_type": "execute_result"
    }
   ],
   "source": [
    "# FireplaceQU 와 Fireplaces 의 상관관계 (0.863241)\n",
    "# TotalFlrSF 와 TotRmsAbvGrd 의 상관관계 (0.820088)\n",
    "# 다소 높아 보이는 상관관계쌍을 anova분석상 중요도가 높은 변수만 남기고 삭제\n",
    "df_train2.corr()"
   ]
  },
  {
   "cell_type": "code",
   "execution_count": 68,
   "metadata": {
    "scrolled": false
   },
   "outputs": [
    {
     "name": "stdout",
     "output_type": "stream",
     "text": [
      "                             OLS Regression Results                            \n",
      "===============================================================================\n",
      "Dep. Variable:     np.log1p(SalePrice)   R-squared:                       0.828\n",
      "Model:                             OLS   Adj. R-squared:                  0.825\n",
      "Method:                  Least Squares   F-statistic:                     276.1\n",
      "Date:                 Tue, 13 Mar 2018   Prob (F-statistic):               0.00\n",
      "Time:                         08:26:44   Log-Likelihood:                 553.61\n",
      "No. Observations:                 1460   AIC:                            -1055.\n",
      "Df Residuals:                     1434   BIC:                            -917.8\n",
      "Df Model:                           25                                         \n",
      "Covariance Type:             nonrobust                                         \n",
      "===============================================================================================\n",
      "                                  coef    std err          t      P>|t|      [0.025      0.975]\n",
      "-----------------------------------------------------------------------------------------------\n",
      "Intercept                      11.1315      0.123     90.789      0.000      10.891      11.372\n",
      "C(OverallQual)[T.2]            -0.0685      0.155     -0.443      0.658      -0.372       0.235\n",
      "C(OverallQual)[T.3]             0.2928      0.125      2.340      0.019       0.047       0.538\n",
      "C(OverallQual)[T.4]             0.4524      0.121      3.740      0.000       0.215       0.690\n",
      "C(OverallQual)[T.5]             0.5863      0.121      4.854      0.000       0.349       0.823\n",
      "C(OverallQual)[T.6]             0.6435      0.121      5.308      0.000       0.406       0.881\n",
      "C(OverallQual)[T.7]             0.7523      0.122      6.172      0.000       0.513       0.991\n",
      "C(OverallQual)[T.8]             0.8578      0.123      6.976      0.000       0.617       1.099\n",
      "C(OverallQual)[T.9]             1.0031      0.126      7.941      0.000       0.755       1.251\n",
      "C(OverallQual)[T.10]            0.8651      0.132      6.570      0.000       0.607       1.123\n",
      "C(BsmtQual)[T.2]               -0.0553      0.041     -1.339      0.181      -0.136       0.026\n",
      "C(BsmtQual)[T.3]                0.0326      0.033      0.998      0.318      -0.032       0.097\n",
      "C(BsmtQual)[T.4]                0.1377      0.034      4.020      0.000       0.070       0.205\n",
      "C(BsmtQual)[T.5]                0.2003      0.041      4.893      0.000       0.120       0.281\n",
      "C(SaleCondition)[T.AdjLand]     0.0369      0.086      0.429      0.668      -0.132       0.205\n",
      "C(SaleCondition)[T.Alloca]      0.0459      0.052      0.884      0.377      -0.056       0.148\n",
      "C(SaleCondition)[T.Family]     -0.0019      0.041     -0.046      0.963      -0.082       0.079\n",
      "C(SaleCondition)[T.Normal]      0.1011      0.018      5.767      0.000       0.067       0.136\n",
      "C(SaleCondition)[T.Partial]     0.1347      0.024      5.557      0.000       0.087       0.182\n",
      "C(Fireplaces)[T.1]              0.0689      0.011      6.505      0.000       0.048       0.090\n",
      "C(Fireplaces)[T.2]              0.1575      0.018      8.596      0.000       0.122       0.194\n",
      "C(Fireplaces)[T.3]             -0.2849      0.078     -3.649      0.000      -0.438      -0.132\n",
      "scale(TotalFlrSF)               0.1091      0.006     17.727      0.000       0.097       0.121\n",
      "scale(GarageArea)               0.0635      0.006     10.952      0.000       0.052       0.075\n",
      "scale(TotalBsmtSF)              0.0473      0.006      7.409      0.000       0.035       0.060\n",
      "scale(MasVnrArea)               0.0032      0.005      0.631      0.528      -0.007       0.013\n",
      "==============================================================================\n",
      "Omnibus:                      694.514   Durbin-Watson:                   1.973\n",
      "Prob(Omnibus):                  0.000   Jarque-Bera (JB):            11456.937\n",
      "Skew:                          -1.795   Prob(JB):                         0.00\n",
      "Kurtosis:                      16.245   Cond. No.                         140.\n",
      "==============================================================================\n",
      "\n",
      "Warnings:\n",
      "[1] Standard Errors assume that the covariance matrix of the errors is correctly specified.\n"
     ]
    }
   ],
   "source": [
    "# Anova 분석을 통한 변수 중요도 출력 \n",
    "# 결과 : OverallQual > TotalFlrSF > GarageArea > TotalBsmtSF > BsmtQual > SaleCondition\n",
    "#        MasVnrArea > Fireplaces > TotRmsAbvGrd> FireplaceQu\n",
    "model = sm.OLS.from_formula(\"np.log1p(SalePrice) ~ C(OverallQual) + scale(TotalFlrSF) + \\\n",
    "scale(GarageArea) + scale(TotalBsmtSF) + C(BsmtQual) + C(SaleCondition) + scale(MasVnrArea) + \\\n",
    "C(Fireplaces)\", data=df_train2)\n",
    "# 'GrLivArea'(X), 'GarageArea', 'TotalFlrSF', 'TotRmsAbvGrd', 'TotalBsmtSF',\n",
    "# 'MasVnrArea', 'OverallQual', 'SaleCondition', 'BsmtQual', 'FireplaceQu',\n",
    "# 'Fireplaces', 'SalePrice'\n",
    "result = model.fit()\n",
    "print(result.summary())"
   ]
  }
 ],
 "metadata": {
  "kernelspec": {
   "display_name": "Python 3",
   "language": "python",
   "name": "python3"
  },
  "language_info": {
   "codemirror_mode": {
    "name": "ipython",
    "version": 3
   },
   "file_extension": ".py",
   "mimetype": "text/x-python",
   "name": "python",
   "nbconvert_exporter": "python",
   "pygments_lexer": "ipython3",
   "version": "3.6.3"
  }
 },
 "nbformat": 4,
 "nbformat_minor": 2
}
