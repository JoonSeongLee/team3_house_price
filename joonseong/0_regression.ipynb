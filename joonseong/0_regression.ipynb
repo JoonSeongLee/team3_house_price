{
 "cells": [
  {
   "cell_type": "code",
   "execution_count": 1,
   "metadata": {},
   "outputs": [
    {
     "name": "stderr",
     "output_type": "stream",
     "text": [
      "/usr/local/lib/python3.6/site-packages/statsmodels/compat/pandas.py:56: FutureWarning: The pandas.core.datetools module is deprecated and will be removed in a future version. Please use the pandas.tseries module instead.\n",
      "  from pandas.core import datetools\n"
     ]
    },
    {
     "data": {
      "text/html": [
       "<div>\n",
       "<style scoped>\n",
       "    .dataframe tbody tr th:only-of-type {\n",
       "        vertical-align: middle;\n",
       "    }\n",
       "\n",
       "    .dataframe tbody tr th {\n",
       "        vertical-align: top;\n",
       "    }\n",
       "\n",
       "    .dataframe thead th {\n",
       "        text-align: right;\n",
       "    }\n",
       "</style>\n",
       "<table border=\"1\" class=\"dataframe\">\n",
       "  <thead>\n",
       "    <tr style=\"text-align: right;\">\n",
       "      <th></th>\n",
       "      <th>Id</th>\n",
       "      <th>MSSubClass</th>\n",
       "      <th>MSZoning</th>\n",
       "      <th>LotFrontage</th>\n",
       "      <th>LotArea</th>\n",
       "      <th>Street</th>\n",
       "      <th>Alley</th>\n",
       "      <th>LotShape</th>\n",
       "      <th>LandContour</th>\n",
       "      <th>Utilities</th>\n",
       "      <th>...</th>\n",
       "      <th>PoolArea</th>\n",
       "      <th>PoolQC</th>\n",
       "      <th>Fence</th>\n",
       "      <th>MiscFeature</th>\n",
       "      <th>MiscVal</th>\n",
       "      <th>MoSold</th>\n",
       "      <th>YrSold</th>\n",
       "      <th>SaleType</th>\n",
       "      <th>SaleCondition</th>\n",
       "      <th>SalePrice</th>\n",
       "    </tr>\n",
       "  </thead>\n",
       "  <tbody>\n",
       "    <tr>\n",
       "      <th>0</th>\n",
       "      <td>1</td>\n",
       "      <td>60</td>\n",
       "      <td>RL</td>\n",
       "      <td>65.0</td>\n",
       "      <td>8450</td>\n",
       "      <td>Pave</td>\n",
       "      <td>NaN</td>\n",
       "      <td>Reg</td>\n",
       "      <td>Lvl</td>\n",
       "      <td>AllPub</td>\n",
       "      <td>...</td>\n",
       "      <td>0</td>\n",
       "      <td>NaN</td>\n",
       "      <td>NaN</td>\n",
       "      <td>NaN</td>\n",
       "      <td>0</td>\n",
       "      <td>2</td>\n",
       "      <td>2008</td>\n",
       "      <td>WD</td>\n",
       "      <td>Normal</td>\n",
       "      <td>208500</td>\n",
       "    </tr>\n",
       "    <tr>\n",
       "      <th>1</th>\n",
       "      <td>2</td>\n",
       "      <td>20</td>\n",
       "      <td>RL</td>\n",
       "      <td>80.0</td>\n",
       "      <td>9600</td>\n",
       "      <td>Pave</td>\n",
       "      <td>NaN</td>\n",
       "      <td>Reg</td>\n",
       "      <td>Lvl</td>\n",
       "      <td>AllPub</td>\n",
       "      <td>...</td>\n",
       "      <td>0</td>\n",
       "      <td>NaN</td>\n",
       "      <td>NaN</td>\n",
       "      <td>NaN</td>\n",
       "      <td>0</td>\n",
       "      <td>5</td>\n",
       "      <td>2007</td>\n",
       "      <td>WD</td>\n",
       "      <td>Normal</td>\n",
       "      <td>181500</td>\n",
       "    </tr>\n",
       "    <tr>\n",
       "      <th>2</th>\n",
       "      <td>3</td>\n",
       "      <td>60</td>\n",
       "      <td>RL</td>\n",
       "      <td>68.0</td>\n",
       "      <td>11250</td>\n",
       "      <td>Pave</td>\n",
       "      <td>NaN</td>\n",
       "      <td>IR1</td>\n",
       "      <td>Lvl</td>\n",
       "      <td>AllPub</td>\n",
       "      <td>...</td>\n",
       "      <td>0</td>\n",
       "      <td>NaN</td>\n",
       "      <td>NaN</td>\n",
       "      <td>NaN</td>\n",
       "      <td>0</td>\n",
       "      <td>9</td>\n",
       "      <td>2008</td>\n",
       "      <td>WD</td>\n",
       "      <td>Normal</td>\n",
       "      <td>223500</td>\n",
       "    </tr>\n",
       "    <tr>\n",
       "      <th>3</th>\n",
       "      <td>4</td>\n",
       "      <td>70</td>\n",
       "      <td>RL</td>\n",
       "      <td>60.0</td>\n",
       "      <td>9550</td>\n",
       "      <td>Pave</td>\n",
       "      <td>NaN</td>\n",
       "      <td>IR1</td>\n",
       "      <td>Lvl</td>\n",
       "      <td>AllPub</td>\n",
       "      <td>...</td>\n",
       "      <td>0</td>\n",
       "      <td>NaN</td>\n",
       "      <td>NaN</td>\n",
       "      <td>NaN</td>\n",
       "      <td>0</td>\n",
       "      <td>2</td>\n",
       "      <td>2006</td>\n",
       "      <td>WD</td>\n",
       "      <td>Abnorml</td>\n",
       "      <td>140000</td>\n",
       "    </tr>\n",
       "    <tr>\n",
       "      <th>4</th>\n",
       "      <td>5</td>\n",
       "      <td>60</td>\n",
       "      <td>RL</td>\n",
       "      <td>84.0</td>\n",
       "      <td>14260</td>\n",
       "      <td>Pave</td>\n",
       "      <td>NaN</td>\n",
       "      <td>IR1</td>\n",
       "      <td>Lvl</td>\n",
       "      <td>AllPub</td>\n",
       "      <td>...</td>\n",
       "      <td>0</td>\n",
       "      <td>NaN</td>\n",
       "      <td>NaN</td>\n",
       "      <td>NaN</td>\n",
       "      <td>0</td>\n",
       "      <td>12</td>\n",
       "      <td>2008</td>\n",
       "      <td>WD</td>\n",
       "      <td>Normal</td>\n",
       "      <td>250000</td>\n",
       "    </tr>\n",
       "  </tbody>\n",
       "</table>\n",
       "<p>5 rows × 81 columns</p>\n",
       "</div>"
      ],
      "text/plain": [
       "   Id  MSSubClass MSZoning  LotFrontage  LotArea Street Alley LotShape  \\\n",
       "0   1          60       RL         65.0     8450   Pave   NaN      Reg   \n",
       "1   2          20       RL         80.0     9600   Pave   NaN      Reg   \n",
       "2   3          60       RL         68.0    11250   Pave   NaN      IR1   \n",
       "3   4          70       RL         60.0     9550   Pave   NaN      IR1   \n",
       "4   5          60       RL         84.0    14260   Pave   NaN      IR1   \n",
       "\n",
       "  LandContour Utilities    ...     PoolArea PoolQC Fence MiscFeature MiscVal  \\\n",
       "0         Lvl    AllPub    ...            0    NaN   NaN         NaN       0   \n",
       "1         Lvl    AllPub    ...            0    NaN   NaN         NaN       0   \n",
       "2         Lvl    AllPub    ...            0    NaN   NaN         NaN       0   \n",
       "3         Lvl    AllPub    ...            0    NaN   NaN         NaN       0   \n",
       "4         Lvl    AllPub    ...            0    NaN   NaN         NaN       0   \n",
       "\n",
       "  MoSold YrSold  SaleType  SaleCondition  SalePrice  \n",
       "0      2   2008        WD         Normal     208500  \n",
       "1      5   2007        WD         Normal     181500  \n",
       "2      9   2008        WD         Normal     223500  \n",
       "3      2   2006        WD        Abnorml     140000  \n",
       "4     12   2008        WD         Normal     250000  \n",
       "\n",
       "[5 rows x 81 columns]"
      ]
     },
     "execution_count": 1,
     "metadata": {},
     "output_type": "execute_result"
    }
   ],
   "source": [
    "import statsmodels.api as sm\n",
    "import warnings\n",
    "warnings.filterwarnings('ignore')\n",
    "\n",
    "df = pd.read_csv('../train.csv')\n",
    "df_raw = df.copy()\n",
    "df_raw.head()"
   ]
  },
  {
   "cell_type": "code",
   "execution_count": 2,
   "metadata": {},
   "outputs": [],
   "source": [
    "## value가 문자 값이지만 등급을 나타내는 feature들 (nan값은 대상이 없음을 의미한다.)\n",
    "tonum = {\"ExterQual\": {'Ex' : 5, 'Gd' : 4, 'TA' : 3, 'Fa' : 2, 'Po' : 1, np.nan : 0},\n",
    "         \"ExterCond\": {'Ex' : 5, 'Gd' : 4, 'TA' : 3, 'Fa' : 2, 'Po' : 1, np.nan : 0},\n",
    "         \"BsmtQual\": {'Ex' : 5, 'Gd' : 4, 'TA' : 3, 'Fa' : 2, 'Po' : 1, np.nan : 0},\n",
    "         \"BsmtCond\": {'Ex' : 5, 'Gd' : 4, 'TA' : 3, 'Fa' : 2, 'Po' : 1, np.nan : 0},\n",
    "         \"HeatingQC\": {'Ex' : 5, 'Gd' : 4, 'TA' : 3, 'Fa' : 2, 'Po' : 1, np.nan : 0},\n",
    "         \"KitchenQual\": {'Ex' : 5, 'Gd' : 4, 'TA' : 3, 'Fa' : 2, 'Po' : 1, np.nan : 0},\n",
    "         \"FireplaceQu\": {'Ex' : 5, 'Gd' : 4, 'TA' : 3, 'Fa' : 2, 'Po' : 1, np.nan : 0},\n",
    "         \"GarageQual\": {'Ex' : 5, 'Gd' : 4, 'TA' : 3, 'Fa' : 2, 'Po' : 1, np.nan : 0},\n",
    "         \"GarageCond\": {'Ex' : 5, 'Gd' : 4, 'TA' : 3, 'Fa' : 2, 'Po' : 1, np.nan : 0},\n",
    "         \"PoolQC\": {'Ex' : 5, 'Gd' : 4, 'TA' : 3, 'Fa' : 2, 'Po' : 1, np.nan : 0},\n",
    "         \"BsmtFinType1\" : {'GLQ' : 6, 'ALQ' : 5, 'BLQ': 4,'Rec' : 3,'LwQ' : 2, 'Unf' : 1, np.nan : 0},\n",
    "         \"BsmtFinType2\" : {'GLQ' : 6, 'ALQ' : 5, 'BLQ': 4,'Rec' : 3,'LwQ' : 2, 'Unf' : 1, np.nan : 0},\n",
    "           }\n",
    "df_raw = df_raw.replace(tonum)"
   ]
  },
  {
   "cell_type": "code",
   "execution_count": 3,
   "metadata": {},
   "outputs": [],
   "source": [
    "## 그 외 nan값이 모르는 값이 아닌 대상이 없음을 의미 하는 feature들\n",
    "fill_na_ls = [['GarageType',# NA : 차고 없음 (category)\n",
    " 'MiscFeature',             # NA : 없음  (category) 기타 범주(엘레베이터, 테이스 코트) 기타 범주\n",
    " 'Fence',                   # NA : 울타리 없음 (category)\n",
    " 'GarageFinish',            # NA : 차고 없음 (category)\n",
    " 'BsmtExposure',            # NA : 지하실 없음\n",
    " 'Alley',                   # NA : No alley access\n",
    "]]\n",
    "\n",
    "for name in fill_na_ls:\n",
    "    df_raw[name] = df_raw[name].fillna('N')"
   ]
  },
  {
   "cell_type": "code",
   "execution_count": 4,
   "metadata": {
    "scrolled": true
   },
   "outputs": [
    {
     "data": {
      "text/html": [
       "<div>\n",
       "<style scoped>\n",
       "    .dataframe tbody tr th:only-of-type {\n",
       "        vertical-align: middle;\n",
       "    }\n",
       "\n",
       "    .dataframe tbody tr th {\n",
       "        vertical-align: top;\n",
       "    }\n",
       "\n",
       "    .dataframe thead th {\n",
       "        text-align: right;\n",
       "    }\n",
       "</style>\n",
       "<table border=\"1\" class=\"dataframe\">\n",
       "  <thead>\n",
       "    <tr style=\"text-align: right;\">\n",
       "      <th></th>\n",
       "      <th>Id</th>\n",
       "      <th>MSSubClass</th>\n",
       "      <th>MSZoning</th>\n",
       "      <th>LotFrontage</th>\n",
       "      <th>LotArea</th>\n",
       "      <th>Street</th>\n",
       "      <th>Alley</th>\n",
       "      <th>LotShape</th>\n",
       "      <th>LandContour</th>\n",
       "      <th>Utilities</th>\n",
       "      <th>...</th>\n",
       "      <th>PoolArea</th>\n",
       "      <th>PoolQC</th>\n",
       "      <th>Fence</th>\n",
       "      <th>MiscFeature</th>\n",
       "      <th>MiscVal</th>\n",
       "      <th>MoSold</th>\n",
       "      <th>YrSold</th>\n",
       "      <th>SaleType</th>\n",
       "      <th>SaleCondition</th>\n",
       "      <th>SalePrice</th>\n",
       "    </tr>\n",
       "  </thead>\n",
       "  <tbody>\n",
       "    <tr>\n",
       "      <th>1455</th>\n",
       "      <td>1456</td>\n",
       "      <td>60</td>\n",
       "      <td>RL</td>\n",
       "      <td>62.0</td>\n",
       "      <td>7917</td>\n",
       "      <td>Pave</td>\n",
       "      <td>N</td>\n",
       "      <td>Reg</td>\n",
       "      <td>Lvl</td>\n",
       "      <td>AllPub</td>\n",
       "      <td>...</td>\n",
       "      <td>0</td>\n",
       "      <td>0</td>\n",
       "      <td>N</td>\n",
       "      <td>N</td>\n",
       "      <td>0</td>\n",
       "      <td>8</td>\n",
       "      <td>2007</td>\n",
       "      <td>WD</td>\n",
       "      <td>Normal</td>\n",
       "      <td>175000</td>\n",
       "    </tr>\n",
       "    <tr>\n",
       "      <th>1456</th>\n",
       "      <td>1457</td>\n",
       "      <td>20</td>\n",
       "      <td>RL</td>\n",
       "      <td>85.0</td>\n",
       "      <td>13175</td>\n",
       "      <td>Pave</td>\n",
       "      <td>N</td>\n",
       "      <td>Reg</td>\n",
       "      <td>Lvl</td>\n",
       "      <td>AllPub</td>\n",
       "      <td>...</td>\n",
       "      <td>0</td>\n",
       "      <td>0</td>\n",
       "      <td>MnPrv</td>\n",
       "      <td>N</td>\n",
       "      <td>0</td>\n",
       "      <td>2</td>\n",
       "      <td>2010</td>\n",
       "      <td>WD</td>\n",
       "      <td>Normal</td>\n",
       "      <td>210000</td>\n",
       "    </tr>\n",
       "    <tr>\n",
       "      <th>1457</th>\n",
       "      <td>1458</td>\n",
       "      <td>70</td>\n",
       "      <td>RL</td>\n",
       "      <td>66.0</td>\n",
       "      <td>9042</td>\n",
       "      <td>Pave</td>\n",
       "      <td>N</td>\n",
       "      <td>Reg</td>\n",
       "      <td>Lvl</td>\n",
       "      <td>AllPub</td>\n",
       "      <td>...</td>\n",
       "      <td>0</td>\n",
       "      <td>0</td>\n",
       "      <td>GdPrv</td>\n",
       "      <td>Shed</td>\n",
       "      <td>2500</td>\n",
       "      <td>5</td>\n",
       "      <td>2010</td>\n",
       "      <td>WD</td>\n",
       "      <td>Normal</td>\n",
       "      <td>266500</td>\n",
       "    </tr>\n",
       "    <tr>\n",
       "      <th>1458</th>\n",
       "      <td>1459</td>\n",
       "      <td>20</td>\n",
       "      <td>RL</td>\n",
       "      <td>68.0</td>\n",
       "      <td>9717</td>\n",
       "      <td>Pave</td>\n",
       "      <td>N</td>\n",
       "      <td>Reg</td>\n",
       "      <td>Lvl</td>\n",
       "      <td>AllPub</td>\n",
       "      <td>...</td>\n",
       "      <td>0</td>\n",
       "      <td>0</td>\n",
       "      <td>N</td>\n",
       "      <td>N</td>\n",
       "      <td>0</td>\n",
       "      <td>4</td>\n",
       "      <td>2010</td>\n",
       "      <td>WD</td>\n",
       "      <td>Normal</td>\n",
       "      <td>142125</td>\n",
       "    </tr>\n",
       "    <tr>\n",
       "      <th>1459</th>\n",
       "      <td>1460</td>\n",
       "      <td>20</td>\n",
       "      <td>RL</td>\n",
       "      <td>75.0</td>\n",
       "      <td>9937</td>\n",
       "      <td>Pave</td>\n",
       "      <td>N</td>\n",
       "      <td>Reg</td>\n",
       "      <td>Lvl</td>\n",
       "      <td>AllPub</td>\n",
       "      <td>...</td>\n",
       "      <td>0</td>\n",
       "      <td>0</td>\n",
       "      <td>N</td>\n",
       "      <td>N</td>\n",
       "      <td>0</td>\n",
       "      <td>6</td>\n",
       "      <td>2008</td>\n",
       "      <td>WD</td>\n",
       "      <td>Normal</td>\n",
       "      <td>147500</td>\n",
       "    </tr>\n",
       "  </tbody>\n",
       "</table>\n",
       "<p>5 rows × 81 columns</p>\n",
       "</div>"
      ],
      "text/plain": [
       "        Id  MSSubClass MSZoning  LotFrontage  LotArea Street Alley LotShape  \\\n",
       "1455  1456          60       RL         62.0     7917   Pave     N      Reg   \n",
       "1456  1457          20       RL         85.0    13175   Pave     N      Reg   \n",
       "1457  1458          70       RL         66.0     9042   Pave     N      Reg   \n",
       "1458  1459          20       RL         68.0     9717   Pave     N      Reg   \n",
       "1459  1460          20       RL         75.0     9937   Pave     N      Reg   \n",
       "\n",
       "     LandContour Utilities    ...     PoolArea PoolQC  Fence MiscFeature  \\\n",
       "1455         Lvl    AllPub    ...            0      0      N           N   \n",
       "1456         Lvl    AllPub    ...            0      0  MnPrv           N   \n",
       "1457         Lvl    AllPub    ...            0      0  GdPrv        Shed   \n",
       "1458         Lvl    AllPub    ...            0      0      N           N   \n",
       "1459         Lvl    AllPub    ...            0      0      N           N   \n",
       "\n",
       "     MiscVal MoSold YrSold  SaleType  SaleCondition  SalePrice  \n",
       "1455       0      8   2007        WD         Normal     175000  \n",
       "1456       0      2   2010        WD         Normal     210000  \n",
       "1457    2500      5   2010        WD         Normal     266500  \n",
       "1458       0      4   2010        WD         Normal     142125  \n",
       "1459       0      6   2008        WD         Normal     147500  \n",
       "\n",
       "[5 rows x 81 columns]"
      ]
     },
     "execution_count": 4,
     "metadata": {},
     "output_type": "execute_result"
    }
   ],
   "source": [
    "df_raw.tail()"
   ]
  },
  {
   "cell_type": "code",
   "execution_count": 5,
   "metadata": {
    "scrolled": false
   },
   "outputs": [
    {
     "data": {
      "text/html": [
       "<div>\n",
       "<style scoped>\n",
       "    .dataframe tbody tr th:only-of-type {\n",
       "        vertical-align: middle;\n",
       "    }\n",
       "\n",
       "    .dataframe tbody tr th {\n",
       "        vertical-align: top;\n",
       "    }\n",
       "\n",
       "    .dataframe thead th {\n",
       "        text-align: right;\n",
       "    }\n",
       "</style>\n",
       "<table border=\"1\" class=\"dataframe\">\n",
       "  <thead>\n",
       "    <tr style=\"text-align: right;\">\n",
       "      <th></th>\n",
       "      <th>Total</th>\n",
       "      <th>Percent</th>\n",
       "    </tr>\n",
       "  </thead>\n",
       "  <tbody>\n",
       "    <tr>\n",
       "      <th>LotFrontage</th>\n",
       "      <td>259</td>\n",
       "      <td>0.177397</td>\n",
       "    </tr>\n",
       "    <tr>\n",
       "      <th>GarageYrBlt</th>\n",
       "      <td>81</td>\n",
       "      <td>0.055479</td>\n",
       "    </tr>\n",
       "    <tr>\n",
       "      <th>MasVnrType</th>\n",
       "      <td>8</td>\n",
       "      <td>0.005479</td>\n",
       "    </tr>\n",
       "    <tr>\n",
       "      <th>MasVnrArea</th>\n",
       "      <td>8</td>\n",
       "      <td>0.005479</td>\n",
       "    </tr>\n",
       "    <tr>\n",
       "      <th>Electrical</th>\n",
       "      <td>1</td>\n",
       "      <td>0.000685</td>\n",
       "    </tr>\n",
       "  </tbody>\n",
       "</table>\n",
       "</div>"
      ],
      "text/plain": [
       "             Total   Percent\n",
       "LotFrontage    259  0.177397\n",
       "GarageYrBlt     81  0.055479\n",
       "MasVnrType       8  0.005479\n",
       "MasVnrArea       8  0.005479\n",
       "Electrical       1  0.000685"
      ]
     },
     "execution_count": 5,
     "metadata": {},
     "output_type": "execute_result"
    }
   ],
   "source": [
    "# 그래도 남은 Null값들\n",
    "total = df_raw.isnull().sum().sort_values(ascending=False)\n",
    "percent = (df_raw.isnull().sum()/df_raw.isnull().count()).sort_values(ascending=False)\n",
    "missing_data = pd.concat([total, percent], axis=1, keys=['Total', 'Percent'])\n",
    "pd.set_option(\"display.max_rows\",None)\n",
    "missing_data.head()"
   ]
  },
  {
   "cell_type": "code",
   "execution_count": 6,
   "metadata": {},
   "outputs": [],
   "source": [
    "# Null 값 drop\n",
    "pd.set_option(\"display.max_columns\",None)\n",
    "df_raw = df_raw.drop((missing_data[missing_data['Total'] > 1]).index,1)\n",
    "df_raw = df_raw.drop(df_raw.loc[df_raw['Electrical'].isnull()].index)"
   ]
  },
  {
   "cell_type": "code",
   "execution_count": 7,
   "metadata": {},
   "outputs": [
    {
     "data": {
      "image/png": "[encoded data removed]",
      "text/plain": [
       "<matplotlib.figure.Figure at 0x10b19b668>"
      ]
     },
     "metadata": {},
     "output_type": "display_data"
    }
   ],
   "source": [
    "# y값에 로그\n",
    "from scipy import stats\n",
    "df_raw['SalePrice'] = np.log(df_raw['SalePrice'])\n",
    "fig = plt.figure()\n",
    "res = stats.probplot(df_raw['SalePrice'], plot=plt)"
   ]
  },
  {
   "cell_type": "code",
   "execution_count": 8,
   "metadata": {},
   "outputs": [
    {
     "data": {
      "text/plain": [
       "SalePrice        1.000000\n",
       "OverallQual      0.817368\n",
       "GrLivArea        0.700941\n",
       "GarageCars       0.680645\n",
       "ExterQual        0.678956\n",
       "KitchenQual      0.668011\n",
       "GarageArea       0.650916\n",
       "BsmtQual         0.615871\n",
       "TotalBsmtSF      0.612642\n",
       "1stFlrSF         0.597218\n",
       "FullBath         0.594891\n",
       "YearBuilt        0.586827\n",
       "YearRemodAdd     0.565822\n",
       "FireplaceQu      0.546561\n",
       "TotRmsAbvGrd     0.534436\n",
       "Fireplaces       0.489609\n",
       "HeatingQC        0.473767\n",
       "BsmtFinSF1       0.372152\n",
       "GarageQual       0.363265\n",
       "GarageCond       0.356773\n",
       "BsmtFinType1     0.334980\n",
       "WoodDeckSF       0.334135\n",
       "OpenPorchSF      0.321113\n",
       "2ndFlrSF         0.319344\n",
       "HalfBath         0.314135\n",
       "BsmtCond         0.274543\n",
       "LotArea          0.257321\n",
       "BsmtFullBath     0.236285\n",
       "BsmtUnfSF        0.222001\n",
       "BedroomAbvGr     0.209044\n",
       "ScreenPorch      0.121213\n",
       "PoolQC           0.077292\n",
       "PoolArea         0.069798\n",
       "MoSold           0.057338\n",
       "3SsnPorch        0.054901\n",
       "ExterCond        0.049317\n",
       "BsmtFinType2     0.014037\n",
       "BsmtFinSF2       0.004835\n",
       "BsmtHalfBath    -0.005147\n",
       "Id              -0.017969\n",
       "MiscVal         -0.020020\n",
       "OverallCond     -0.036867\n",
       "YrSold          -0.037264\n",
       "LowQualFinSF    -0.037962\n",
       "MSSubClass      -0.073971\n",
       "KitchenAbvGr    -0.147549\n",
       "EnclosedPorch   -0.149054\n",
       "Name: SalePrice, dtype: float64"
      ]
     },
     "execution_count": 8,
     "metadata": {},
     "output_type": "execute_result"
    }
   ],
   "source": [
    "heat= df_raw.corr()\n",
    "heat[\"SalePrice\"][:].sort_values(ascending=False)"
   ]
  },
  {
   "cell_type": "code",
   "execution_count": 9,
   "metadata": {},
   "outputs": [],
   "source": [
    "#숫자 feature의 수 = 47개\n",
    "len(heat)\n",
    "number_feature = list(heat.index)"
   ]
  },
  {
   "cell_type": "code",
   "execution_count": 10,
   "metadata": {},
   "outputs": [],
   "source": [
    "df_raw['n1stFlrSF']=df_raw['1stFlrSF']\n",
    "df_raw = df_raw.drop(['1stFlrSF'], axis=1)"
   ]
  },
  {
   "cell_type": "code",
   "execution_count": 11,
   "metadata": {},
   "outputs": [
    {
     "name": "stdout",
     "output_type": "stream",
     "text": [
      "                            OLS Regression Results                            \n",
      "==============================================================================\n",
      "Dep. Variable:              SalePrice   R-squared:                       0.831\n",
      "Model:                            OLS   Adj. R-squared:                  0.830\n",
      "Method:                 Least Squares   F-statistic:                     594.4\n",
      "Date:                Tue, 13 Mar 2018   Prob (F-statistic):               0.00\n",
      "Time:                        19:44:36   Log-Likelihood:                 567.54\n",
      "No. Observations:                1459   AIC:                            -1109.\n",
      "Df Residuals:                    1446   BIC:                            -1040.\n",
      "Df Model:                          12                                         \n",
      "Covariance Type:            nonrobust                                         \n",
      "=======================================================================================\n",
      "                          coef    std err          t      P>|t|      [0.025      0.975]\n",
      "---------------------------------------------------------------------------------------\n",
      "Intercept              12.0240      0.004   2788.106      0.000      12.016      12.033\n",
      "scale(OverallQual)      0.1042      0.008     12.917      0.000       0.088       0.120\n",
      "scale(GrLivArea)        0.1094      0.007     15.110      0.000       0.095       0.124\n",
      "scale(GarageCars)       0.0422      0.010      4.244      0.000       0.023       0.062\n",
      "scale(ExterQual)        0.0109      0.007      1.582      0.114      -0.003       0.024\n",
      "scale(GarageArea)       0.0206      0.010      2.140      0.032       0.002       0.039\n",
      "scale(BsmtQual)         0.0281      0.007      3.885      0.000       0.014       0.042\n",
      "scale(TotalBsmtSF)      0.0214      0.010      2.192      0.029       0.002       0.041\n",
      "scale(n1stFlrSF)        0.0283      0.009      3.030      0.002       0.010       0.047\n",
      "scale(FullBath)        -0.0044      0.006     -0.689      0.491      -0.017       0.008\n",
      "scale(YearBuilt)        0.0470      0.007      6.809      0.000       0.033       0.061\n",
      "scale(YearRemodAdd)     0.0431      0.006      7.227      0.000       0.031       0.055\n",
      "scale(FireplaceQu)      0.0441      0.005      8.368      0.000       0.034       0.054\n",
      "==============================================================================\n",
      "Omnibus:                      928.268   Durbin-Watson:                   1.981\n",
      "Prob(Omnibus):                  0.000   Jarque-Bera (JB):            30944.272\n",
      "Skew:                          -2.432   Prob(JB):                         0.00\n",
      "Kurtosis:                      25.031   Cond. No.                         7.97\n",
      "==============================================================================\n",
      "\n",
      "Warnings:\n",
      "[1] Standard Errors assume that the covariance matrix of the errors is correctly specified.\n"
     ]
    }
   ],
   "source": [
    "# 상관계수가 높은 상수 12개 feature의 OLS\n",
    "model_num = sm.OLS.from_formula(\"SalePrice ~ scale(OverallQual) + scale(GrLivArea) + scale(GarageCars) + scale(ExterQual) + scale(GarageArea) + scale(BsmtQual) + scale(TotalBsmtSF) + scale(n1stFlrSF) + scale(FullBath) + scale(YearBuilt) + scale(YearRemodAdd) + scale(FireplaceQu)\", data=df_raw)\n",
    "result_num = model_num.fit()\n",
    "print(result_num.summary())\n",
    "\n"
   ]
  },
  {
   "cell_type": "code",
   "execution_count": 12,
   "metadata": {},
   "outputs": [
    {
     "data": {
      "text/html": [
       "<div>\n",
       "<style scoped>\n",
       "    .dataframe tbody tr th:only-of-type {\n",
       "        vertical-align: middle;\n",
       "    }\n",
       "\n",
       "    .dataframe tbody tr th {\n",
       "        vertical-align: top;\n",
       "    }\n",
       "\n",
       "    .dataframe thead th {\n",
       "        text-align: right;\n",
       "    }\n",
       "</style>\n",
       "<table border=\"1\" class=\"dataframe\">\n",
       "  <thead>\n",
       "    <tr style=\"text-align: right;\">\n",
       "      <th></th>\n",
       "      <th>sum_sq</th>\n",
       "      <th>df</th>\n",
       "      <th>F</th>\n",
       "      <th>PR(&gt;F)</th>\n",
       "    </tr>\n",
       "  </thead>\n",
       "  <tbody>\n",
       "    <tr>\n",
       "      <th>scale(OverallQual)</th>\n",
       "      <td>4.527513</td>\n",
       "      <td>1.0</td>\n",
       "      <td>166.848210</td>\n",
       "      <td>3.337590e-36</td>\n",
       "    </tr>\n",
       "    <tr>\n",
       "      <th>scale(GrLivArea)</th>\n",
       "      <td>6.195393</td>\n",
       "      <td>1.0</td>\n",
       "      <td>228.313019</td>\n",
       "      <td>5.252057e-48</td>\n",
       "    </tr>\n",
       "    <tr>\n",
       "      <th>scale(GarageCars)</th>\n",
       "      <td>0.488734</td>\n",
       "      <td>1.0</td>\n",
       "      <td>18.010850</td>\n",
       "      <td>2.336271e-05</td>\n",
       "    </tr>\n",
       "    <tr>\n",
       "      <th>scale(ExterQual)</th>\n",
       "      <td>0.067917</td>\n",
       "      <td>1.0</td>\n",
       "      <td>2.502884</td>\n",
       "      <td>1.138567e-01</td>\n",
       "    </tr>\n",
       "    <tr>\n",
       "      <th>scale(GarageArea)</th>\n",
       "      <td>0.124311</td>\n",
       "      <td>1.0</td>\n",
       "      <td>4.581105</td>\n",
       "      <td>3.249324e-02</td>\n",
       "    </tr>\n",
       "    <tr>\n",
       "      <th>scale(BsmtQual)</th>\n",
       "      <td>0.409573</td>\n",
       "      <td>1.0</td>\n",
       "      <td>15.093605</td>\n",
       "      <td>1.069324e-04</td>\n",
       "    </tr>\n",
       "    <tr>\n",
       "      <th>scale(TotalBsmtSF)</th>\n",
       "      <td>0.130438</td>\n",
       "      <td>1.0</td>\n",
       "      <td>4.806924</td>\n",
       "      <td>2.850449e-02</td>\n",
       "    </tr>\n",
       "    <tr>\n",
       "      <th>scale(n1stFlrSF)</th>\n",
       "      <td>0.249092</td>\n",
       "      <td>1.0</td>\n",
       "      <td>9.179541</td>\n",
       "      <td>2.490765e-03</td>\n",
       "    </tr>\n",
       "    <tr>\n",
       "      <th>scale(FullBath)</th>\n",
       "      <td>0.012866</td>\n",
       "      <td>1.0</td>\n",
       "      <td>0.474138</td>\n",
       "      <td>4.912000e-01</td>\n",
       "    </tr>\n",
       "    <tr>\n",
       "      <th>scale(YearBuilt)</th>\n",
       "      <td>1.258046</td>\n",
       "      <td>1.0</td>\n",
       "      <td>46.361589</td>\n",
       "      <td>1.437042e-11</td>\n",
       "    </tr>\n",
       "    <tr>\n",
       "      <th>scale(YearRemodAdd)</th>\n",
       "      <td>1.417147</td>\n",
       "      <td>1.0</td>\n",
       "      <td>52.224784</td>\n",
       "      <td>7.983831e-13</td>\n",
       "    </tr>\n",
       "    <tr>\n",
       "      <th>scale(FireplaceQu)</th>\n",
       "      <td>1.900168</td>\n",
       "      <td>1.0</td>\n",
       "      <td>70.025119</td>\n",
       "      <td>1.362921e-16</td>\n",
       "    </tr>\n",
       "    <tr>\n",
       "      <th>Residual</th>\n",
       "      <td>39.237965</td>\n",
       "      <td>1446.0</td>\n",
       "      <td>NaN</td>\n",
       "      <td>NaN</td>\n",
       "    </tr>\n",
       "  </tbody>\n",
       "</table>\n",
       "</div>"
      ],
      "text/plain": [
       "                        sum_sq      df           F        PR(>F)\n",
       "scale(OverallQual)    4.527513     1.0  166.848210  3.337590e-36\n",
       "scale(GrLivArea)      6.195393     1.0  228.313019  5.252057e-48\n",
       "scale(GarageCars)     0.488734     1.0   18.010850  2.336271e-05\n",
       "scale(ExterQual)      0.067917     1.0    2.502884  1.138567e-01\n",
       "scale(GarageArea)     0.124311     1.0    4.581105  3.249324e-02\n",
       "scale(BsmtQual)       0.409573     1.0   15.093605  1.069324e-04\n",
       "scale(TotalBsmtSF)    0.130438     1.0    4.806924  2.850449e-02\n",
       "scale(n1stFlrSF)      0.249092     1.0    9.179541  2.490765e-03\n",
       "scale(FullBath)       0.012866     1.0    0.474138  4.912000e-01\n",
       "scale(YearBuilt)      1.258046     1.0   46.361589  1.437042e-11\n",
       "scale(YearRemodAdd)   1.417147     1.0   52.224784  7.983831e-13\n",
       "scale(FireplaceQu)    1.900168     1.0   70.025119  1.362921e-16\n",
       "Residual             39.237965  1446.0         NaN           NaN"
      ]
     },
     "execution_count": 12,
     "metadata": {},
     "output_type": "execute_result"
    }
   ],
   "source": [
    "sm.stats.anova_lm(result_num, typ=2) "
   ]
  },
  {
   "cell_type": "code",
   "execution_count": 13,
   "metadata": {},
   "outputs": [
    {
     "name": "stdout",
     "output_type": "stream",
     "text": [
      "                            OLS Regression Results                            \n",
      "==============================================================================\n",
      "Dep. Variable:              SalePrice   R-squared:                       0.830\n",
      "Model:                            OLS   Adj. R-squared:                  0.829\n",
      "Method:                 Least Squares   F-statistic:                     788.7\n",
      "Date:                Tue, 13 Mar 2018   Prob (F-statistic):               0.00\n",
      "Time:                        19:44:49   Log-Likelihood:                 563.32\n",
      "No. Observations:                1459   AIC:                            -1107.\n",
      "Df Residuals:                    1449   BIC:                            -1054.\n",
      "Df Model:                           9                                         \n",
      "Covariance Type:            nonrobust                                         \n",
      "=======================================================================================\n",
      "                          coef    std err          t      P>|t|      [0.025      0.975]\n",
      "---------------------------------------------------------------------------------------\n",
      "Intercept              12.0240      0.004   2782.931      0.000      12.016      12.033\n",
      "scale(OverallQual)      0.1096      0.008     14.544      0.000       0.095       0.124\n",
      "scale(GrLivArea)        0.1051      0.006     16.885      0.000       0.093       0.117\n",
      "scale(GarageCars)       0.0390      0.010      3.966      0.000       0.020       0.058\n",
      "scale(GarageArea)       0.0243      0.010      2.554      0.011       0.006       0.043\n",
      "scale(BsmtQual)         0.0379      0.006      6.242      0.000       0.026       0.050\n",
      "scale(n1stFlrSF)        0.0453      0.006      8.039      0.000       0.034       0.056\n",
      "scale(YearBuilt)        0.0471      0.007      7.218      0.000       0.034       0.060\n",
      "scale(YearRemodAdd)     0.0430      0.006      7.487      0.000       0.032       0.054\n",
      "scale(FireplaceQu)      0.0436      0.005      8.319      0.000       0.033       0.054\n",
      "==============================================================================\n",
      "Omnibus:                      841.684   Durbin-Watson:                   1.981\n",
      "Prob(Omnibus):                  0.000   Jarque-Bera (JB):            21748.976\n",
      "Skew:                          -2.184   Prob(JB):                         0.00\n",
      "Kurtosis:                      21.403   Cond. No.                         6.51\n",
      "==============================================================================\n",
      "\n",
      "Warnings:\n",
      "[1] Standard Errors assume that the covariance matrix of the errors is correctly specified.\n"
     ]
    }
   ],
   "source": [
    "# ExterQual,FullBath,TotalBsmtSF를 뺀 feature의 OLS\n",
    "model_num = sm.OLS.from_formula(\"SalePrice ~ scale(OverallQual) + scale(GrLivArea) + scale(GarageCars) + scale(GarageArea) + scale(BsmtQual) + scale(n1stFlrSF) + scale(YearBuilt) + scale(YearRemodAdd) + scale(FireplaceQu)\", data=df_raw)\n",
    "result_num = model_num.fit()\n",
    "print(result_num.summary())\n"
   ]
  },
  {
   "cell_type": "code",
   "execution_count": 20,
   "metadata": {
    "scrolled": true
   },
   "outputs": [
    {
     "data": {
      "image/png": "[encoded data removed]",
      "text/plain": [
       "<matplotlib.figure.Figure at 0x10c0560b8>"
      ]
     },
     "metadata": {},
     "output_type": "display_data"
    }
   ],
   "source": [
    "#PCA 판단\n",
    "plt.scatter(df_raw['GarageCars'], df_raw['GarageArea'], s=10)\n",
    "plt.title(\"original data\")\n",
    "plt.show()"
   ]
  },
  {
   "cell_type": "code",
   "execution_count": 21,
   "metadata": {},
   "outputs": [
    {
     "data": {
      "image/png": "[encoded data removed]",
      "text/plain": [
       "<matplotlib.figure.Figure at 0x10c1ad7f0>"
      ]
     },
     "metadata": {},
     "output_type": "display_data"
    }
   ],
   "source": [
    "# PCA\n",
    "X = pd.DataFrame()\n",
    "X[0] = df_raw['GarageCars']\n",
    "X[1] = df_raw['GarageArea']\n",
    "from sklearn.decomposition import PCA\n",
    "pca = PCA(n_components=2)\n",
    "pca.fit(X)\n",
    "Z = pca.transform(X)\n",
    "w, V = np.linalg.eig(pca.get_covariance())\n",
    "V.T.dot(X.T).T\n",
    "plt.scatter(Z[:,0], np.zeros_like(Z[:,1]), c='g', s=10)\n",
    "plt.title(\"transformed and truncated data\")\n",
    "plt.show()\n",
    "df_raw['Garage'] = Z[:,0]"
   ]
  },
  {
   "cell_type": "code",
   "execution_count": 22,
   "metadata": {},
   "outputs": [
    {
     "data": {
      "image/png": "[encoded data removed]",
      "text/plain": [
       "<matplotlib.figure.Figure at 0x10c18cbe0>"
      ]
     },
     "metadata": {},
     "output_type": "display_data"
    }
   ],
   "source": [
    "#PCA 후\n",
    "plt.scatter(df_raw['Garage'], df_raw['SalePrice'], s=10)\n",
    "plt.title(\"GgragePCA data\")\n",
    "plt.show()"
   ]
  },
  {
   "cell_type": "code",
   "execution_count": 23,
   "metadata": {},
   "outputs": [
    {
     "name": "stdout",
     "output_type": "stream",
     "text": [
      "                            OLS Regression Results                            \n",
      "==============================================================================\n",
      "Dep. Variable:              SalePrice   R-squared:                       0.829\n",
      "Model:                            OLS   Adj. R-squared:                  0.828\n",
      "Method:                 Least Squares   F-statistic:                     876.4\n",
      "Date:                Tue, 13 Mar 2018   Prob (F-statistic):               0.00\n",
      "Time:                        19:46:57   Log-Likelihood:                 555.44\n",
      "No. Observations:                1459   AIC:                            -1093.\n",
      "Df Residuals:                    1450   BIC:                            -1045.\n",
      "Df Model:                           8                                         \n",
      "Covariance Type:            nonrobust                                         \n",
      "=======================================================================================\n",
      "                          coef    std err          t      P>|t|      [0.025      0.975]\n",
      "---------------------------------------------------------------------------------------\n",
      "Intercept              12.0240      0.004   2768.905      0.000      12.016      12.033\n",
      "scale(OverallQual)      0.1120      0.008     14.831      0.000       0.097       0.127\n",
      "scale(GrLivArea)        0.1067      0.006     17.099      0.000       0.094       0.119\n",
      "scale(Garage)           0.0545      0.006      9.467      0.000       0.043       0.066\n",
      "scale(BsmtQual)         0.0379      0.006      6.224      0.000       0.026       0.050\n",
      "scale(n1stFlrSF)        0.0432      0.006      7.667      0.000       0.032       0.054\n",
      "scale(YearBuilt)        0.0514      0.006      7.962      0.000       0.039       0.064\n",
      "scale(YearRemodAdd)     0.0438      0.006      7.597      0.000       0.033       0.055\n",
      "scale(FireplaceQu)      0.0459      0.005      8.767      0.000       0.036       0.056\n",
      "==============================================================================\n",
      "Omnibus:                      918.803   Durbin-Watson:                   1.975\n",
      "Prob(Omnibus):                  0.000   Jarque-Bera (JB):            30606.664\n",
      "Skew:                          -2.394   Prob(JB):                         0.00\n",
      "Kurtosis:                      24.921   Cond. No.                         4.00\n",
      "==============================================================================\n",
      "\n",
      "Warnings:\n",
      "[1] Standard Errors assume that the covariance matrix of the errors is correctly specified.\n"
     ]
    }
   ],
   "source": [
    "# PCA한 Garage 추가한 OLS\n",
    "model_num = sm.OLS.from_formula(\"SalePrice ~ scale(OverallQual) + scale(GrLivArea) + scale(Garage) + scale(BsmtQual) + scale(n1stFlrSF) + scale(YearBuilt) + scale(YearRemodAdd) + scale(FireplaceQu)\", data=df_raw)\n",
    "result_num = model_num.fit()\n",
    "print(result_num.summary())\n"
   ]
  },
  {
   "cell_type": "code",
   "execution_count": 24,
   "metadata": {
    "collapsed": true
   },
   "outputs": [
    {
     "name": "stdout",
     "output_type": "stream",
     "text": [
      "                            OLS Regression Results                            \n",
      "==============================================================================\n",
      "Dep. Variable:              SalePrice   R-squared:                       0.424\n",
      "Model:                            OLS   Adj. R-squared:                  0.423\n",
      "Method:                 Least Squares   F-statistic:                     1071.\n",
      "Date:                Tue, 13 Mar 2018   Prob (F-statistic):          1.39e-176\n",
      "Time:                        19:47:09   Log-Likelihood:                -329.32\n",
      "No. Observations:                1459   AIC:                             662.6\n",
      "Df Residuals:                    1457   BIC:                             673.2\n",
      "Df Model:                           1                                         \n",
      "Covariance Type:            nonrobust                                         \n",
      "=================================================================================\n",
      "                    coef    std err          t      P>|t|      [0.025      0.975]\n",
      "---------------------------------------------------------------------------------\n",
      "Intercept        12.0240      0.008   1513.524      0.000      12.008      12.040\n",
      "scale(Garage)     0.2600      0.008     32.729      0.000       0.244       0.276\n",
      "==============================================================================\n",
      "Omnibus:                       96.777   Durbin-Watson:                   1.989\n",
      "Prob(Omnibus):                  0.000   Jarque-Bera (JB):              231.083\n",
      "Skew:                          -0.386   Prob(JB):                     6.62e-51\n",
      "Kurtosis:                       4.790   Cond. No.                         1.00\n",
      "==============================================================================\n",
      "\n",
      "Warnings:\n",
      "[1] Standard Errors assume that the covariance matrix of the errors is correctly specified.\n"
     ]
    }
   ],
   "source": [
    "# PCA한 Garage OLS\n",
    "model_num = sm.OLS.from_formula(\"SalePrice ~ scale(Garage)\", data=df_raw)\n",
    "result_num = model_num.fit()\n",
    "print(result_num.summary())\n"
   ]
  },
  {
   "cell_type": "code",
   "execution_count": 25,
   "metadata": {
    "collapsed": true
   },
   "outputs": [
    {
     "name": "stdout",
     "output_type": "stream",
     "text": [
      "                            OLS Regression Results                            \n",
      "==============================================================================\n",
      "Dep. Variable:              SalePrice   R-squared:                       0.475\n",
      "Model:                            OLS   Adj. R-squared:                  0.474\n",
      "Method:                 Least Squares   F-statistic:                     657.8\n",
      "Date:                Tue, 13 Mar 2018   Prob (F-statistic):          2.99e-204\n",
      "Time:                        19:48:14   Log-Likelihood:                -261.77\n",
      "No. Observations:                1459   AIC:                             529.5\n",
      "Df Residuals:                    1456   BIC:                             545.4\n",
      "Df Model:                           2                                         \n",
      "Covariance Type:            nonrobust                                         \n",
      "=====================================================================================\n",
      "                        coef    std err          t      P>|t|      [0.025      0.975]\n",
      "-------------------------------------------------------------------------------------\n",
      "Intercept            12.0240      0.008   1584.710      0.000      12.009      12.039\n",
      "scale(GarageArea)     0.0907      0.016      5.618      0.000       0.059       0.122\n",
      "scale(GarageCars)     0.1918      0.016     11.886      0.000       0.160       0.224\n",
      "==============================================================================\n",
      "Omnibus:                       79.517   Durbin-Watson:                   1.996\n",
      "Prob(Omnibus):                  0.000   Jarque-Bera (JB):              170.974\n",
      "Skew:                          -0.345   Prob(JB):                     7.47e-38\n",
      "Kurtosis:                       4.528   Cond. No.                         4.00\n",
      "==============================================================================\n",
      "\n",
      "Warnings:\n",
      "[1] Standard Errors assume that the covariance matrix of the errors is correctly specified.\n"
     ]
    }
   ],
   "source": [
    "# 원래 GarageArea과 GarageCars OLS\n",
    "model_num = sm.OLS.from_formula(\"SalePrice ~ scale(GarageArea) +scale(GarageCars)\", data=df_raw)\n",
    "result_num = model_num.fit()\n",
    "print(result_num.summary())\n"
   ]
  },
  {
   "cell_type": "code",
   "execution_count": 26,
   "metadata": {
    "scrolled": true
   },
   "outputs": [
    {
     "data": {
      "image/png": "[encoded data removed]",
      "text/plain": [
       "<matplotlib.figure.Figure at 0x10c801c88>"
      ]
     },
     "metadata": {},
     "output_type": "display_data"
    }
   ],
   "source": [
    "#PCA 판단\n",
    "plt.scatter(df_raw['YearBuilt'], df_raw['YearRemodAdd'], s=10)\n",
    "plt.title(\"original data\")\n",
    "plt.show()"
   ]
  },
  {
   "cell_type": "code",
   "execution_count": 27,
   "metadata": {},
   "outputs": [],
   "source": [
    "# 지어진 년도와 리모델링 년도 리모델링이 없으면 두 변수가 같다. PCA는 의미 없을 듯 하므로 YearRemodAdd만 쓰는게 좋을 것같다."
   ]
  },
  {
   "cell_type": "code",
   "execution_count": 28,
   "metadata": {},
   "outputs": [
    {
     "data": {
      "image/png": "[encoded data removed]",
      "text/plain": [
       "<matplotlib.figure.Figure at 0x10b63aa58>"
      ]
     },
     "metadata": {},
     "output_type": "display_data"
    }
   ],
   "source": [
    "#PCA 판단\n",
    "plt.scatter(df_raw['TotalBsmtSF'], df_raw['BsmtFinSF1'], s=10)\n",
    "plt.title(\"original data\")\n",
    "plt.show()"
   ]
  },
  {
   "cell_type": "code",
   "execution_count": 29,
   "metadata": {
    "scrolled": true
   },
   "outputs": [
    {
     "data": {
      "image/png": "[encoded data removed]",
      "text/plain": [
       "<matplotlib.figure.Figure at 0x10c87c6a0>"
      ]
     },
     "metadata": {},
     "output_type": "display_data"
    }
   ],
   "source": [
    "# PCA\n",
    "X = pd.DataFrame()\n",
    "X[0] = df_raw['TotalBsmtSF']\n",
    "X[1] = df_raw['BsmtFinSF1']\n",
    "from sklearn.decomposition import PCA\n",
    "pca = PCA(n_components=2)\n",
    "pca.fit(X)\n",
    "Z = pca.transform(X)\n",
    "w, V = np.linalg.eig(pca.get_covariance())\n",
    "V.T.dot(X.T).T\n",
    "plt.scatter(Z[:,0], np.zeros_like(Z[:,1]), c='g', s=10)\n",
    "plt.title(\"transformed and truncated data\")\n",
    "plt.show()\n",
    "df_raw['TotalBsmt'] = Z[:,0]"
   ]
  },
  {
   "cell_type": "code",
   "execution_count": 30,
   "metadata": {
    "scrolled": false
   },
   "outputs": [
    {
     "data": {
      "image/png": "[encoded data removed]",
      "text/plain": [
       "<matplotlib.figure.Figure at 0x10c79f400>"
      ]
     },
     "metadata": {},
     "output_type": "display_data"
    }
   ],
   "source": [
    "#PCA 후\n",
    "plt.scatter(df_raw['TotalBsmt'], df_raw['SalePrice'], s=10)\n",
    "plt.title(\"TotalBsmtPCA data\")\n",
    "plt.show()"
   ]
  },
  {
   "cell_type": "code",
   "execution_count": 31,
   "metadata": {},
   "outputs": [
    {
     "name": "stdout",
     "output_type": "stream",
     "text": [
      "                            OLS Regression Results                            \n",
      "==============================================================================\n",
      "Dep. Variable:              SalePrice   R-squared:                       0.823\n",
      "Model:                            OLS   Adj. R-squared:                  0.822\n",
      "Method:                 Least Squares   F-statistic:                     964.8\n",
      "Date:                Tue, 13 Mar 2018   Prob (F-statistic):               0.00\n",
      "Time:                        19:49:26   Log-Likelihood:                 532.44\n",
      "No. Observations:                1459   AIC:                            -1049.\n",
      "Df Residuals:                    1451   BIC:                            -1007.\n",
      "Df Model:                           7                                         \n",
      "Covariance Type:            nonrobust                                         \n",
      "=======================================================================================\n",
      "                          coef    std err          t      P>|t|      [0.025      0.975]\n",
      "---------------------------------------------------------------------------------------\n",
      "Intercept              12.0240      0.004   2726.537      0.000      12.015      12.033\n",
      "scale(OverallQual)      0.1406      0.007     20.110      0.000       0.127       0.154\n",
      "scale(GrLivArea)        0.0986      0.006     15.960      0.000       0.086       0.111\n",
      "scale(GarageArea)       0.0628      0.006     11.035      0.000       0.052       0.074\n",
      "scale(TotalBsmt)        0.0631      0.006      9.754      0.000       0.050       0.076\n",
      "scale(n1stFlrSF)        0.0032      0.007      0.437      0.662      -0.011       0.017\n",
      "scale(YearRemodAdd)     0.0715      0.005     13.376      0.000       0.061       0.082\n",
      "scale(FireplaceQu)      0.0484      0.005      9.111      0.000       0.038       0.059\n",
      "==============================================================================\n",
      "Omnibus:                     1211.784   Durbin-Watson:                   1.963\n",
      "Prob(Omnibus):                  0.000   Jarque-Bera (JB):            91500.176\n",
      "Skew:                          -3.355   Prob(JB):                         0.00\n",
      "Kurtosis:                      41.212   Cond. No.                         3.98\n",
      "==============================================================================\n",
      "\n",
      "Warnings:\n",
      "[1] Standard Errors assume that the covariance matrix of the errors is correctly specified.\n"
     ]
    }
   ],
   "source": [
    "# PCA한 Garage 추가한 OLS\n",
    "model_num = sm.OLS.from_formula(\"SalePrice ~ scale(OverallQual) + scale(GrLivArea) + scale(GarageArea) + scale(TotalBsmt) + scale(n1stFlrSF) + scale(YearRemodAdd) + scale(FireplaceQu)\", data=df_raw)\n",
    "result_num = model_num.fit()\n",
    "print(result_num.summary())\n"
   ]
  },
  {
   "cell_type": "code",
   "execution_count": 46,
   "metadata": {},
   "outputs": [
    {
     "name": "stdout",
     "output_type": "stream",
     "text": [
      "                            OLS Regression Results                            \n",
      "==============================================================================\n",
      "Dep. Variable:              SalePrice   R-squared:                       0.318\n",
      "Model:                            OLS   Adj. R-squared:                  0.318\n",
      "Method:                 Least Squares   F-statistic:                     676.5\n",
      "Date:                Tue, 13 Mar 2018   Prob (F-statistic):          1.03e-122\n",
      "Time:                        19:40:51   Log-Likelihood:                -18162.\n",
      "No. Observations:                1452   AIC:                         3.633e+04\n",
      "Df Residuals:                    1450   BIC:                         3.634e+04\n",
      "Df Model:                           1                                         \n",
      "Covariance Type:            nonrobust                                         \n",
      "====================================================================================\n",
      "                       coef    std err          t      P>|t|      [0.025      0.975]\n",
      "------------------------------------------------------------------------------------\n",
      "Intercept         1.806e+05   1718.765    105.084      0.000    1.77e+05    1.84e+05\n",
      "scale(TotalBsmt)   4.47e+04   1718.765     26.009      0.000    4.13e+04    4.81e+04\n",
      "==============================================================================\n",
      "Omnibus:                      398.000   Durbin-Watson:                   1.968\n",
      "Prob(Omnibus):                  0.000   Jarque-Bera (JB):             5771.964\n",
      "Skew:                           0.865   Prob(JB):                         0.00\n",
      "Kurtosis:                      12.613   Cond. No.                         1.00\n",
      "==============================================================================\n",
      "\n",
      "Warnings:\n",
      "[1] Standard Errors assume that the covariance matrix of the errors is correctly specified.\n"
     ]
    }
   ],
   "source": [
    "# PCA한 Garage 추가한 OLS\n",
    "model_num = sm.OLS.from_formula(\"SalePrice ~ scale(TotalBsmt)\", data=df_raw)\n",
    "result_num = model_num.fit()\n",
    "print(result_num.summary())\n"
   ]
  },
  {
   "cell_type": "code",
   "execution_count": 32,
   "metadata": {},
   "outputs": [
    {
     "name": "stdout",
     "output_type": "stream",
     "text": [
      "                            OLS Regression Results                            \n",
      "==============================================================================\n",
      "Dep. Variable:              SalePrice   R-squared:                       0.379\n",
      "Model:                            OLS   Adj. R-squared:                  0.378\n",
      "Method:                 Least Squares   F-statistic:                     444.5\n",
      "Date:                Tue, 13 Mar 2018   Prob (F-statistic):          2.09e-151\n",
      "Time:                        19:50:42   Log-Likelihood:                -383.69\n",
      "No. Observations:                1459   AIC:                             773.4\n",
      "Df Residuals:                    1456   BIC:                             789.2\n",
      "Df Model:                           2                                         \n",
      "Covariance Type:            nonrobust                                         \n",
      "======================================================================================\n",
      "                         coef    std err          t      P>|t|      [0.025      0.975]\n",
      "--------------------------------------------------------------------------------------\n",
      "Intercept             12.0240      0.008   1457.660      0.000      12.008      12.040\n",
      "scale(TotalBsmtSF)     0.2297      0.010     23.753      0.000       0.211       0.249\n",
      "scale(BsmtFinSF1)      0.0288      0.010      2.973      0.003       0.010       0.048\n",
      "==============================================================================\n",
      "Omnibus:                      300.777   Durbin-Watson:                   1.899\n",
      "Prob(Omnibus):                  0.000   Jarque-Bera (JB):             2393.950\n",
      "Skew:                          -0.731   Prob(JB):                         0.00\n",
      "Kurtosis:                       9.103   Cond. No.                         1.78\n",
      "==============================================================================\n",
      "\n",
      "Warnings:\n",
      "[1] Standard Errors assume that the covariance matrix of the errors is correctly specified.\n"
     ]
    }
   ],
   "source": [
    "# TotalBsmtSF BsmtFinSF1 OLS\n",
    "# PCA한 Garage 추가한 OLS\n",
    "model_num = sm.OLS.from_formula(\"SalePrice ~ scale(TotalBsmtSF) + scale(BsmtFinSF1)\", data=df_raw)\n",
    "result_num = model_num.fit()\n",
    "print(result_num.summary())\n"
   ]
  },
  {
   "cell_type": "code",
   "execution_count": null,
   "metadata": {},
   "outputs": [],
   "source": []
  }
 ],
 "metadata": {
  "kernelspec": {
   "display_name": "Python 3",
   "language": "python",
   "name": "python3"
  },
  "language_info": {
   "codemirror_mode": {
    "name": "ipython",
    "version": 3
   },
   "file_extension": ".py",
   "mimetype": "text/x-python",
   "name": "python",
   "nbconvert_exporter": "python",
   "pygments_lexer": "ipython3",
   "version": "3.6.4"
  }
 },
 "nbformat": 4,
 "nbformat_minor": 2
}
