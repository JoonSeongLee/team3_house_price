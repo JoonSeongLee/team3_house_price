{
 "cells": [
  {
   "cell_type": "code",
   "execution_count": 1,
   "metadata": {},
   "outputs": [
    {
     "name": "stderr",
     "output_type": "stream",
     "text": [
      "/usr/local/lib/python3.6/site-packages/statsmodels/compat/pandas.py:56: FutureWarning: The pandas.core.datetools module is deprecated and will be removed in a future version. Please use the pandas.tseries module instead.\n",
      "  from pandas.core import datetools\n"
     ]
    }
   ],
   "source": [
    "import statsmodels.api as sm\n",
    "import warnings\n",
    "warnings.filterwarnings('ignore')\n",
    "df = pd.read_csv('../train.csv')\n",
    "df_raw = df.copy()\n",
    "df_raw.head()\n",
    "## value가 문자 값이지만 등급을 나타내는 feature들 (nan값은 대상이 없음을 의미한다.)\n",
    "tonum = {\"ExterQual\": {'Ex' : 5, 'Gd' : 4, 'TA' : 3, 'Fa' : 2, 'Po' : 1, np.nan : 0},\n",
    "         \"ExterCond\": {'Ex' : 5, 'Gd' : 4, 'TA' : 3, 'Fa' : 2, 'Po' : 1, np.nan : 0},\n",
    "         \"BsmtQual\": {'Ex' : 5, 'Gd' : 4, 'TA' : 3, 'Fa' : 2, 'Po' : 1, np.nan : 0},\n",
    "         \"BsmtCond\": {'Ex' : 5, 'Gd' : 4, 'TA' : 3, 'Fa' : 2, 'Po' : 1, np.nan : 0},\n",
    "         \"HeatingQC\": {'Ex' : 5, 'Gd' : 4, 'TA' : 3, 'Fa' : 2, 'Po' : 1, np.nan : 0},\n",
    "         \"KitchenQual\": {'Ex' : 5, 'Gd' : 4, 'TA' : 3, 'Fa' : 2, 'Po' : 1, np.nan : 0},\n",
    "         \"FireplaceQu\": {'Ex' : 5, 'Gd' : 4, 'TA' : 3, 'Fa' : 2, 'Po' : 1, np.nan : 0},\n",
    "         \"GarageQual\": {'Ex' : 5, 'Gd' : 4, 'TA' : 3, 'Fa' : 2, 'Po' : 1, np.nan : 0},\n",
    "         \"GarageCond\": {'Ex' : 5, 'Gd' : 4, 'TA' : 3, 'Fa' : 2, 'Po' : 1, np.nan : 0},\n",
    "         \"PoolQC\": {'Ex' : 5, 'Gd' : 4, 'TA' : 3, 'Fa' : 2, 'Po' : 1, np.nan : 0},\n",
    "         \"BsmtFinType1\" : {'GLQ' : 6, 'ALQ' : 5, 'BLQ': 4,'Rec' : 3,'LwQ' : 2, 'Unf' : 1, np.nan : 0},\n",
    "         \"BsmtFinType2\" : {'GLQ' : 6, 'ALQ' : 5, 'BLQ': 4,'Rec' : 3,'LwQ' : 2, 'Unf' : 1, np.nan : 0},\n",
    "           }\n",
    "df_raw = df_raw.replace(tonum)\n",
    "## 그 외 nan값이 모르는 값이 아닌 대상이 없음을 의미 하는 feature들\n",
    "fill_na_ls = [['GarageType',# NA : 차고 없음 (category)\n",
    " 'MiscFeature',             # NA : 없음  (category) 기타 범주(엘레베이터, 테이스 코트) 기타 범주\n",
    " 'Fence',                   # NA : 울타리 없음 (category)\n",
    " 'GarageFinish',            # NA : 차고 없음 (category)\n",
    " 'BsmtExposure',            # NA : 지하실 없음\n",
    " 'Alley',                   # NA : No alley access\n",
    "]]\n",
    "\n",
    "for name in fill_na_ls:\n",
    "    df_raw[name] = df_raw[name].fillna('N')\n",
    "\n",
    "\n",
    "\n",
    "for name in fill_na_ls:\n",
    "    df_raw[name] = df_raw[name].fillna('N')\n",
    "# 그래도 남은 Null값들\n",
    "total = df_raw.isnull().sum().sort_values(ascending=False)\n",
    "percent = (df_raw.isnull().sum()/df_raw.isnull().count()).sort_values(ascending=False)\n",
    "missing_data = pd.concat([total, percent], axis=1, keys=['Total', 'Percent'])\n",
    "pd.set_option(\"display.max_rows\",None)\n",
    "missing_data.head()\n",
    "# Null 값 drop\n",
    "pd.set_option(\"display.max_columns\",None)\n",
    "df_raw = df_raw.drop((missing_data[missing_data['Total'] > 1]).index,1)\n",
    "df_raw = df_raw.drop(df_raw.loc[df_raw['Electrical'].isnull()].index)\n",
    "# y값에 로그\n",
    "from scipy import stats\n",
    "df_raw['SalePrice'] = np.log(df_raw['SalePrice'])\n",
    "# 1층과 2층 넓이 합침\n",
    "df_raw['TotFlrSF'] = df_raw['1stFlrSF'] + df_raw['2ndFlrSF']"
   ]
  },
  {
   "cell_type": "code",
   "execution_count": 2,
   "metadata": {},
   "outputs": [
    {
     "name": "stdout",
     "output_type": "stream",
     "text": [
      "                            OLS Regression Results                            \n",
      "==============================================================================\n",
      "Dep. Variable:              SalePrice   R-squared:                       0.850\n",
      "Model:                            OLS   Adj. R-squared:                  0.849\n",
      "Method:                 Least Squares   F-statistic:                     685.0\n",
      "Date:                Tue, 13 Mar 2018   Prob (F-statistic):               0.00\n",
      "Time:                        21:15:15   Log-Likelihood:                 654.52\n",
      "No. Observations:                1459   AIC:                            -1283.\n",
      "Df Residuals:                    1446   BIC:                            -1214.\n",
      "Df Model:                          12                                         \n",
      "Covariance Type:            nonrobust                                         \n",
      "============================================================================================\n",
      "                               coef    std err          t      P>|t|      [0.025      0.975]\n",
      "--------------------------------------------------------------------------------------------\n",
      "Intercept                   12.0240      0.004   2959.382      0.000      12.016      12.032\n",
      "scale(OverallQual)           0.1014      0.007     13.790      0.000       0.087       0.116\n",
      "scale(I(GrLivArea))         -0.1752      0.062     -2.816      0.005      -0.297      -0.053\n",
      "scale(I(GrLivArea ** 2))     0.4264      0.070      6.074      0.000       0.289       0.564\n",
      "scale(I(GrLivArea ** 3))    -0.3139      0.036     -8.690      0.000      -0.385      -0.243\n",
      "scale(KitchenQual)           0.0278      0.006      4.468      0.000       0.016       0.040\n",
      "scale(GarageCars)            0.0593      0.005     10.960      0.000       0.049       0.070\n",
      "scale(TotalBsmtSF)           0.0763      0.006     13.326      0.000       0.065       0.087\n",
      "scale(TotFlrSF)              0.1293      0.045      2.868      0.004       0.041       0.218\n",
      "scale(BsmtQual)              0.0194      0.006      3.275      0.001       0.008       0.031\n",
      "scale(FireplaceQu)           0.0341      0.005      6.898      0.000       0.024       0.044\n",
      "scale(YearRemodAdd)          0.0424      0.006      7.220      0.000       0.031       0.054\n",
      "scale(HeatingQC)             0.0206      0.005      4.064      0.000       0.011       0.031\n",
      "==============================================================================\n",
      "Omnibus:                      307.817   Durbin-Watson:                   1.941\n",
      "Prob(Omnibus):                  0.000   Jarque-Bera (JB):             1230.816\n",
      "Skew:                          -0.966   Prob(JB):                    5.39e-268\n",
      "Kurtosis:                       7.064   Cond. No.                         57.5\n",
      "==============================================================================\n",
      "\n",
      "Warnings:\n",
      "[1] Standard Errors assume that the covariance matrix of the errors is correctly specified.\n"
     ]
    }
   ],
   "source": [
    "df_all = df_raw.copy()#BsmtQual 지하실 높이 등급   TotalBsmtSF 지하실 면적  FireplaceQu 벽난로 품질(등급)   HeatingQC  난방 품질(등급)\n",
    "model_all = sm.OLS.from_formula(\"SalePrice ~ scale(OverallQual) + scale(I(GrLivArea))+ scale(I(GrLivArea ** 2))+ scale(I(GrLivArea ** 3)) + scale(KitchenQual) + scale(GarageCars) + scale(TotalBsmtSF) + scale(TotFlrSF) + scale(BsmtQual) + scale(FireplaceQu) + scale(YearRemodAdd) + scale(HeatingQC)\", data=df_all) \n",
    " \n",
    "result_all = model_all.fit()\n",
    "print(result_all.summary())"
   ]
  },
  {
   "cell_type": "code",
   "execution_count": 3,
   "metadata": {},
   "outputs": [
    {
     "name": "stdout",
     "output_type": "stream",
     "text": [
      "                            OLS Regression Results                            \n",
      "==============================================================================\n",
      "Dep. Variable:              SalePrice   R-squared:                       0.895\n",
      "Model:                            OLS   Adj. R-squared:                  0.894\n",
      "Method:                 Least Squares   F-statistic:                     963.9\n",
      "Date:                Tue, 13 Mar 2018   Prob (F-statistic):               0.00\n",
      "Time:                        21:15:16   Log-Likelihood:                 979.60\n",
      "No. Observations:                1377   AIC:                            -1933.\n",
      "Df Residuals:                    1364   BIC:                            -1865.\n",
      "Df Model:                          12                                         \n",
      "Covariance Type:            nonrobust                                         \n",
      "============================================================================================\n",
      "                               coef    std err          t      P>|t|      [0.025      0.975]\n",
      "--------------------------------------------------------------------------------------------\n",
      "Intercept                   12.0386      0.003   3742.630      0.000      12.032      12.045\n",
      "scale(OverallQual)           0.0868      0.006     15.025      0.000       0.075       0.098\n",
      "scale(I(GrLivArea))         -0.1830      0.072     -2.535      0.011      -0.325      -0.041\n",
      "scale(I(GrLivArea ** 2))     0.2799      0.125      2.245      0.025       0.035       0.524\n",
      "scale(I(GrLivArea ** 3))    -0.1545      0.066     -2.345      0.019      -0.284      -0.025\n",
      "scale(KitchenQual)           0.0234      0.005      4.705      0.000       0.014       0.033\n",
      "scale(GarageCars)            0.0557      0.004     12.962      0.000       0.047       0.064\n",
      "scale(TotalBsmtSF)           0.0776      0.004     18.255      0.000       0.069       0.086\n",
      "scale(TotFlrSF)              0.1699      0.040      4.209      0.000       0.091       0.249\n",
      "scale(BsmtQual)              0.0216      0.005      4.626      0.000       0.012       0.031\n",
      "scale(FireplaceQu)           0.0284      0.004      7.268      0.000       0.021       0.036\n",
      "scale(YearRemodAdd)          0.0405      0.005      8.612      0.000       0.031       0.050\n",
      "scale(HeatingQC)             0.0132      0.004      3.310      0.001       0.005       0.021\n",
      "==============================================================================\n",
      "Omnibus:                       29.342   Durbin-Watson:                   1.934\n",
      "Prob(Omnibus):                  0.000   Jarque-Bera (JB):               31.810\n",
      "Skew:                          -0.324   Prob(JB):                     1.24e-07\n",
      "Kurtosis:                       3.366   Cond. No.                         120.\n",
      "==============================================================================\n",
      "\n",
      "Warnings:\n",
      "[1] Standard Errors assume that the covariance matrix of the errors is correctly specified.\n"
     ]
    }
   ],
   "source": [
    "# 아웃라이어 제거\n",
    "influence = result_all.get_influence()\n",
    "cooks_d2, pvals = influence.cooks_distance\n",
    "fox_cr = 4 / (1460 - 1 - 13)\n",
    "idx = np.where(cooks_d2 > fox_cr)[0]\n",
    "df_fin = df_all.copy()\n",
    "df_fin = df_fin.drop(df_fin.index[idx])\n",
    "\n",
    "df_all = df_fin.copy()#BsmtQual 지하실 높이 등급   TotalBsmtSF 지하실 면적  FireplaceQu 벽난로 품질(등급)   HeatingQC  난방 품질(등급)\n",
    "model_all = sm.OLS.from_formula(\"SalePrice ~ scale(OverallQual) + scale(I(GrLivArea))+ scale(I(GrLivArea ** 2))+ scale(I(GrLivArea ** 3)) + scale(KitchenQual) + scale(GarageCars) + scale(TotalBsmtSF) + scale(TotFlrSF) + scale(BsmtQual) + scale(FireplaceQu) + scale(YearRemodAdd) + scale(HeatingQC)\", data=df_all) \n",
    " \n",
    "result_all = model_all.fit()\n",
    "print(result_all.summary())"
   ]
  },
  {
   "cell_type": "code",
   "execution_count": 6,
   "metadata": {},
   "outputs": [],
   "source": [
    "# 제출 결과 만들기\n",
    "\n",
    "# test데이터 전처리\n",
    "df_test = pd.read_csv('../test.csv')\n",
    "df_test = df_test.replace(tonum)\n",
    "for name in fill_na_ls:\n",
    "    df_test[name] = df_test[name].fillna('N')\n",
    "    \n",
    "df_test['TotFlrSF'] = df_test['1stFlrSF'] + df_test['2ndFlrSF']\n",
    "df_test = df_test.fillna(method='ffill')\n",
    "\n",
    "\n",
    "pre = pd.DataFrame(result_all.predict(df_test))\n",
    "pre['Id']=pre.index\n",
    "pre = pre.rename(columns={0: 'SalePrice'})\n",
    "pre['Id'] = range(1461,2920)\n",
    "pre['SalePrice'] = pre['SalePrice'].apply(lambda x : np.exp(x))\n",
    "pre.to_csv('submission.csv', index=False)"
   ]
  },
  {
   "cell_type": "code",
   "execution_count": 23,
   "metadata": {},
   "outputs": [
    {
     "name": "stdout",
     "output_type": "stream",
     "text": [
      "[Original LR]\n",
      "score :  [0.90552329 0.85059752 0.91287087 0.88596957 0.89129777 0.88675355\n",
      " 0.87597127 0.89641205 0.90025294 0.89962174] \n",
      " mean :  0.8912620794998739 \n",
      "\n",
      "[Ridge]\n",
      "score :  [0.92558101 0.86570317 0.8684949  0.92088321 0.881722   0.89216156\n",
      " 0.87704955 0.89612485 0.88783487 0.89526406] \n",
      " mean :  0.8897030373801875 \n",
      "\n",
      "\n",
      "[Lasso]\n",
      "score :  [-0.00057038 -0.00410214 -0.02210123 -0.00528488 -0.00057459 -0.01471654\n",
      " -0.01469669 -0.01841302 -0.00023733 -0.0257072 ] \n",
      " mean :  -0.004683419807497047 \n",
      "\n",
      "\n",
      "[Elastic-net]\n",
      "score :  [-0.01824085 -0.00068914 -0.01222933 -0.01049015 -0.00038456 -0.00368703\n",
      " -0.00437943 -0.00110213 -0.00022824 -0.0132855 ] \n",
      " mean :  -0.011065697854732392 \n",
      "\n"
     ]
    }
   ],
   "source": [
    "from sklearn.datasets import make_regression\n",
    "from sklearn.metrics import mean_squared_error\n",
    "from patsy import dmatrices\n",
    "from sklearn.model_selection import cross_val_score\n",
    "\n",
    "from sklearn.linear_model import LinearRegression, Ridge, Lasso, ElasticNet\n",
    "\n",
    "y, X = dmatrices(\"SalePrice ~ scale(OverallQual) + scale(I(GrLivArea))+ scale(I(GrLivArea ** 2))+ scale(I(GrLivArea ** 3)) + scale(KitchenQual) + scale(GarageCars) + scale(TotalBsmtSF) + scale(TotFlrSF) + scale(BsmtQual) + scale(FireplaceQu) + scale(YearRemodAdd) + scale(HeatingQC)\", df_all, return_type = 'dataframe' )\n",
    "\n",
    "#poly = PolynomialFeatures(1)\n",
    "model1_LR = LinearRegression().fit(X, y)\n",
    "model1_ridge = Ridge().fit(X, y)\n",
    "model1_lasso = Lasso().fit(X, y)\n",
    "model1_EN = ElasticNet().fit(X, y)\n",
    "                \n",
    "cv = KFold(10, shuffle=True)\n",
    "#cross_val_score(model1_LR, X, y, scoring=\"r2\", cv=cv)\n",
    "print('[Original LR]')\n",
    "print('score : ', cross_val_score(model1_LR, X, y, scoring=\"r2\", cv=cv),'\\n',\n",
    "      'mean : ', np.mean(cross_val_score(model1_LR, X, y, scoring=\"r2\", cv=cv)),'\\n')\n",
    "\n",
    "print('[Ridge]')\n",
    "print('score : ', cross_val_score(model1_ridge, X, y, scoring=\"r2\", cv=cv),'\\n',\n",
    "      'mean : ', np.mean(cross_val_score(model1_ridge, X, y, scoring=\"r2\", cv=cv)),'\\n')\n",
    "      #'std : ', np.std(cross_val_score(model1_ridge, X, y, scoring=\"r2\", cv=cv)))\n",
    "\n",
    "print('\\n[Lasso]')\n",
    "print('score : ', cross_val_score(model1_lasso, X, y, scoring=\"r2\", cv=cv),'\\n',\n",
    "      'mean : ', np.mean(cross_val_score(model1_lasso, X, y, scoring=\"r2\", cv=cv)),'\\n')\n",
    "      #'std : ', np.std(cross_val_score(model1_lasso, X, y, scoring=\"r2\", cv=cv)))\n",
    "\n",
    "print('\\n[Elastic-net]')\n",
    "print('score : ', cross_val_score(model1_EN, X, y, scoring=\"r2\", cv=cv),'\\n',\n",
    "      'mean : ', np.mean(cross_val_score(model1_EN, X, y, scoring=\"r2\", cv=cv)),'\\n')\n",
    "#      'std : ', np.std(cross_val_score(model1_EN, X, y, scoring=\"r2\", cv=cv)))"
   ]
  },
  {
   "cell_type": "code",
   "execution_count": 22,
   "metadata": {},
   "outputs": [
    {
     "data": {
      "text/plain": [
       "<statsmodels.regression.linear_model.RegressionResultsWrapper at 0x10ed085c0>"
      ]
     },
     "execution_count": 22,
     "metadata": {},
     "output_type": "execute_result"
    }
   ],
   "source": [
    "result_all."
   ]
  },
  {
   "cell_type": "code",
   "execution_count": null,
   "metadata": {},
   "outputs": [],
   "source": [
    "from patsy import dmatrices\n",
    "from sklearn.linear_model import LinearRegression\n",
    "from sklearn.model_selection import cross_val_score\n",
    "cv = KFold(10, shuffle=True)\n",
    "y, X = dmatrices(\"Y ~ X\", df, return_type = 'dataframe' )\n",
    "model = LinearRegression().fit(X, y)\n",
    "cross_val_score(model, X, y, scoring=\"r2\", cv=cv)\n"
   ]
  }
 ],
 "metadata": {
  "kernelspec": {
   "display_name": "Python 3",
   "language": "python",
   "name": "python3"
  },
  "language_info": {
   "codemirror_mode": {
    "name": "ipython",
    "version": 3
   },
   "file_extension": ".py",
   "mimetype": "text/x-python",
   "name": "python",
   "nbconvert_exporter": "python",
   "pygments_lexer": "ipython3",
   "version": "3.6.4"
  }
 },
 "nbformat": 4,
 "nbformat_minor": 2
}
