{
 "cells": [
  {
   "cell_type": "code",
   "execution_count": 7,
   "metadata": {},
   "outputs": [],
   "source": [
    "# 데이터 전처리\n",
    "\n",
    "df = pd.read_csv('../train.csv')\n",
    "df_raw = df.copy()\n",
    "\n",
    "# Ex~Po의 등급을 가진 변수들은 모두 숫자로 바꿔줌. NA값은 무조건 0으로 만들어줌\n",
    "\n",
    "cat_num_ls=['ExterQual', 'ExterCond', 'BsmtQual', 'BsmtCond', 'HeatingQC', 'KitchenQual', 'FireplaceQu', 'GarageQual', 'GarageCond', 'PoolQC', 'SalePrice']\n",
    "\n",
    "tonum = {\"ExterQual\": {'Ex' : 5, 'Gd' : 4, 'TA' : 3, 'Fa' : 2, 'Po' : 1, np.nan : 0},\n",
    "         \"ExterCond\": {'Ex' : 5, 'Gd' : 4, 'TA' : 3, 'Fa' : 2, 'Po' : 1, np.nan : 0},\n",
    "         \"BsmtQual\": {'Ex' : 5, 'Gd' : 4, 'TA' : 3, 'Fa' : 2, 'Po' : 1, np.nan : 0},\n",
    "         \"BsmtCond\": {'Ex' : 5, 'Gd' : 4, 'TA' : 3, 'Fa' : 2, 'Po' : 1, np.nan : 0},\n",
    "         \"HeatingQC\": {'Ex' : 5, 'Gd' : 4, 'TA' : 3, 'Fa' : 2, 'Po' : 1, np.nan : 0},\n",
    "         \"KitchenQual\": {'Ex' : 5, 'Gd' : 4, 'TA' : 3, 'Fa' : 2, 'Po' : 1, np.nan : 0},\n",
    "         \"FireplaceQu\": {'Ex' : 5, 'Gd' : 4, 'TA' : 3, 'Fa' : 2, 'Po' : 1, np.nan : 0},\n",
    "         \"GarageQual\": {'Ex' : 5, 'Gd' : 4, 'TA' : 3, 'Fa' : 2, 'Po' : 1, np.nan : 0},\n",
    "         \"GarageCond\": {'Ex' : 5, 'Gd' : 4, 'TA' : 3, 'Fa' : 2, 'Po' : 1, np.nan : 0},\n",
    "         \"PoolQC\": {'Ex' : 5, 'Gd' : 4, 'TA' : 3, 'Fa' : 2, 'Po' : 1, np.nan : 0},\n",
    "         \"BsmtFinType1\" : {'GLQ' : 6, 'ALQ' : 5, 'BLQ': 4,'Rec' : 3,'LwQ' : 2, 'Unf' : 1, np.nan : 0},\n",
    "         \"BsmtFinType2\" : {'GLQ' : 6, 'ALQ' : 5, 'BLQ': 4,'Rec' : 3,'LwQ' : 2, 'Unf' : 1, np.nan : 0},\n",
    "        }\n",
    "\n",
    "df_raw= df_raw.replace(tonum)\n",
    "\n",
    "# NA 값 처리\n",
    "\n",
    "def nan_check(df_raw):\n",
    "    null_check = df_raw.isnull().sum()\n",
    "    null_count = pd.DataFrame({'column' : null_check.index, 'NaN' : null_check.values})\n",
    "    # None 값이 있는 column만 가져옴.\n",
    "    null_count = null_count.query('NaN > 0')\n",
    "    return(null_count)\n",
    "\n",
    "def nan_check2(df_raw):\n",
    "    null_check = df_raw.isnull().sum()\n",
    "    null_count = pd.DataFrame({'column' : null_check.index, 'NaN' : null_check.values})\n",
    "    # None 값이 없는 column만 가져옴.\n",
    "    null_count = null_count.query('NaN == 0')\n",
    "    return(null_count)\n",
    "\n",
    "# nan값이 있는 컬럼 이름을 가진 리스트 (13개)\n",
    "nan_ls = list(set(nan_check(df_raw)['column']) - set(nan_check2(df_raw)['column']))\n",
    "nan_ls\n",
    "# description 직접 보면서 결측값이 뭔지 확인\n",
    "\n",
    "# NA값이 판단된 카테고리 값에 대해 NA에 N이라는 값을 부여 (=N이라는 클래스를 부여)\n",
    "\n",
    "fill_na_ls = [['GarageType',\n",
    " 'MiscFeature',\n",
    " 'BsmtFinType1',\n",
    " 'Fence',\n",
    " 'GarageFinish',\n",
    " 'BsmtExposure',\n",
    " 'Alley',\n",
    " 'BsmtFinType2']\n",
    "]\n",
    "\n",
    "for name in fill_na_ls:\n",
    "    df_raw[name] = df_raw[name].fillna('N')\n",
    "\n",
    "# 원본 데이터 df\n",
    "# 전처리 마친 데이터 df_raw"
   ]
  },
  {
   "cell_type": "code",
   "execution_count": 8,
   "metadata": {},
   "outputs": [],
   "source": [
    "df_raw['TotFlrSF'] = df_raw['1stFlrSF'] + df_raw['2ndFlrSF']"
   ]
  },
  {
   "cell_type": "code",
   "execution_count": 56,
   "metadata": {
    "collapsed": true
   },
   "outputs": [
    {
     "name": "stdout",
     "output_type": "stream",
     "text": [
      "                            OLS Regression Results                            \n",
      "==============================================================================\n",
      "Dep. Variable:      np.log(SalePrice)   R-squared:                       0.840\n",
      "Model:                            OLS   Adj. R-squared:                  0.839\n",
      "Method:                 Least Squares   F-statistic:                     690.7\n",
      "Date:                Mon, 12 Mar 2018   Prob (F-statistic):               0.00\n",
      "Time:                        16:41:50   Log-Likelihood:                 606.05\n",
      "No. Observations:                1460   AIC:                            -1188.\n",
      "Df Residuals:                    1448   BIC:                            -1125.\n",
      "Df Model:                          11                                         \n",
      "Covariance Type:            nonrobust                                         \n",
      "=======================================================================================\n",
      "                          coef    std err          t      P>|t|      [0.025      0.975]\n",
      "---------------------------------------------------------------------------------------\n",
      "Intercept              12.0241      0.004   2863.834      0.000      12.016      12.032\n",
      "scale(OverallQual)      0.1017      0.008     13.266      0.000       0.087       0.117\n",
      "scale(KitchenQual)      0.0243      0.006      3.770      0.000       0.012       0.037\n",
      "scale(GarageCars)       0.0591      0.006     10.276      0.000       0.048       0.070\n",
      "scale(TotalBsmtSF)      0.0265      0.006      4.309      0.000       0.014       0.038\n",
      "scale(TotFlrSF)         0.1137      0.006     19.537      0.000       0.102       0.125\n",
      "scale(BsmtQual)         0.0168      0.006      2.676      0.008       0.004       0.029\n",
      "scale(YearBuilt)        0.0383      0.006      6.022      0.000       0.026       0.051\n",
      "scale(FireplaceQu)      0.0431      0.005      8.532      0.000       0.033       0.053\n",
      "scale(YearRemodAdd)     0.0323      0.006      5.166      0.000       0.020       0.045\n",
      "scale(HeatingQC)        0.0208      0.005      3.945      0.000       0.010       0.031\n",
      "scale(BsmtFinSF1)       0.0386      0.005      7.762      0.000       0.029       0.048\n",
      "==============================================================================\n",
      "Omnibus:                     1130.256   Durbin-Watson:                   1.988\n",
      "Prob(Omnibus):                  0.000   Jarque-Bera (JB):            67900.365\n",
      "Skew:                          -3.065   Prob(JB):                         0.00\n",
      "Kurtosis:                      35.842   Cond. No.                         4.76\n",
      "==============================================================================\n",
      "\n",
      "Warnings:\n",
      "[1] Standard Errors assume that the covariance matrix of the errors is correctly specified.\n"
     ]
    }
   ],
   "source": [
    "df_all = df_raw.copy()\n",
    "model_all = sm.OLS.from_formula(\"np.log(SalePrice) ~ scale(OverallQual) + scale(KitchenQual) + scale(GarageCars) + scale(TotalBsmtSF) + scale(TotFlrSF) + scale(BsmtQual) + scale(YearBuilt) + scale(FireplaceQu) + scale(YearRemodAdd) + scale(HeatingQC) + scale(BsmtFinSF1)\", data=df_all) #scale(MasVnrArea) + scale(GrLivArea) + scale(TotRmsAbvGrd) +\n",
    "\n",
    "result_all = model_all.fit()\n",
    "print(result_all.summary())"
   ]
  },
  {
   "cell_type": "code",
   "execution_count": 57,
   "metadata": {},
   "outputs": [],
   "source": [
    "# 제출 결과 만들기\n",
    "\n",
    "# test데이터 전처리\n",
    "df_test = pd.read_csv('../test.csv')\n",
    "df_test = df_test.replace(tonum)\n",
    "for name in fill_na_ls:\n",
    "    df_test[name] = df_test[name].fillna('N')\n",
    "    \n",
    "df_test['TotFlrSF'] = df_test['1stFlrSF'] + df_test['2ndFlrSF']\n",
    "df_test = df_test.fillna(method='ffill')\n",
    "\n",
    "\n",
    "pre = pd.DataFrame(result_all.predict(df_test))\n",
    "pre['Id']=pre.index\n",
    "pre = pre.rename(columns={0: 'SalePrice'})\n",
    "pre['Id'] = range(1461,2920)\n",
    "pre['SalePrice'] = pre['SalePrice'].apply(lambda x : np.exp(x))\n",
    "pre.to_csv('submission.csv', index=False)"
   ]
  },
  {
   "cell_type": "code",
   "execution_count": 58,
   "metadata": {},
   "outputs": [],
   "source": [
    "influence = result_all.get_influence()\n",
    "cooks_d2, pvals = influence.cooks_distance\n",
    "fox_cr = 4 / (1460 - 1 - 13)\n",
    "idx = np.where(cooks_d2 > fox_cr)[0]\n",
    "df_all2 = df_all.copy()\n",
    "df_all2 = df_all2.drop(df_all2.index[idx])"
   ]
  },
  {
   "cell_type": "code",
   "execution_count": 69,
   "metadata": {},
   "outputs": [
    {
     "name": "stdout",
     "output_type": "stream",
     "text": [
      "                            OLS Regression Results                            \n",
      "==============================================================================\n",
      "Dep. Variable:      np.log(SalePrice)   R-squared:                       0.917\n",
      "Model:                            OLS   Adj. R-squared:                  0.916\n",
      "Method:                 Least Squares   F-statistic:                     1092.\n",
      "Date:                Mon, 12 Mar 2018   Prob (F-statistic):               0.00\n",
      "Time:                        17:12:26   Log-Likelihood:                 1141.6\n",
      "No. Observations:                1395   AIC:                            -2253.\n",
      "Df Residuals:                    1380   BIC:                            -2175.\n",
      "Df Model:                          14                                         \n",
      "Covariance Type:            nonrobust                                         \n",
      "=======================================================================================\n",
      "                          coef    std err          t      P>|t|      [0.025      0.975]\n",
      "---------------------------------------------------------------------------------------\n",
      "Intercept              11.9726      0.054    220.826      0.000      11.866      12.079\n",
      "C(MSZoning)[T.FV]       0.0991      0.056      1.756      0.079      -0.012       0.210\n",
      "C(MSZoning)[T.RH]       0.0245      0.062      0.397      0.691      -0.097       0.146\n",
      "C(MSZoning)[T.RL]       0.0784      0.054      1.442      0.149      -0.028       0.185\n",
      "C(MSZoning)[T.RM]      -0.0191      0.055     -0.351      0.726      -0.126       0.088\n",
      "scale(OverallQual)      0.0937      0.005     18.162      0.000       0.084       0.104\n",
      "scale(KitchenQual)      0.0210      0.004      4.762      0.000       0.012       0.030\n",
      "scale(GarageCars)       0.0470      0.004     11.802      0.000       0.039       0.055\n",
      "scale(TotalBsmtSF)      0.0496      0.004     12.758      0.000       0.042       0.057\n",
      "scale(TotFlrSF)         0.1223      0.004     30.855      0.000       0.114       0.130\n",
      "scale(YearBuilt)        0.0211      0.005      4.629      0.000       0.012       0.030\n",
      "scale(FireplaceQu)      0.0293      0.004      8.352      0.000       0.022       0.036\n",
      "scale(YearRemodAdd)     0.0384      0.004      8.910      0.000       0.030       0.047\n",
      "scale(HeatingQC)        0.0164      0.004      4.571      0.000       0.009       0.024\n",
      "scale(BsmtFinSF1)       0.0474      0.003     14.440      0.000       0.041       0.054\n",
      "==============================================================================\n",
      "Omnibus:                       25.588   Durbin-Watson:                   1.892\n",
      "Prob(Omnibus):                  0.000   Jarque-Bera (JB):               29.718\n",
      "Skew:                          -0.265   Prob(JB):                     3.52e-07\n",
      "Kurtosis:                       3.479   Cond. No.                         91.8\n",
      "==============================================================================\n",
      "\n",
      "Warnings:\n",
      "[1] Standard Errors assume that the covariance matrix of the errors is correctly specified.\n"
     ]
    }
   ],
   "source": [
    "model_all2 = sm.OLS.from_formula(\"np.log(SalePrice) ~ C(MSZoning) + scale(OverallQual) + scale(KitchenQual) + scale(GarageCars) + scale(TotalBsmtSF) + scale(TotFlrSF) + scale(YearBuilt) + scale(FireplaceQu) + scale(YearRemodAdd) + scale(HeatingQC) + scale(BsmtFinSF1)\", data=df_all2) #scale(MasVnrArea) + scale(GrLivArea) + scale(TotRmsAbvGrd) +\n",
    "\n",
    "result_all2 = model_all2.fit()\n",
    "print(result_all2.summary())"
   ]
  },
  {
   "cell_type": "code",
   "execution_count": 60,
   "metadata": {},
   "outputs": [],
   "source": [
    "# 제출 결과 만들기\n",
    "\n",
    "# test데이터 전처리\n",
    "df_test = pd.read_csv('../test.csv')\n",
    "df_test = df_test.replace(tonum)\n",
    "for name in fill_na_ls:\n",
    "    df_test[name] = df_test[name].fillna('N')\n",
    "    \n",
    "df_test['TotFlrSF'] = df_test['1stFlrSF'] + df_test['2ndFlrSF']\n",
    "df_test = df_test.fillna(method='ffill')\n",
    "\n",
    "\n",
    "pre = pd.DataFrame(result_all2.predict(df_test))\n",
    "pre['Id']=pre.index\n",
    "pre = pre.rename(columns={0: 'SalePrice'})\n",
    "pre['Id'] = range(1461,2920)\n",
    "pre['SalePrice'] = pre['SalePrice'].apply(lambda x : np.exp(x))\n",
    "pre.to_csv('submission.csv', index=False)"
   ]
  },
  {
   "cell_type": "code",
   "execution_count": 25,
   "metadata": {
    "scrolled": true
   },
   "outputs": [
    {
     "data": {
      "text/plain": [
       "array(['Normal', 'Partial', 'Abnorml', 'Family', 'Alloca', 'AdjLand'],\n",
       "      dtype=object)"
      ]
     },
     "execution_count": 25,
     "metadata": {},
     "output_type": "execute_result"
    }
   ],
   "source": [
    "df_test['SaleCondition'].unique()"
   ]
  },
  {
   "cell_type": "code",
   "execution_count": 26,
   "metadata": {},
   "outputs": [
    {
     "data": {
      "text/plain": [
       "array(['Normal', 'Abnorml', 'Partial', 'AdjLand', 'Alloca', 'Family'],\n",
       "      dtype=object)"
      ]
     },
     "execution_count": 26,
     "metadata": {},
     "output_type": "execute_result"
    }
   ],
   "source": [
    "df_raw['SaleCondition'].unique()"
   ]
  },
  {
   "cell_type": "code",
   "execution_count": 63,
   "metadata": {},
   "outputs": [
    {
     "data": {
      "text/plain": [
       "count    1460.000000\n",
       "mean        6.099315\n",
       "std         1.382997\n",
       "min         1.000000\n",
       "25%         5.000000\n",
       "50%         6.000000\n",
       "75%         7.000000\n",
       "max        10.000000\n",
       "Name: OverallQual, dtype: float64"
      ]
     },
     "execution_count": 63,
     "metadata": {},
     "output_type": "execute_result"
    }
   ],
   "source": [
    "df_raw['OverallQual'].describe()"
   ]
  },
  {
   "cell_type": "code",
   "execution_count": 67,
   "metadata": {},
   "outputs": [
    {
     "data": {
      "text/html": [
       "<div>\n",
       "<style>\n",
       "    .dataframe thead tr:only-child th {\n",
       "        text-align: right;\n",
       "    }\n",
       "\n",
       "    .dataframe thead th {\n",
       "        text-align: left;\n",
       "    }\n",
       "\n",
       "    .dataframe tbody tr th {\n",
       "        vertical-align: top;\n",
       "    }\n",
       "</style>\n",
       "<table border=\"1\" class=\"dataframe\">\n",
       "  <thead>\n",
       "    <tr style=\"text-align: right;\">\n",
       "      <th></th>\n",
       "      <th>sum_sq</th>\n",
       "      <th>df</th>\n",
       "      <th>F</th>\n",
       "      <th>PR(&gt;F)</th>\n",
       "    </tr>\n",
       "  </thead>\n",
       "  <tbody>\n",
       "    <tr>\n",
       "      <th>scale(OverallQual ** 2)</th>\n",
       "      <td>2.969478</td>\n",
       "      <td>1.0</td>\n",
       "      <td>235.060485</td>\n",
       "      <td>4.047612e-49</td>\n",
       "    </tr>\n",
       "    <tr>\n",
       "      <th>scale(KitchenQual)</th>\n",
       "      <td>0.217114</td>\n",
       "      <td>1.0</td>\n",
       "      <td>17.186516</td>\n",
       "      <td>3.594287e-05</td>\n",
       "    </tr>\n",
       "    <tr>\n",
       "      <th>scale(GarageCars)</th>\n",
       "      <td>1.534845</td>\n",
       "      <td>1.0</td>\n",
       "      <td>121.496558</td>\n",
       "      <td>3.862681e-27</td>\n",
       "    </tr>\n",
       "    <tr>\n",
       "      <th>scale(TotalBsmtSF)</th>\n",
       "      <td>1.721327</td>\n",
       "      <td>1.0</td>\n",
       "      <td>136.258231</td>\n",
       "      <td>4.287913e-30</td>\n",
       "    </tr>\n",
       "    <tr>\n",
       "      <th>scale(TotFlrSF)</th>\n",
       "      <td>12.008661</td>\n",
       "      <td>1.0</td>\n",
       "      <td>950.591753</td>\n",
       "      <td>2.602214e-159</td>\n",
       "    </tr>\n",
       "    <tr>\n",
       "      <th>scale(BsmtQual)</th>\n",
       "      <td>0.038243</td>\n",
       "      <td>1.0</td>\n",
       "      <td>3.027264</td>\n",
       "      <td>8.209841e-02</td>\n",
       "    </tr>\n",
       "    <tr>\n",
       "      <th>scale(YearBuilt)</th>\n",
       "      <td>0.898750</td>\n",
       "      <td>1.0</td>\n",
       "      <td>71.143991</td>\n",
       "      <td>8.247094e-17</td>\n",
       "    </tr>\n",
       "    <tr>\n",
       "      <th>scale(FireplaceQu)</th>\n",
       "      <td>1.044979</td>\n",
       "      <td>1.0</td>\n",
       "      <td>82.719296</td>\n",
       "      <td>3.198783e-19</td>\n",
       "    </tr>\n",
       "    <tr>\n",
       "      <th>scale(YearRemodAdd)</th>\n",
       "      <td>0.781651</td>\n",
       "      <td>1.0</td>\n",
       "      <td>61.874625</td>\n",
       "      <td>7.325574e-15</td>\n",
       "    </tr>\n",
       "    <tr>\n",
       "      <th>scale(HeatingQC)</th>\n",
       "      <td>0.232911</td>\n",
       "      <td>1.0</td>\n",
       "      <td>18.436959</td>\n",
       "      <td>1.878637e-05</td>\n",
       "    </tr>\n",
       "    <tr>\n",
       "      <th>scale(BsmtFinSF1)</th>\n",
       "      <td>2.437105</td>\n",
       "      <td>1.0</td>\n",
       "      <td>192.918408</td>\n",
       "      <td>3.709158e-41</td>\n",
       "    </tr>\n",
       "    <tr>\n",
       "      <th>Residual</th>\n",
       "      <td>17.471200</td>\n",
       "      <td>1383.0</td>\n",
       "      <td>NaN</td>\n",
       "      <td>NaN</td>\n",
       "    </tr>\n",
       "  </tbody>\n",
       "</table>\n",
       "</div>"
      ],
      "text/plain": [
       "                            sum_sq      df           F         PR(>F)\n",
       "scale(OverallQual ** 2)   2.969478     1.0  235.060485   4.047612e-49\n",
       "scale(KitchenQual)        0.217114     1.0   17.186516   3.594287e-05\n",
       "scale(GarageCars)         1.534845     1.0  121.496558   3.862681e-27\n",
       "scale(TotalBsmtSF)        1.721327     1.0  136.258231   4.287913e-30\n",
       "scale(TotFlrSF)          12.008661     1.0  950.591753  2.602214e-159\n",
       "scale(BsmtQual)           0.038243     1.0    3.027264   8.209841e-02\n",
       "scale(YearBuilt)          0.898750     1.0   71.143991   8.247094e-17\n",
       "scale(FireplaceQu)        1.044979     1.0   82.719296   3.198783e-19\n",
       "scale(YearRemodAdd)       0.781651     1.0   61.874625   7.325574e-15\n",
       "scale(HeatingQC)          0.232911     1.0   18.436959   1.878637e-05\n",
       "scale(BsmtFinSF1)         2.437105     1.0  192.918408   3.709158e-41\n",
       "Residual                 17.471200  1383.0         NaN            NaN"
      ]
     },
     "execution_count": 67,
     "metadata": {},
     "output_type": "execute_result"
    }
   ],
   "source": [
    "sm.stats.anova_lm(result_all2, typ=2)"
   ]
  },
  {
   "cell_type": "code",
   "execution_count": null,
   "metadata": {},
   "outputs": [],
   "source": []
  }
 ],
 "metadata": {
  "kernelspec": {
   "display_name": "Python 3",
   "language": "python",
   "name": "python3"
  },
  "language_info": {
   "codemirror_mode": {
    "name": "ipython",
    "version": 3
   },
   "file_extension": ".py",
   "mimetype": "text/x-python",
   "name": "python",
   "nbconvert_exporter": "python",
   "pygments_lexer": "ipython3",
   "version": "3.5.2"
  }
 },
 "nbformat": 4,
 "nbformat_minor": 2
}
